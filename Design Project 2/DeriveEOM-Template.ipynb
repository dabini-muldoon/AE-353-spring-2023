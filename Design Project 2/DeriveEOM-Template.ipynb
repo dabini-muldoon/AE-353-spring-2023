{
 "cells": [
  {
   "cell_type": "markdown",
   "id": "occasional-george",
   "metadata": {},
   "source": [
    "# Equations of motion for segbot\n",
    "\n",
    "This notebook makes use of [SymPy](https://docs.sympy.org/), which is a Python library for symbolic mathematics."
   ]
  },
  {
   "cell_type": "code",
   "execution_count": 1,
   "id": "sitting-discount",
   "metadata": {},
   "outputs": [],
   "source": [
    "import sympy as sym\n",
    "import numpy as np\n",
    "from scipy import linalg\n",
    "from scipy import signal"
   ]
  },
  {
   "cell_type": "markdown",
   "id": "still-eclipse",
   "metadata": {},
   "source": [
    "Define physical constants, consistent with the URDF file:"
   ]
  },
  {
   "cell_type": "code",
   "execution_count": 2,
   "id": "native-parts",
   "metadata": {},
   "outputs": [],
   "source": [
    "# Dimensions of chassis\n",
    "dx = 0.4\n",
    "dy = 0.6\n",
    "dz = 0.8\n",
    "\n",
    "# Distance between axle and COM of chassis\n",
    "h = 0.3\n",
    "\n",
    "# Half-distance between wheels\n",
    "a = 0.7 / 2\n",
    "\n",
    "# Mass of chassis\n",
    "mb = 12.\n",
    "\n",
    "# MOI of chassis\n",
    "Jbx = (mb / 12) * (dy**2 + dz**2)\n",
    "Jby = (mb / 12) * (dx**2 + dz**2)\n",
    "Jbz = (mb / 12) * (dx**2 + dy**2)\n",
    "\n",
    "# Radius of each wheel\n",
    "r = 0.325\n",
    "\n",
    "# Width of each wheel\n",
    "hw = 0.075\n",
    "\n",
    "# Mass of each wheel\n",
    "mw = 1.2\n",
    "\n",
    "# MOI of each wheel\n",
    "Jw = (mw / 2) * r**2\n",
    "Jwt = (mw / 12) * (3 * r**2 + hw**2)\n",
    "\n",
    "# Total mass\n",
    "m = mb + 2 * mw\n",
    "\n",
    "# Total MOI\n",
    "Jx = Jbx + 2 * Jwt\n",
    "Jy = Jby\n",
    "Jz = Jbz + 2 * Jwt\n",
    "\n",
    "# Station parameters\n",
    "station_velocity = -0.5 # <-- FIXME (change the velocity to change gravity)\n",
    "station_radius = 20.    # <-- radius in meters of inside surface of station\n",
    "\n",
    "# Acceleration of artifical gravity\n",
    "g = station_velocity**2 * station_radius"
   ]
  },
  {
   "cell_type": "markdown",
   "id": "according-boost",
   "metadata": {},
   "source": [
    "Convert all physical constants to rational numbers:"
   ]
  },
  {
   "cell_type": "code",
   "execution_count": 3,
   "id": "environmental-mouth",
   "metadata": {},
   "outputs": [],
   "source": [
    "# Dimensions\n",
    "h = sym.nsimplify(h)\n",
    "a = sym.nsimplify(a)\n",
    "r = sym.nsimplify(r)\n",
    "\n",
    "# Masses\n",
    "mb = sym.nsimplify(mb)\n",
    "mw = sym.nsimplify(mw)\n",
    "m = sym.nsimplify(m)\n",
    "\n",
    "# MOIs\n",
    "Jx = sym.nsimplify(Jx)\n",
    "Jy = sym.nsimplify(Jy)\n",
    "Jz = sym.nsimplify(Jz)\n",
    "Jw = sym.nsimplify(Jw)\n",
    "Jwt = sym.nsimplify(Jwt)\n",
    "\n",
    "# Gravity\n",
    "g = sym.nsimplify(g)"
   ]
  },
  {
   "cell_type": "markdown",
   "id": "critical-trauma",
   "metadata": {},
   "source": [
    "Define variables (with a flag to indicate they are all real numbers — this helps simplify):"
   ]
  },
  {
   "cell_type": "code",
   "execution_count": 4,
   "id": "single-bidding",
   "metadata": {},
   "outputs": [],
   "source": [
    "(e_l,\n",
    " e_h,\n",
    " v,\n",
    " w,\n",
    " theta,\n",
    " thetadot,\n",
    " tau_R,\n",
    " tau_L) = sym.symbols('e_l, e_h, v, w, theta, thetadot, tau_R, tau_L', real=True)"
   ]
  },
  {
   "cell_type": "code",
   "execution_count": 5,
   "id": "1a7f90b9",
   "metadata": {},
   "outputs": [
    {
     "data": {
      "text/latex": [
       "$\\displaystyle \\dot{\\theta}$"
      ],
      "text/plain": [
       "thetadot"
      ]
     },
     "execution_count": 5,
     "metadata": {},
     "output_type": "execute_result"
    }
   ],
   "source": [
    "thetadot"
   ]
  },
  {
   "cell_type": "markdown",
   "id": "foster-marketplace",
   "metadata": {},
   "source": [
    "Compute equations of motion, excluding lateral and heading errors (see [Tuttle, 2014](https://docs.lib.purdue.edu/cgi/viewcontent.cgi?article=1415&context=open_access_theses)):"
   ]
  },
  {
   "cell_type": "code",
   "execution_count": 6,
   "id": "religious-fountain",
   "metadata": {},
   "outputs": [],
   "source": [
    "M = sym.Matrix([[m + 2 * Jw / r**2, 0, mb * h * sym.cos(theta)],\n",
    "                [0, (Jx + mb * h**2) * sym.sin(theta)**2 + Jz * sym.cos(theta)**2 + (2 * Jw * a**2 / r**2) + 2 * mw * a**2, 0],\n",
    "                [mb * h * sym.cos(theta), 0, Jy * mb * h**2]])\n",
    "N = sym.Matrix([[mb * h * (w**2 + thetadot**2) * sym.sin(theta)],\n",
    "                [-2 * (Jx - Jz + m * h**2) * sym.cos(theta) * sym.sin(theta) * w * thetadot - mb * h * sym.sin(theta) * v * w],\n",
    "                [(Jx - Jz + mb * h**2) * sym.cos(theta) * sym.sin(theta) * w**2 + mb * g * h * sym.sin(theta)]])\n",
    "R = sym.Matrix([[1 / r, 1 / r],\n",
    "                [-a / r, a / r],\n",
    "                [-1, -1]])\n",
    "f = sym.simplify(M.inv() * (N + R * sym.Matrix([[tau_L], [tau_R]])))"
   ]
  },
  {
   "cell_type": "code",
   "execution_count": 7,
   "id": "chief-guatemala",
   "metadata": {},
   "outputs": [
    {
     "data": {
      "text/latex": [
       "$\\displaystyle \\left[\\begin{matrix}\\frac{78}{5} & 0 & \\frac{18 \\cos{\\left(\\theta \\right)}}{5}\\\\0 & \\frac{4289 \\sin^{2}{\\left(\\theta \\right)}}{2000} + \\frac{1169 \\cos^{2}{\\left(\\theta \\right)}}{2000} + \\frac{441}{1000} & 0\\\\\\frac{18 \\cos{\\left(\\theta \\right)}}{5} & 0 & \\frac{108}{125}\\end{matrix}\\right]$"
      ],
      "text/plain": [
       "Matrix([\n",
       "[           78/5,                                                            0, 18*cos(theta)/5],\n",
       "[              0, 4289*sin(theta)**2/2000 + 1169*cos(theta)**2/2000 + 441/1000,               0],\n",
       "[18*cos(theta)/5,                                                            0,         108/125]])"
      ]
     },
     "execution_count": 7,
     "metadata": {},
     "output_type": "execute_result"
    }
   ],
   "source": [
    "M"
   ]
  },
  {
   "cell_type": "code",
   "execution_count": 8,
   "id": "former-accordance",
   "metadata": {},
   "outputs": [
    {
     "data": {
      "text/latex": [
       "$\\displaystyle \\left[\\begin{matrix}\\left(\\frac{18 \\dot{\\theta}^{2}}{5} + \\frac{18 w^{2}}{5}\\right) \\sin{\\left(\\theta \\right)}\\\\- \\frac{444 \\dot{\\theta} w \\sin{\\left(\\theta \\right)} \\cos{\\left(\\theta \\right)}}{125} - \\frac{18 v w \\sin{\\left(\\theta \\right)}}{5}\\\\\\frac{39 w^{2} \\sin{\\left(\\theta \\right)} \\cos{\\left(\\theta \\right)}}{25} + 18 \\sin{\\left(\\theta \\right)}\\end{matrix}\\right]$"
      ],
      "text/plain": [
       "Matrix([\n",
       "[                      (18*thetadot**2/5 + 18*w**2/5)*sin(theta)],\n",
       "[-444*thetadot*w*sin(theta)*cos(theta)/125 - 18*v*w*sin(theta)/5],\n",
       "[               39*w**2*sin(theta)*cos(theta)/25 + 18*sin(theta)]])"
      ]
     },
     "execution_count": 8,
     "metadata": {},
     "output_type": "execute_result"
    }
   ],
   "source": [
    "N"
   ]
  },
  {
   "cell_type": "code",
   "execution_count": 9,
   "id": "liquid-algeria",
   "metadata": {},
   "outputs": [
    {
     "data": {
      "text/latex": [
       "$\\displaystyle \\left[\\begin{matrix}\\frac{40}{13} & \\frac{40}{13}\\\\- \\frac{14}{13} & \\frac{14}{13}\\\\-1 & -1\\end{matrix}\\right]$"
      ],
      "text/plain": [
       "Matrix([\n",
       "[ 40/13, 40/13],\n",
       "[-14/13, 14/13],\n",
       "[    -1,    -1]])"
      ]
     },
     "execution_count": 9,
     "metadata": {},
     "output_type": "execute_result"
    }
   ],
   "source": [
    "R"
   ]
  },
  {
   "cell_type": "code",
   "execution_count": 10,
   "id": "3c853754",
   "metadata": {},
   "outputs": [
    {
     "data": {
      "text/latex": [
       "$\\displaystyle \\left[\\begin{matrix}- \\frac{1200 \\tau_{L} + 1200 \\tau_{R} + 1404 \\left(\\dot{\\theta}^{2} + w^{2}\\right) \\sin{\\left(\\theta \\right)} + \\frac{65 \\cdot \\left(50 \\tau_{L} + 50 \\tau_{R} - 39 w^{2} \\sin{\\left(2 \\theta \\right)} - 900 \\sin{\\left(\\theta \\right)}\\right) \\cos{\\left(\\theta \\right)}}{2}}{5850 \\cos^{2}{\\left(\\theta \\right)} - 6084}\\\\\\frac{32 \\left(- 875 \\tau_{L} + 875 \\tau_{R} - 1443 \\dot{\\theta} w \\sin{\\left(2 \\theta \\right)} - 2925 v w \\sin{\\left(\\theta \\right)}\\right)}{13 \\cdot \\left(3120 \\sin^{2}{\\left(\\theta \\right)} + 2051\\right)}\\\\\\frac{5 \\cdot \\left(4225 \\tau_{L} + 4225 \\tau_{R} - \\frac{6591 w^{2} \\sin{\\left(2 \\theta \\right)}}{2} + 30 \\cdot \\left(100 \\tau_{L} + 100 \\tau_{R} + 117 \\left(\\dot{\\theta}^{2} + w^{2}\\right) \\sin{\\left(\\theta \\right)}\\right) \\cos{\\left(\\theta \\right)} - 76050 \\sin{\\left(\\theta \\right)}\\right)}{702 \\cdot \\left(25 \\cos^{2}{\\left(\\theta \\right)} - 26\\right)}\\end{matrix}\\right]$"
      ],
      "text/plain": [
       "Matrix([\n",
       "[        -(1200*tau_L + 1200*tau_R + 1404*(thetadot**2 + w**2)*sin(theta) + 65*(50*tau_L + 50*tau_R - 39*w**2*sin(2*theta) - 900*sin(theta))*cos(theta)/2)/(5850*cos(theta)**2 - 6084)],\n",
       "[                                                                    32*(-875*tau_L + 875*tau_R - 1443*thetadot*w*sin(2*theta) - 2925*v*w*sin(theta))/(13*(3120*sin(theta)**2 + 2051))],\n",
       "[5*(4225*tau_L + 4225*tau_R - 6591*w**2*sin(2*theta)/2 + 30*(100*tau_L + 100*tau_R + 117*(thetadot**2 + w**2)*sin(theta))*cos(theta) - 76050*sin(theta))/(702*(25*cos(theta)**2 - 26))]])"
      ]
     },
     "execution_count": 10,
     "metadata": {},
     "output_type": "execute_result"
    }
   ],
   "source": [
    "f"
   ]
  },
  {
   "cell_type": "markdown",
   "id": "offensive-example",
   "metadata": {},
   "source": [
    "Compute full equations of motion:"
   ]
  },
  {
   "cell_type": "code",
   "execution_count": 11,
   "id": "recreational-termination",
   "metadata": {},
   "outputs": [],
   "source": [
    "f = sym.Matrix([[v * sym.sin(e_h)],\n",
    "                [w],\n",
    "                [f]])"
   ]
  },
  {
   "cell_type": "markdown",
   "id": "korean-animal",
   "metadata": {},
   "source": [
    "Display the vector-valued function $f$ for which the equations of motion can be written as\n",
    "\n",
    "$$\\begin{bmatrix} \\dot{e}_\\text{lateral} \\\\ \\dot{e}_\\text{heading} \\\\ \\dot{v} \\\\ \\dot{w} \\\\ \\ddot{\\theta} \\end{bmatrix} = f(e_\\text{lateral}, e_\\text{heading}, v, w, \\theta, \\dot{\\theta}, \\tau_R, \\tau_L)$$"
   ]
  },
  {
   "cell_type": "code",
   "execution_count": 12,
   "id": "declared-lottery",
   "metadata": {},
   "outputs": [
    {
     "data": {
      "text/latex": [
       "$\\displaystyle \\left[\\begin{matrix}v \\sin{\\left(e_{h} \\right)}\\\\w\\\\- \\frac{1200 \\tau_{L} + 1200 \\tau_{R} + 1404 \\left(\\dot{\\theta}^{2} + w^{2}\\right) \\sin{\\left(\\theta \\right)} + \\frac{65 \\cdot \\left(50 \\tau_{L} + 50 \\tau_{R} - 39 w^{2} \\sin{\\left(2 \\theta \\right)} - 900 \\sin{\\left(\\theta \\right)}\\right) \\cos{\\left(\\theta \\right)}}{2}}{5850 \\cos^{2}{\\left(\\theta \\right)} - 6084}\\\\\\frac{32 \\left(- 875 \\tau_{L} + 875 \\tau_{R} - 1443 \\dot{\\theta} w \\sin{\\left(2 \\theta \\right)} - 2925 v w \\sin{\\left(\\theta \\right)}\\right)}{13 \\cdot \\left(3120 \\sin^{2}{\\left(\\theta \\right)} + 2051\\right)}\\\\\\frac{5 \\cdot \\left(4225 \\tau_{L} + 4225 \\tau_{R} - \\frac{6591 w^{2} \\sin{\\left(2 \\theta \\right)}}{2} + 30 \\cdot \\left(100 \\tau_{L} + 100 \\tau_{R} + 117 \\left(\\dot{\\theta}^{2} + w^{2}\\right) \\sin{\\left(\\theta \\right)}\\right) \\cos{\\left(\\theta \\right)} - 76050 \\sin{\\left(\\theta \\right)}\\right)}{702 \\cdot \\left(25 \\cos^{2}{\\left(\\theta \\right)} - 26\\right)}\\end{matrix}\\right]$"
      ],
      "text/plain": [
       "Matrix([\n",
       "[                                                                                                                                                                           v*sin(e_h)],\n",
       "[                                                                                                                                                                                    w],\n",
       "[        -(1200*tau_L + 1200*tau_R + 1404*(thetadot**2 + w**2)*sin(theta) + 65*(50*tau_L + 50*tau_R - 39*w**2*sin(2*theta) - 900*sin(theta))*cos(theta)/2)/(5850*cos(theta)**2 - 6084)],\n",
       "[                                                                    32*(-875*tau_L + 875*tau_R - 1443*thetadot*w*sin(2*theta) - 2925*v*w*sin(theta))/(13*(3120*sin(theta)**2 + 2051))],\n",
       "[5*(4225*tau_L + 4225*tau_R - 6591*w**2*sin(2*theta)/2 + 30*(100*tau_L + 100*tau_R + 117*(thetadot**2 + w**2)*sin(theta))*cos(theta) - 76050*sin(theta))/(702*(25*cos(theta)**2 - 26))]])"
      ]
     },
     "execution_count": 12,
     "metadata": {},
     "output_type": "execute_result"
    }
   ],
   "source": [
    "f"
   ]
  },
  {
   "cell_type": "markdown",
   "id": "ranging-permit",
   "metadata": {},
   "source": [
    "Note that one of these ODEs is second-order — you will have to replace this with a set of two first-order ODEs, as usual."
   ]
  },
  {
   "cell_type": "code",
   "execution_count": 13,
   "id": "fb837b0d",
   "metadata": {},
   "outputs": [
    {
     "data": {
      "text/latex": [
       "$\\displaystyle v \\sin{\\left(e_{h} \\right)}$"
      ],
      "text/plain": [
       "v*sin(e_h)"
      ]
     },
     "execution_count": 13,
     "metadata": {},
     "output_type": "execute_result"
    }
   ],
   "source": [
    "f[0]"
   ]
  },
  {
   "cell_type": "code",
   "execution_count": 14,
   "id": "0de11c0f",
   "metadata": {},
   "outputs": [
    {
     "data": {
      "text/latex": [
       "$\\displaystyle w$"
      ],
      "text/plain": [
       "w"
      ]
     },
     "execution_count": 14,
     "metadata": {},
     "output_type": "execute_result"
    }
   ],
   "source": [
    "f[1]"
   ]
  },
  {
   "cell_type": "code",
   "execution_count": 15,
   "id": "38b2ec17",
   "metadata": {},
   "outputs": [
    {
     "data": {
      "text/latex": [
       "$\\displaystyle - \\frac{1200 \\tau_{L} + 1200 \\tau_{R} + 1404 \\left(\\dot{\\theta}^{2} + w^{2}\\right) \\sin{\\left(\\theta \\right)} + \\frac{65 \\cdot \\left(50 \\tau_{L} + 50 \\tau_{R} - 39 w^{2} \\sin{\\left(2 \\theta \\right)} - 900 \\sin{\\left(\\theta \\right)}\\right) \\cos{\\left(\\theta \\right)}}{2}}{5850 \\cos^{2}{\\left(\\theta \\right)} - 6084}$"
      ],
      "text/plain": [
       "-(1200*tau_L + 1200*tau_R + 1404*(thetadot**2 + w**2)*sin(theta) + 65*(50*tau_L + 50*tau_R - 39*w**2*sin(2*theta) - 900*sin(theta))*cos(theta)/2)/(5850*cos(theta)**2 - 6084)"
      ]
     },
     "execution_count": 15,
     "metadata": {},
     "output_type": "execute_result"
    }
   ],
   "source": [
    "f[2]"
   ]
  },
  {
   "cell_type": "code",
   "execution_count": 16,
   "id": "1bd80646",
   "metadata": {},
   "outputs": [
    {
     "data": {
      "text/latex": [
       "$\\displaystyle \\frac{32 \\left(- 875 \\tau_{L} + 875 \\tau_{R} - 1443 \\dot{\\theta} w \\sin{\\left(2 \\theta \\right)} - 2925 v w \\sin{\\left(\\theta \\right)}\\right)}{13 \\cdot \\left(3120 \\sin^{2}{\\left(\\theta \\right)} + 2051\\right)}$"
      ],
      "text/plain": [
       "32*(-875*tau_L + 875*tau_R - 1443*thetadot*w*sin(2*theta) - 2925*v*w*sin(theta))/(13*(3120*sin(theta)**2 + 2051))"
      ]
     },
     "execution_count": 16,
     "metadata": {},
     "output_type": "execute_result"
    }
   ],
   "source": [
    "f[3]"
   ]
  },
  {
   "cell_type": "code",
   "execution_count": 17,
   "id": "7a81f604",
   "metadata": {},
   "outputs": [
    {
     "data": {
      "text/latex": [
       "$\\displaystyle \\frac{5 \\cdot \\left(4225 \\tau_{L} + 4225 \\tau_{R} - \\frac{6591 w^{2} \\sin{\\left(2 \\theta \\right)}}{2} + 30 \\cdot \\left(100 \\tau_{L} + 100 \\tau_{R} + 117 \\left(\\dot{\\theta}^{2} + w^{2}\\right) \\sin{\\left(\\theta \\right)}\\right) \\cos{\\left(\\theta \\right)} - 76050 \\sin{\\left(\\theta \\right)}\\right)}{702 \\cdot \\left(25 \\cos^{2}{\\left(\\theta \\right)} - 26\\right)}$"
      ],
      "text/plain": [
       "5*(4225*tau_L + 4225*tau_R - 6591*w**2*sin(2*theta)/2 + 30*(100*tau_L + 100*tau_R + 117*(thetadot**2 + w**2)*sin(theta))*cos(theta) - 76050*sin(theta))/(702*(25*cos(theta)**2 - 26))"
      ]
     },
     "execution_count": 17,
     "metadata": {},
     "output_type": "execute_result"
    }
   ],
   "source": [
    "f[4]"
   ]
  },
  {
   "cell_type": "code",
   "execution_count": 18,
   "id": "23926585",
   "metadata": {},
   "outputs": [],
   "source": [
    "phi, phidot = sym.symbols('phi, phidot')"
   ]
  },
  {
   "cell_type": "code",
   "execution_count": 19,
   "id": "8f9ea867",
   "metadata": {},
   "outputs": [
    {
     "data": {
      "text/latex": [
       "$\\displaystyle \\dot{\\phi}$"
      ],
      "text/plain": [
       "phidot"
      ]
     },
     "execution_count": 19,
     "metadata": {},
     "output_type": "execute_result"
    }
   ],
   "source": [
    "phidot"
   ]
  },
  {
   "cell_type": "code",
   "execution_count": 25,
   "id": "81a0d007",
   "metadata": {},
   "outputs": [
    {
     "data": {
      "text/plain": [
       "(Matrix([\n",
       " [                                                                                                                                                                           v*sin(e_h)],\n",
       " [                                                                                                                                                                                    w],\n",
       " [        -(1200*tau_L + 1200*tau_R + 1404*(thetadot**2 + w**2)*sin(theta) + 65*(50*tau_L + 50*tau_R - 39*w**2*sin(2*theta) - 900*sin(theta))*cos(theta)/2)/(5850*cos(theta)**2 - 6084)],\n",
       " [                                                                    32*(-875*tau_L + 875*tau_R - 1443*thetadot*w*sin(2*theta) - 2925*v*w*sin(theta))/(13*(3120*sin(theta)**2 + 2051))],\n",
       " [                                                                                                                                                                                  phi],\n",
       " [5*(4225*tau_L + 4225*tau_R - 6591*w**2*sin(2*theta)/2 + 30*(100*tau_L + 100*tau_R + 117*(thetadot**2 + w**2)*sin(theta))*cos(theta) - 76050*sin(theta))/(702*(25*cos(theta)**2 - 26))]]),\n",
       " (6, 1))"
      ]
     },
     "execution_count": 25,
     "metadata": {},
     "output_type": "execute_result"
    }
   ],
   "source": [
    "fnew = sym.Matrix([[f[0]], [f[1]], [f[2]], [f[3]], [phi], [f[4]]])\n",
    "\n",
    "fnew, fnew.shape"
   ]
  },
  {
   "cell_type": "code",
   "execution_count": 44,
   "id": "d0e4cef4",
   "metadata": {},
   "outputs": [
    {
     "data": {
      "text/latex": [
       "$\\displaystyle \\left[\\begin{matrix}v \\sin{\\left(e_{h} \\right)}\\\\w\\\\- \\frac{1200 \\tau_{L} + 1200 \\tau_{R} + 1404 \\left(\\dot{\\theta}^{2} + w^{2}\\right) \\sin{\\left(\\theta \\right)} + \\frac{65 \\cdot \\left(50 \\tau_{L} + 50 \\tau_{R} - 39 w^{2} \\sin{\\left(2 \\theta \\right)} - 900 \\sin{\\left(\\theta \\right)}\\right) \\cos{\\left(\\theta \\right)}}{2}}{5850 \\cos^{2}{\\left(\\theta \\right)} - 6084}\\\\\\frac{32 \\left(- 875 \\tau_{L} + 875 \\tau_{R} - 1443 \\dot{\\theta} w \\sin{\\left(2 \\theta \\right)} - 2925 v w \\sin{\\left(\\theta \\right)}\\right)}{13 \\cdot \\left(3120 \\sin^{2}{\\left(\\theta \\right)} + 2051\\right)}\\\\\\phi\\\\\\frac{5 \\cdot \\left(4225 \\tau_{L} + 4225 \\tau_{R} - \\frac{6591 w^{2} \\sin{\\left(2 \\theta \\right)}}{2} + 30 \\cdot \\left(100 \\tau_{L} + 100 \\tau_{R} + 117 \\left(\\dot{\\theta}^{2} + w^{2}\\right) \\sin{\\left(\\theta \\right)}\\right) \\cos{\\left(\\theta \\right)} - 76050 \\sin{\\left(\\theta \\right)}\\right)}{702 \\cdot \\left(25 \\cos^{2}{\\left(\\theta \\right)} - 26\\right)}\\end{matrix}\\right]$"
      ],
      "text/plain": [
       "Matrix([\n",
       "[                                                                                                                                                                           v*sin(e_h)],\n",
       "[                                                                                                                                                                                    w],\n",
       "[        -(1200*tau_L + 1200*tau_R + 1404*(thetadot**2 + w**2)*sin(theta) + 65*(50*tau_L + 50*tau_R - 39*w**2*sin(2*theta) - 900*sin(theta))*cos(theta)/2)/(5850*cos(theta)**2 - 6084)],\n",
       "[                                                                    32*(-875*tau_L + 875*tau_R - 1443*thetadot*w*sin(2*theta) - 2925*v*w*sin(theta))/(13*(3120*sin(theta)**2 + 2051))],\n",
       "[                                                                                                                                                                                  phi],\n",
       "[5*(4225*tau_L + 4225*tau_R - 6591*w**2*sin(2*theta)/2 + 30*(100*tau_L + 100*tau_R + 117*(thetadot**2 + w**2)*sin(theta))*cos(theta) - 76050*sin(theta))/(702*(25*cos(theta)**2 - 26))]])"
      ]
     },
     "execution_count": 44,
     "metadata": {},
     "output_type": "execute_result"
    }
   ],
   "source": [
    "fnew"
   ]
  },
  {
   "cell_type": "markdown",
   "id": "e8afb0ea",
   "metadata": {},
   "source": [
    "## Equilibrium Point Finding"
   ]
  },
  {
   "cell_type": "code",
   "execution_count": 26,
   "id": "0b39d94e",
   "metadata": {},
   "outputs": [],
   "source": [
    "taul, taur = sym.symbols('taul, taur')"
   ]
  },
  {
   "cell_type": "code",
   "execution_count": 27,
   "id": "90637e9a",
   "metadata": {},
   "outputs": [
    {
     "ename": "NameError",
     "evalue": "name 'vdot' is not defined",
     "output_type": "error",
     "traceback": [
      "\u001b[1;31m---------------------------------------------------------------------------\u001b[0m",
      "\u001b[1;31mNameError\u001b[0m                                 Traceback (most recent call last)",
      "Cell \u001b[1;32mIn[27], line 9\u001b[0m\n\u001b[0;32m      6\u001b[0m dotw_eq \u001b[38;5;241m=\u001b[39m sym\u001b[38;5;241m.\u001b[39mEq(dotw, \u001b[38;5;241m0\u001b[39m)\n\u001b[0;32m      7\u001b[0m dotphi_eq \u001b[38;5;241m=\u001b[39m sym\u001b[38;5;241m.\u001b[39mEq(dotphi, \u001b[38;5;241m0\u001b[39m)\n\u001b[1;32m----> 9\u001b[0m solved \u001b[38;5;241m=\u001b[39m sym\u001b[38;5;241m.\u001b[39msolve((\u001b[43mvdot\u001b[49m, wdot, dottheta), (taul, taur))\n\u001b[0;32m     10\u001b[0m solved\n",
      "\u001b[1;31mNameError\u001b[0m: name 'vdot' is not defined"
     ]
    }
   ],
   "source": [
    "dotv = (-2400*taul + 2400*taur + 65*(50*taul + 50*taur)) / (11700-12168)\n",
    "dotw = (32*(-875*taul + 875*taur)) / (13*2051)\n",
    "dotphi = (5*(8450*taul + 8450*taur+60*(100*taul + 100*taur))) / (1404*(25-26))\n",
    "\n",
    "dotv_eq = sym.Eq(dotv, 0)\n",
    "dotw_eq = sym.Eq(dotw, 0)\n",
    "dotphi_eq = sym.Eq(dotphi, 0)\n",
    "\n",
    "solved = sym.solve((vdot, wdot, dottheta), (taul, taur))\n",
    "solved"
   ]
  },
  {
   "cell_type": "code",
   "execution_count": 52,
   "id": "fa684446",
   "metadata": {},
   "outputs": [],
   "source": [
    "e_le = 0\n",
    "e_he = 0 # angle\n",
    "ve = 2\n",
    "we = 0\n",
    "phie = 0 # angle\n",
    "phidote = 0\n",
    "tau_Re = 0\n",
    "tau_Le = 0"
   ]
  },
  {
   "cell_type": "markdown",
   "id": "50109b27",
   "metadata": {},
   "source": [
    "## A, B Values"
   ]
  },
  {
   "cell_type": "code",
   "execution_count": 53,
   "id": "693b6cb6",
   "metadata": {},
   "outputs": [
    {
     "data": {
      "text/plain": [
       "(array([[   0.        ,    2.        ,    0.        ,    0.        ,\n",
       "            0.        ,    0.        ],\n",
       "        [   0.        ,    0.        ,    0.        ,    1.        ,\n",
       "            0.        ,    0.        ],\n",
       "        [   0.        ,    0.        ,    0.        ,    0.        ,\n",
       "         -125.        ,   -0.        ],\n",
       "        [   0.        ,    0.        ,    0.        ,    0.        ,\n",
       "            0.        ,    0.        ],\n",
       "        [   0.        ,    0.        ,    0.        ,    0.        ,\n",
       "            0.        ,    0.        ],\n",
       "        [   0.        ,    0.        ,    0.        ,   -0.        ,\n",
       "          541.66666667,   -0.        ]]),\n",
       " array([[  0.        ,   0.        ],\n",
       "        [  0.        ,   0.        ],\n",
       "        [ 12.07264957,  12.07264957],\n",
       "        [ -1.05014439,   1.05014439],\n",
       "        [  0.        ,   0.        ],\n",
       "        [-51.46011396, -51.46011396]]))"
      ]
     },
     "execution_count": 53,
     "metadata": {},
     "output_type": "execute_result"
    }
   ],
   "source": [
    "A_num = sym.lambdify((e_l,e_h, v, w, theta, thetadot, tau_L, tau_R), fnew.jacobian([e_l, e_h, v, w, theta, thetadot]))\n",
    "B_num = sym.lambdify((e_l,e_h, v, w, theta, thetadot, tau_L, tau_R), fnew.jacobian([tau_L, tau_R]))\n",
    "\n",
    "A = A_num(e_le, e_he, ve, we, phie, phidote, tau_Re, tau_Le)\n",
    "B = B_num(e_le, e_he, ve, we, phie, phidote, tau_Re, tau_Le)\n",
    "\n",
    "A = A.astype(float)\n",
    "B = B.astype(float)\n",
    "\n",
    "A, B"
   ]
  },
  {
   "cell_type": "code",
   "execution_count": 42,
   "id": "66464ef4",
   "metadata": {},
   "outputs": [
    {
     "data": {
      "text/plain": [
       "((6, 6), (6, 2))"
      ]
     },
     "execution_count": 42,
     "metadata": {},
     "output_type": "execute_result"
    }
   ],
   "source": [
    "A.shape, B.shape"
   ]
  },
  {
   "cell_type": "markdown",
   "id": "278af1e3",
   "metadata": {},
   "source": [
    "## Finding K Value (A: 5x6, B:5x2), deprecated"
   ]
  },
  {
   "cell_type": "code",
   "execution_count": 43,
   "id": "97c21cfa",
   "metadata": {},
   "outputs": [
    {
     "name": "stdout",
     "output_type": "stream",
     "text": [
      "500,000 attempts\n",
      "1,000,000 attempts\n",
      "2,000,000 attempts\n",
      "3,000,000 attempts\n",
      "4,000,000 attempts\n",
      "5,000,000 attempts\n",
      "6,000,000 attempts\n",
      "7,000,000 attempts\n",
      "8,000,000 attempts\n",
      "9,000,000 attempts\n",
      "20,000,000 attempts\n"
     ]
    },
    {
     "ename": "KeyboardInterrupt",
     "evalue": "",
     "output_type": "error",
     "traceback": [
      "\u001b[1;31m---------------------------------------------------------------------------\u001b[0m",
      "\u001b[1;31mKeyboardInterrupt\u001b[0m                         Traceback (most recent call last)",
      "Cell \u001b[1;32mIn[43], line 49\u001b[0m\n\u001b[0;32m     47\u001b[0m m \u001b[38;5;241m=\u001b[39m random\u001b[38;5;241m.\u001b[39muniform(\u001b[38;5;241m-\u001b[39m\u001b[38;5;241m5\u001b[39m,\u001b[38;5;241m5\u001b[39m)\n\u001b[0;32m     48\u001b[0m k \u001b[38;5;241m=\u001b[39m np\u001b[38;5;241m.\u001b[39marray([[a, b, c, d, e, f], [g, h, i, j, l, m]])\n\u001b[1;32m---> 49\u001b[0m vals \u001b[38;5;241m=\u001b[39m \u001b[43mnp\u001b[49m\u001b[38;5;241;43m.\u001b[39;49m\u001b[43mlinalg\u001b[49m\u001b[38;5;241;43m.\u001b[39;49m\u001b[43meigvals\u001b[49m\u001b[43m(\u001b[49m\u001b[43mA\u001b[49m\u001b[38;5;241;43m-\u001b[39;49m\u001b[43mB\u001b[49m\u001b[38;5;129;43m@k\u001b[39;49m\u001b[43m)\u001b[49m\n\u001b[0;32m     50\u001b[0m \u001b[38;5;28;01mif\u001b[39;00m (vals[\u001b[38;5;241m0\u001b[39m] \u001b[38;5;241m<\u001b[39m \u001b[38;5;241m0\u001b[39m \u001b[38;5;129;01mand\u001b[39;00m vals[\u001b[38;5;241m1\u001b[39m] \u001b[38;5;241m<\u001b[39m \u001b[38;5;241m0\u001b[39m \u001b[38;5;129;01mand\u001b[39;00m vals[\u001b[38;5;241m2\u001b[39m] \u001b[38;5;241m<\u001b[39m \u001b[38;5;241m0\u001b[39m \u001b[38;5;129;01mand\u001b[39;00m vals[\u001b[38;5;241m3\u001b[39m] \u001b[38;5;241m<\u001b[39m \u001b[38;5;241m0\u001b[39m \u001b[38;5;129;01mand\u001b[39;00m vals[\u001b[38;5;241m4\u001b[39m] \u001b[38;5;241m<\u001b[39m \u001b[38;5;241m0\u001b[39m \u001b[38;5;129;01mand\u001b[39;00m vals[\u001b[38;5;241m5\u001b[39m] \u001b[38;5;241m<\u001b[39m \u001b[38;5;241m0\u001b[39m):\n\u001b[0;32m     51\u001b[0m     check \u001b[38;5;241m=\u001b[39m \u001b[38;5;28;01mFalse\u001b[39;00m\n",
      "File \u001b[1;32m<__array_function__ internals>:180\u001b[0m, in \u001b[0;36meigvals\u001b[1;34m(*args, **kwargs)\u001b[0m\n",
      "File \u001b[1;32m~\\anaconda3\\envs\\ae353\\Lib\\site-packages\\numpy\\linalg\\linalg.py:465\u001b[0m, in \u001b[0;36m_unary_dispatcher\u001b[1;34m(a)\u001b[0m\n\u001b[0;32m    460\u001b[0m     \u001b[38;5;28;01mreturn\u001b[39;00m ia\u001b[38;5;241m.\u001b[39mreshape(\u001b[38;5;241m*\u001b[39minvshape)\n\u001b[0;32m    463\u001b[0m \u001b[38;5;66;03m# Matrix inversion\u001b[39;00m\n\u001b[1;32m--> 465\u001b[0m \u001b[38;5;28;01mdef\u001b[39;00m \u001b[38;5;21m_unary_dispatcher\u001b[39m(a):\n\u001b[0;32m    466\u001b[0m     \u001b[38;5;28;01mreturn\u001b[39;00m (a,)\n\u001b[0;32m    469\u001b[0m \u001b[38;5;129m@array_function_dispatch\u001b[39m(_unary_dispatcher)\n\u001b[0;32m    470\u001b[0m \u001b[38;5;28;01mdef\u001b[39;00m \u001b[38;5;21minv\u001b[39m(a):\n",
      "\u001b[1;31mKeyboardInterrupt\u001b[0m: "
     ]
    }
   ],
   "source": [
    "## F = A - B@K, K: 2x6 matrix\n",
    "\n",
    "import random\n",
    "\n",
    "check = True\n",
    "k = np.array([[0, 0, 0, 0, 0, 0], [0, 0, 0, 0, 0, 0]])\n",
    "attempts = 0\n",
    "while check:\n",
    "    if (attempts == 500000):\n",
    "        print(\"500,000 attempts\")\n",
    "    elif (attempts == 1000000):\n",
    "        print(\"1,000,000 attempts\")\n",
    "    elif (attempts == 2000000):\n",
    "        print(\"2,000,000 attempts\")\n",
    "    elif (attempts == 3000000):\n",
    "        print(\"3,000,000 attempts\")\n",
    "    elif (attempts == 4000000):\n",
    "        print(\"4,000,000 attempts\")\n",
    "    elif (attempts == 5000000):\n",
    "        print(\"5,000,000 attempts\")\n",
    "    elif (attempts == 6000000):\n",
    "        print(\"6,000,000 attempts\")\n",
    "    elif (attempts == 7000000):\n",
    "        print(\"7,000,000 attempts\")\n",
    "    elif (attempts == 8000000):\n",
    "        print(\"8,000,000 attempts\")\n",
    "    elif (attempts == 9000000):\n",
    "        print(\"9,000,000 attempts\")\n",
    "    elif (attempts == 20000000):\n",
    "        print(\"20,000,000 attempts\")\n",
    "    elif (attempts == 50000000):\n",
    "        print(\"50,000,000 attempts\")\n",
    "    elif (attempts == 100000000):\n",
    "        print(\"100,000,000 attempts\")\n",
    "        \n",
    "    a = random.uniform(-5,5)\n",
    "    b = random.uniform(-5,5)\n",
    "    c = random.uniform(-5,5)\n",
    "    d = random.uniform(-5,5)\n",
    "    e = random.uniform(-5,5)\n",
    "    f = random.uniform(-5,5)\n",
    "    g = random.uniform(-5,5)\n",
    "    h = random.uniform(-5,5)\n",
    "    i = random.uniform(-5,5)\n",
    "    j = random.uniform(-5,5)\n",
    "    l = random.uniform(-5,5)\n",
    "    m = random.uniform(-5,5)\n",
    "    k = np.array([[a, b, c, d, e, f], [g, h, i, j, l, m]])\n",
    "    vals = np.linalg.eigvals(A-B@k)\n",
    "    if (vals[0] < 0 and vals[1] < 0 and vals[2] < 0 and vals[3] < 0 and vals[4] < 0 and vals[5] < 0):\n",
    "        check = False\n",
    "    attempts += 1\n",
    "print(k)\n",
    "print(np.linalg.eigvals(A-B@k))\n"
   ]
  },
  {
   "cell_type": "markdown",
   "id": "5af922b6",
   "metadata": {},
   "source": [
    "## Finding K the Right Way"
   ]
  },
  {
   "cell_type": "code",
   "execution_count": 61,
   "id": "c90d61dd",
   "metadata": {},
   "outputs": [],
   "source": [
    "A[4][5] = 1"
   ]
  },
  {
   "cell_type": "code",
   "execution_count": 63,
   "id": "0081d70d",
   "metadata": {},
   "outputs": [
    {
     "data": {
      "text/plain": [
       "(Matrix([\n",
       " [0, 2.0, 0,   0,                0,   0],\n",
       " [0,   0, 0, 1.0,                0,   0],\n",
       " [0,   0, 0,   0,           -125.0,   0],\n",
       " [0,   0, 0,   0,                0,   0],\n",
       " [0,   0, 0,   0,                0, 1.0],\n",
       " [0,   0, 0,   0, 541.666666666667,   0]]),\n",
       " Matrix([\n",
       " [                0,                0],\n",
       " [                0,                0],\n",
       " [ 12.0726495726496, 12.0726495726496],\n",
       " [-1.05014439485429, 1.05014439485429],\n",
       " [                0,                0],\n",
       " [ -51.460113960114, -51.460113960114]]))"
      ]
     },
     "execution_count": 63,
     "metadata": {},
     "output_type": "execute_result"
    }
   ],
   "source": [
    "Am = sym.Matrix(A)\n",
    "Bm = sym.Matrix(B)\n",
    "\n",
    "Am, Bm"
   ]
  },
  {
   "cell_type": "code",
   "execution_count": 68,
   "id": "35c3ac53",
   "metadata": {},
   "outputs": [
    {
     "data": {
      "text/plain": [
       "array([[-52.48457626, -60.38127491,   8.77676097,  -9.83007396,\n",
       "          1.58509775,   2.54172409],\n",
       "       [ 52.90443651,  60.70596679,  -9.28829845,   9.85713386,\n",
       "        -13.33220012,  -2.95954675]])"
      ]
     },
     "execution_count": 68,
     "metadata": {},
     "output_type": "execute_result"
    }
   ],
   "source": [
    "p = [-1, -3, -5, -7, -9, -11]\n",
    "\n",
    "K = signal.place_poles(A, B, p).gain_matrix\n",
    "K"
   ]
  },
  {
   "cell_type": "code",
   "execution_count": 69,
   "id": "fe128b73",
   "metadata": {},
   "outputs": [],
   "source": [
    "def lqr(A, B, Q, R):\n",
    "    P = linalg.solve_continuous_are(A, B, Q, R)\n",
    "    K = linalg.inv(R) @ B.T @ P\n",
    "    return K, P"
   ]
  },
  {
   "cell_type": "markdown",
   "id": "2ab76d93",
   "metadata": {},
   "source": [
    "## Q Matrix, R Matrix Depiction"
   ]
  },
  {
   "cell_type": "code",
   "execution_count": 72,
   "id": "3f3abffc",
   "metadata": {},
   "outputs": [
    {
     "data": {
      "text/latex": [
       "$\\displaystyle \\left[\\begin{matrix}Q_{1} & 0 & 0 & 0 & 0 & 0\\\\0 & Q_{2} & 0 & 0 & 0 & 0\\\\0 & 0 & Q_{3} & 0 & 0 & 0\\\\0 & 0 & 0 & Q_{4} & 0 & 0\\\\0 & 0 & 0 & 0 & Q_{5} & 0\\\\0 & 0 & 0 & 0 & 0 & Q_{6}\\end{matrix}\\right]$"
      ],
      "text/plain": [
       "Matrix([\n",
       "[Q_1,   0,   0,   0,   0,   0],\n",
       "[  0, Q_2,   0,   0,   0,   0],\n",
       "[  0,   0, Q_3,   0,   0,   0],\n",
       "[  0,   0,   0, Q_4,   0,   0],\n",
       "[  0,   0,   0,   0, Q_5,   0],\n",
       "[  0,   0,   0,   0,   0, Q_6]])"
      ]
     },
     "execution_count": 72,
     "metadata": {},
     "output_type": "execute_result"
    }
   ],
   "source": [
    "q1, q2, q3, q4, q5, q6 = sym.symbols('Q_1, Q_2, Q_3, Q_4, Q_5, Q_6')\n",
    "Qs = np.diag([q1, q2, q3, q4, q5, q6])\n",
    "Qs = sym.Matrix(Qs)\n",
    "Qs"
   ]
  },
  {
   "cell_type": "code",
   "execution_count": 80,
   "id": "d47e0874",
   "metadata": {},
   "outputs": [],
   "source": [
    "Q = np.diag([100, 500, 100, 5000, 5000, 1000])\n",
    "R = np.eye(2)"
   ]
  },
  {
   "cell_type": "code",
   "execution_count": 81,
   "id": "1ec144a5",
   "metadata": {},
   "outputs": [
    {
     "data": {
      "text/plain": [
       "(array([[ 100,    0,    0,    0,    0,    0],\n",
       "        [   0,  500,    0,    0,    0,    0],\n",
       "        [   0,    0,  100,    0,    0,    0],\n",
       "        [   0,    0,    0, 5000,    0,    0],\n",
       "        [   0,    0,    0,    0, 5000,    0],\n",
       "        [   0,    0,    0,    0,    0, 1000]]),\n",
       " array([[1., 0.],\n",
       "        [0., 1.]]))"
      ]
     },
     "execution_count": 81,
     "metadata": {},
     "output_type": "execute_result"
    }
   ],
   "source": [
    "Q, R"
   ]
  },
  {
   "cell_type": "code",
   "execution_count": 82,
   "id": "ed65b316",
   "metadata": {},
   "outputs": [
    {
     "data": {
      "text/plain": [
       "(array([[ -7.07106781, -40.92914195,  -7.07106781, -50.38824045,\n",
       "         -62.14467654, -24.10793026],\n",
       "        [  7.07106781,  40.92914195,  -7.07106781,  50.38824045,\n",
       "         -62.14467654, -24.10793026]]),\n",
       " array([[ 2.89412738e+02,  7.12597330e+02, -7.73254134e-13,\n",
       "          6.73342432e+00,  4.77506396e-13, -1.81494395e-13],\n",
       "        [ 7.12597330e+02,  4.11122804e+03, -1.07837605e-11,\n",
       "          3.89747754e+01, -1.04174561e-11, -2.54181950e-12],\n",
       "        [-7.73254134e-13, -1.07837605e-11,  3.87466503e+02,\n",
       "         -3.83046008e-13,  3.40937619e+02,  9.10378548e+01],\n",
       "        [ 6.73342432e+00,  3.89747754e+01, -3.83046008e-13,\n",
       "          4.79822020e+01, -3.56487172e-13, -9.31599638e-14],\n",
       "        [ 4.77506396e-13, -1.04174561e-11,  3.40937619e+02,\n",
       "         -3.56487172e-13,  2.55359422e+03,  8.11923014e+01],\n",
       "        [-1.81494395e-13, -2.54181950e-12,  9.10378548e+01,\n",
       "         -9.31599638e-14,  8.11923014e+01,  2.18261477e+01]]))"
      ]
     },
     "execution_count": 82,
     "metadata": {},
     "output_type": "execute_result"
    }
   ],
   "source": [
    "lqr(A, B, Q, R)"
   ]
  },
  {
   "cell_type": "markdown",
   "id": "ad55f152",
   "metadata": {},
   "source": [
    "## Randomizing Again"
   ]
  },
  {
   "cell_type": "code",
   "execution_count": 85,
   "id": "0eca26bc",
   "metadata": {},
   "outputs": [
    {
     "name": "stdout",
     "output_type": "stream",
     "text": [
      "[-3.77143074e+02+0.j         -9.40649856e-02+2.49648607j\n",
      " -9.40649856e-02-2.49648607j -6.57463461e-01+1.74746871j\n",
      " -6.57463461e-01-1.74746871j -7.94323062e-02+0.j        ]\n"
     ]
    },
    {
     "data": {
      "text/plain": [
       "array([[ 4.98992765,  0.5730003 ,  1.04014997,  4.98269867, -2.62435439,\n",
       "        -4.93434794],\n",
       "       [ 4.51125227,  0.00852441,  1.23141898,  4.36718085,  4.83248447,\n",
       "        -1.90489246]])"
      ]
     },
     "execution_count": 85,
     "metadata": {},
     "output_type": "execute_result"
    }
   ],
   "source": [
    "## F = A - B@K, K: 2x6 matrix\n",
    "\n",
    "import random\n",
    "\n",
    "check = True\n",
    "k = np.array([[0, 0, 0, 0, 0, 0], [0, 0, 0, 0, 0, 0]])\n",
    "attempts = 0\n",
    "while check:        \n",
    "    a = random.uniform(-5,5)\n",
    "    b = random.uniform(-5,5)\n",
    "    c = random.uniform(-5,5)\n",
    "    d = random.uniform(-5,5)\n",
    "    e = random.uniform(-5,5)\n",
    "    f = random.uniform(-5,5)\n",
    "    g = random.uniform(-5,5)\n",
    "    h = random.uniform(-5,5)\n",
    "    i = random.uniform(-5,5)\n",
    "    j = random.uniform(-5,5)\n",
    "    l = random.uniform(-5,5)\n",
    "    m = random.uniform(-5,5)\n",
    "    k = np.array([[a, b, c, d, e, f], [g, h, i, j, l, m]])\n",
    "    vals = np.linalg.eigvals(A-B@k)\n",
    "    if (vals[0] < 0 and vals[1] < 0 and vals[2] < 0 and vals[3] < 0 and vals[4] < 0 and vals[5] < 0):\n",
    "        check = False\n",
    "    attempts += 1\n",
    "print(np.linalg.eigvals(A-B@k))\n",
    "k"
   ]
  },
  {
   "cell_type": "code",
   "execution_count": null,
   "id": "8580716b",
   "metadata": {},
   "outputs": [],
   "source": []
  }
 ],
 "metadata": {
  "kernelspec": {
   "display_name": "Python 3 (ipykernel)",
   "language": "python",
   "name": "python3"
  },
  "language_info": {
   "codemirror_mode": {
    "name": "ipython",
    "version": 3
   },
   "file_extension": ".py",
   "mimetype": "text/x-python",
   "name": "python",
   "nbconvert_exporter": "python",
   "pygments_lexer": "ipython3",
   "version": "3.11.0"
  }
 },
 "nbformat": 4,
 "nbformat_minor": 5
}
