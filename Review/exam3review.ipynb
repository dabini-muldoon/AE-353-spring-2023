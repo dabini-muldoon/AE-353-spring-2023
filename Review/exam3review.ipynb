{
 "cells": [
  {
   "attachments": {},
   "cell_type": "markdown",
   "metadata": {},
   "source": [
    "## Startup Stuff (imports + lqr)"
   ]
  },
  {
   "cell_type": "code",
   "execution_count": 39,
   "metadata": {},
   "outputs": [],
   "source": [
    "import numpy as np\n",
    "import sympy as sym\n",
    "from scipy import linalg\n",
    "from scipy import signal"
   ]
  },
  {
   "attachments": {},
   "cell_type": "markdown",
   "metadata": {},
   "source": [
    "define the lqr function"
   ]
  },
  {
   "cell_type": "code",
   "execution_count": 40,
   "metadata": {},
   "outputs": [],
   "source": [
    "def lqr(A, B, Q, R):\n",
    "    P = linalg.solve_continuous_are(A, B, Q, R)\n",
    "    K = linalg.inv(R) @  B.T @ P\n",
    "    return K"
   ]
  },
  {
   "attachments": {},
   "cell_type": "markdown",
   "metadata": {},
   "source": [
    "## Exam Try 1\n"
   ]
  },
  {
   "attachments": {},
   "cell_type": "markdown",
   "metadata": {},
   "source": [
    "### Q1: L Place Poles\n",
    "- transpose everything"
   ]
  },
  {
   "cell_type": "code",
   "execution_count": 5,
   "metadata": {},
   "outputs": [
    {
     "data": {
      "text/plain": [
       "array([[-5881.20858411],\n",
       "       [ 4178.57833992],\n",
       "       [ -569.83291016]])"
      ]
     },
     "execution_count": 5,
     "metadata": {},
     "output_type": "execute_result"
    }
   ],
   "source": [
    "A = np.array([[-0.30, 0.40, -0.70], [0.30, 0.00, -0.20], [-0.40, -0.70, -0.60]])\n",
    "B = np.array([[0.30], [-0.30], [-0.90]])\n",
    "C = np.array([[-0.20, -0.40, -0.90]])\n",
    "p = np.array([-1.74+0.00j, -8.41-4.04j, -8.41+4.04j])\n",
    "\n",
    "signal.place_poles(A.T, C.T, p).gain_matrix.T"
   ]
  },
  {
   "attachments": {},
   "cell_type": "markdown",
   "metadata": {},
   "source": [
    "### Q2: Observable?"
   ]
  },
  {
   "cell_type": "code",
   "execution_count": 6,
   "metadata": {},
   "outputs": [],
   "source": [
    "A1 = np.array([[-2.5, 2.0, -9.8, -7.8], [-15.3, 11.3, -54.0, -42.7], [3.8, -2.6, 14.3, 11.7], [-7.7, 5.4, -28.1, -22.7]])\n",
    "A2 = np.array([[-6.6, -10.9, -61.1], [-22.3, -36.5, -204.8], [4.7, 7.7, 43.2]])\n",
    "A3 = np.array([[-33.3, -146.5, 388.3, -1553.2], [-0.2, -1.7, 3.2, -12.8], [-10.6, -43.5, 120.1, -480.4], [-1.9, -7.5, 21.2, -84.8]])\n",
    "A4 = np.array([[-7.2, 28.3, -113.2], [-21.0, 90.3, -361.2], [-4.8, 20.8, -83.2]])\n",
    "A5 = np.array([[-4.9, 22.0, 52.3, 88.0], [-39.4, 183.6, 439.5, 734.4], [5.1, -23.0, -55.8, -92.0], [6.5, -30.8, -73.3, -123.2]])\n",
    "C1 = np.array([[0.5, -0.7, 3.9, 3.1]])\n",
    "C2 = np.array([[0.1, 0.5, 2.5]])\n",
    "C3 = np.array([[0.6, 2.6, -6.9, 27.6]])\n",
    "C4 = np.array([[0.4, -1.7, 6.8]])\n",
    "C5 = np.array([[-0.7, 3.0, 7.3, 12.0]])\n",
    "\n",
    "wo1 = np.block([C1.T, A1.T@C1.T, A1.T@A1.T@C1.T, A1.T@A1.T@A1.T@C1.T]).T\n",
    "wo2 = np.block([C2.T, A2.T@C2.T, A2.T@A2.T@C2.T]).T\n",
    "wo3 = np.block([C3.T, A3.T@C3.T, A3.T@A3.T@C3.T, A3.T@A3.T@A3.T@C3.T]).T\n",
    "wo4 = np.block([C4.T, A4.T@C4.T, A4.T@A4.T@C4.T]).T\n",
    "wo5 = np.block([C5.T, A5.T@C5.T, A5.T@A5.T@C5.T, A5.T@A5.T@A5.T@C5.T]).T"
   ]
  },
  {
   "cell_type": "code",
   "execution_count": 7,
   "metadata": {},
   "outputs": [
    {
     "data": {
      "text/plain": [
       "array([[-3.54717145e-10, -1.17975588e+01, -1.59466193e+00,\n",
       "         9.03151846e+01],\n",
       "       [ 1.00000000e+01, -1.06078822e+02, -4.24312348e+01,\n",
       "         6.05898045e+02],\n",
       "       [ 1.00000000e+01, -4.09857509e+01,  6.71521690e+01,\n",
       "         1.59907113e+02],\n",
       "       [-1.00000000e+01,  2.95122686e+01, -9.38058040e+01,\n",
       "        -7.89247422e+01]])"
      ]
     },
     "execution_count": 7,
     "metadata": {},
     "output_type": "execute_result"
    }
   ],
   "source": [
    "np.linalg.inv(wo1)"
   ]
  },
  {
   "cell_type": "code",
   "execution_count": 8,
   "metadata": {},
   "outputs": [
    {
     "data": {
      "text/plain": [
       "array([[    9.99999999,  -166.66666655, -1666.6666653 ],\n",
       "       [   49.99999996,  -466.66666628, -5499.99999548],\n",
       "       [   -9.99999999,    99.99999992,  1166.66666571]])"
      ]
     },
     "execution_count": 8,
     "metadata": {},
     "output_type": "execute_result"
    }
   ],
   "source": [
    "np.linalg.inv(wo2)"
   ]
  },
  {
   "cell_type": "code",
   "execution_count": 9,
   "metadata": {},
   "outputs": [
    {
     "ename": "LinAlgError",
     "evalue": "Singular matrix",
     "output_type": "error",
     "traceback": [
      "\u001b[1;31m---------------------------------------------------------------------------\u001b[0m",
      "\u001b[1;31mLinAlgError\u001b[0m                               Traceback (most recent call last)",
      "Cell \u001b[1;32mIn[9], line 1\u001b[0m\n\u001b[1;32m----> 1\u001b[0m np\u001b[39m.\u001b[39;49mlinalg\u001b[39m.\u001b[39;49minv(wo3)\n",
      "File \u001b[1;32m<__array_function__ internals>:200\u001b[0m, in \u001b[0;36minv\u001b[1;34m(*args, **kwargs)\u001b[0m\n",
      "File \u001b[1;32mc:\\Users\\cdabi\\anaconda3\\envs\\ae353\\Lib\\site-packages\\numpy\\linalg\\linalg.py:538\u001b[0m, in \u001b[0;36minv\u001b[1;34m(a)\u001b[0m\n\u001b[0;32m    536\u001b[0m signature \u001b[39m=\u001b[39m \u001b[39m'\u001b[39m\u001b[39mD->D\u001b[39m\u001b[39m'\u001b[39m \u001b[39mif\u001b[39;00m isComplexType(t) \u001b[39melse\u001b[39;00m \u001b[39m'\u001b[39m\u001b[39md->d\u001b[39m\u001b[39m'\u001b[39m\n\u001b[0;32m    537\u001b[0m extobj \u001b[39m=\u001b[39m get_linalg_error_extobj(_raise_linalgerror_singular)\n\u001b[1;32m--> 538\u001b[0m ainv \u001b[39m=\u001b[39m _umath_linalg\u001b[39m.\u001b[39;49minv(a, signature\u001b[39m=\u001b[39;49msignature, extobj\u001b[39m=\u001b[39;49mextobj)\n\u001b[0;32m    539\u001b[0m \u001b[39mreturn\u001b[39;00m wrap(ainv\u001b[39m.\u001b[39mastype(result_t, copy\u001b[39m=\u001b[39m\u001b[39mFalse\u001b[39;00m))\n",
      "File \u001b[1;32mc:\\Users\\cdabi\\anaconda3\\envs\\ae353\\Lib\\site-packages\\numpy\\linalg\\linalg.py:89\u001b[0m, in \u001b[0;36m_raise_linalgerror_singular\u001b[1;34m(err, flag)\u001b[0m\n\u001b[0;32m     88\u001b[0m \u001b[39mdef\u001b[39;00m \u001b[39m_raise_linalgerror_singular\u001b[39m(err, flag):\n\u001b[1;32m---> 89\u001b[0m     \u001b[39mraise\u001b[39;00m LinAlgError(\u001b[39m\"\u001b[39m\u001b[39mSingular matrix\u001b[39m\u001b[39m\"\u001b[39m)\n",
      "\u001b[1;31mLinAlgError\u001b[0m: Singular matrix"
     ]
    }
   ],
   "source": [
    "np.linalg.inv(wo3)"
   ]
  },
  {
   "cell_type": "code",
   "execution_count": 10,
   "metadata": {},
   "outputs": [
    {
     "ename": "LinAlgError",
     "evalue": "Singular matrix",
     "output_type": "error",
     "traceback": [
      "\u001b[1;31m---------------------------------------------------------------------------\u001b[0m",
      "\u001b[1;31mLinAlgError\u001b[0m                               Traceback (most recent call last)",
      "Cell \u001b[1;32mIn[10], line 1\u001b[0m\n\u001b[1;32m----> 1\u001b[0m np\u001b[39m.\u001b[39;49mlinalg\u001b[39m.\u001b[39;49minv(wo4)\n",
      "File \u001b[1;32m<__array_function__ internals>:200\u001b[0m, in \u001b[0;36minv\u001b[1;34m(*args, **kwargs)\u001b[0m\n",
      "File \u001b[1;32mc:\\Users\\cdabi\\anaconda3\\envs\\ae353\\Lib\\site-packages\\numpy\\linalg\\linalg.py:538\u001b[0m, in \u001b[0;36minv\u001b[1;34m(a)\u001b[0m\n\u001b[0;32m    536\u001b[0m signature \u001b[39m=\u001b[39m \u001b[39m'\u001b[39m\u001b[39mD->D\u001b[39m\u001b[39m'\u001b[39m \u001b[39mif\u001b[39;00m isComplexType(t) \u001b[39melse\u001b[39;00m \u001b[39m'\u001b[39m\u001b[39md->d\u001b[39m\u001b[39m'\u001b[39m\n\u001b[0;32m    537\u001b[0m extobj \u001b[39m=\u001b[39m get_linalg_error_extobj(_raise_linalgerror_singular)\n\u001b[1;32m--> 538\u001b[0m ainv \u001b[39m=\u001b[39m _umath_linalg\u001b[39m.\u001b[39;49minv(a, signature\u001b[39m=\u001b[39;49msignature, extobj\u001b[39m=\u001b[39;49mextobj)\n\u001b[0;32m    539\u001b[0m \u001b[39mreturn\u001b[39;00m wrap(ainv\u001b[39m.\u001b[39mastype(result_t, copy\u001b[39m=\u001b[39m\u001b[39mFalse\u001b[39;00m))\n",
      "File \u001b[1;32mc:\\Users\\cdabi\\anaconda3\\envs\\ae353\\Lib\\site-packages\\numpy\\linalg\\linalg.py:89\u001b[0m, in \u001b[0;36m_raise_linalgerror_singular\u001b[1;34m(err, flag)\u001b[0m\n\u001b[0;32m     88\u001b[0m \u001b[39mdef\u001b[39;00m \u001b[39m_raise_linalgerror_singular\u001b[39m(err, flag):\n\u001b[1;32m---> 89\u001b[0m     \u001b[39mraise\u001b[39;00m LinAlgError(\u001b[39m\"\u001b[39m\u001b[39mSingular matrix\u001b[39m\u001b[39m\"\u001b[39m)\n",
      "\u001b[1;31mLinAlgError\u001b[0m: Singular matrix"
     ]
    }
   ],
   "source": [
    "np.linalg.inv(wo4)"
   ]
  },
  {
   "cell_type": "code",
   "execution_count": 11,
   "metadata": {},
   "outputs": [
    {
     "ename": "LinAlgError",
     "evalue": "Singular matrix",
     "output_type": "error",
     "traceback": [
      "\u001b[1;31m---------------------------------------------------------------------------\u001b[0m",
      "\u001b[1;31mLinAlgError\u001b[0m                               Traceback (most recent call last)",
      "Cell \u001b[1;32mIn[11], line 1\u001b[0m\n\u001b[1;32m----> 1\u001b[0m np\u001b[39m.\u001b[39;49mlinalg\u001b[39m.\u001b[39;49minv(wo5)\n",
      "File \u001b[1;32m<__array_function__ internals>:200\u001b[0m, in \u001b[0;36minv\u001b[1;34m(*args, **kwargs)\u001b[0m\n",
      "File \u001b[1;32mc:\\Users\\cdabi\\anaconda3\\envs\\ae353\\Lib\\site-packages\\numpy\\linalg\\linalg.py:538\u001b[0m, in \u001b[0;36minv\u001b[1;34m(a)\u001b[0m\n\u001b[0;32m    536\u001b[0m signature \u001b[39m=\u001b[39m \u001b[39m'\u001b[39m\u001b[39mD->D\u001b[39m\u001b[39m'\u001b[39m \u001b[39mif\u001b[39;00m isComplexType(t) \u001b[39melse\u001b[39;00m \u001b[39m'\u001b[39m\u001b[39md->d\u001b[39m\u001b[39m'\u001b[39m\n\u001b[0;32m    537\u001b[0m extobj \u001b[39m=\u001b[39m get_linalg_error_extobj(_raise_linalgerror_singular)\n\u001b[1;32m--> 538\u001b[0m ainv \u001b[39m=\u001b[39m _umath_linalg\u001b[39m.\u001b[39;49minv(a, signature\u001b[39m=\u001b[39;49msignature, extobj\u001b[39m=\u001b[39;49mextobj)\n\u001b[0;32m    539\u001b[0m \u001b[39mreturn\u001b[39;00m wrap(ainv\u001b[39m.\u001b[39mastype(result_t, copy\u001b[39m=\u001b[39m\u001b[39mFalse\u001b[39;00m))\n",
      "File \u001b[1;32mc:\\Users\\cdabi\\anaconda3\\envs\\ae353\\Lib\\site-packages\\numpy\\linalg\\linalg.py:89\u001b[0m, in \u001b[0;36m_raise_linalgerror_singular\u001b[1;34m(err, flag)\u001b[0m\n\u001b[0;32m     88\u001b[0m \u001b[39mdef\u001b[39;00m \u001b[39m_raise_linalgerror_singular\u001b[39m(err, flag):\n\u001b[1;32m---> 89\u001b[0m     \u001b[39mraise\u001b[39;00m LinAlgError(\u001b[39m\"\u001b[39m\u001b[39mSingular matrix\u001b[39m\u001b[39m\"\u001b[39m)\n",
      "\u001b[1;31mLinAlgError\u001b[0m: Singular matrix"
     ]
    }
   ],
   "source": [
    "np.linalg.inv(wo5)"
   ]
  },
  {
   "attachments": {},
   "cell_type": "markdown",
   "metadata": {},
   "source": [
    "### Q3: Controller + Observer Design"
   ]
  },
  {
   "cell_type": "code",
   "execution_count": 13,
   "metadata": {},
   "outputs": [],
   "source": [
    "w1, w2, w3, tau = sym.symbols('w1, w2, w3, tau')\n",
    "\n",
    "j1 = 2.08\n",
    "j2 = 2.33\n",
    "j3 = 3.13\n",
    "\n",
    "wd1 = (2+(j2-j3)*w2*w3)/j1\n",
    "wd2 = ((j3-j1)*w3*w1)/j2\n",
    "wd3 = (tau + (j1-j2)*w1*w2)/j3\n",
    "\n",
    "f = sym.Matrix([wd1, wd2, wd3])\n",
    "g = sym.Matrix([w2])\n",
    "\n",
    "w3e = 3\n",
    "w1e = 0\n",
    "w2e = 2 / (-(j2-j3)*w3e)\n",
    "taue = -(j1-j2)*w1e*w2e\n",
    "\n",
    "A_num = sym.lambdify((w1, w2, w3, tau), f.jacobian([w1, w2, w3]))\n",
    "B_num = sym.lambdify((w1, w2, w3, tau), f.jacobian([tau]))\n",
    "C_num = sym.lambdify((w1, w2, w3, tau), g.jacobian([w1, w2, w3]))"
   ]
  },
  {
   "cell_type": "code",
   "execution_count": 14,
   "metadata": {},
   "outputs": [
    {
     "data": {
      "text/plain": [
       "(0, 0.8333333333333335, 3, 0.0)"
      ]
     },
     "execution_count": 14,
     "metadata": {},
     "output_type": "execute_result"
    }
   ],
   "source": [
    "w1e, w2e, w3e, taue"
   ]
  },
  {
   "cell_type": "code",
   "execution_count": 15,
   "metadata": {},
   "outputs": [
    {
     "data": {
      "text/plain": [
       "(array([[ 0.        , -1.15384615, -0.32051282],\n",
       "        [ 1.35193133,  0.        ,  0.        ],\n",
       "        [-0.06656017, -0.        ,  0.        ]]),\n",
       " array([[0.        ],\n",
       "        [0.        ],\n",
       "        [0.31948882]]),\n",
       " array([[0, 1, 0]]))"
      ]
     },
     "execution_count": 15,
     "metadata": {},
     "output_type": "execute_result"
    }
   ],
   "source": [
    "A = A_num(w1e, w2e, w3e, taue)\n",
    "B = B_num(w1e, w2e, w3e, taue)\n",
    "C = C_num(w1e, w2e, w3e, taue)\n",
    "\n",
    "A, B, C"
   ]
  },
  {
   "attachments": {},
   "cell_type": "markdown",
   "metadata": {},
   "source": [
    "#### w observer"
   ]
  },
  {
   "cell_type": "code",
   "execution_count": 16,
   "metadata": {},
   "outputs": [],
   "source": [
    "wobs = np.block([C.T, A.T@C.T, A.T@A.T@C.T]).T"
   ]
  },
  {
   "cell_type": "code",
   "execution_count": 17,
   "metadata": {},
   "outputs": [
    {
     "data": {
      "text/plain": [
       "(array([[ 0.        ,  1.        ,  0.        ],\n",
       "        [ 1.35193133,  0.        ,  0.        ],\n",
       "        [ 0.        , -1.55992077, -0.43331132]]),\n",
       " 3)"
      ]
     },
     "execution_count": 17,
     "metadata": {},
     "output_type": "execute_result"
    }
   ],
   "source": [
    "wobs, np.linalg.matrix_rank(wobs)"
   ]
  },
  {
   "attachments": {},
   "cell_type": "markdown",
   "metadata": {},
   "source": [
    "#### LQR for L"
   ]
  },
  {
   "cell_type": "code",
   "execution_count": 18,
   "metadata": {},
   "outputs": [],
   "source": [
    "Qo = np.array([[1.40]])\n",
    "Ro = np.array([[2.10, 0.60, -0.30], [0.60, 2.30, 0.45], [-0.30, 0.45, 2.40]])\n",
    "\n",
    "L = lqr(A.T, C.T, np.linalg.inv(Ro), np.linalg.inv(Qo)).T"
   ]
  },
  {
   "cell_type": "code",
   "execution_count": 19,
   "metadata": {},
   "outputs": [
    {
     "data": {
      "text/plain": [
       "array([[ 0.4423982 ],\n",
       "       [ 1.37615614],\n",
       "       [-0.85264303]])"
      ]
     },
     "execution_count": 19,
     "metadata": {},
     "output_type": "execute_result"
    }
   ],
   "source": [
    "L"
   ]
  },
  {
   "attachments": {},
   "cell_type": "markdown",
   "metadata": {},
   "source": [
    "#### W Controller"
   ]
  },
  {
   "cell_type": "code",
   "execution_count": 20,
   "metadata": {},
   "outputs": [],
   "source": [
    "wcnt = np.block([B, A@B, A@A@B])"
   ]
  },
  {
   "cell_type": "code",
   "execution_count": 21,
   "metadata": {},
   "outputs": [
    {
     "data": {
      "text/plain": [
       "(array([[ 0.        , -0.10240026,  0.        ],\n",
       "        [ 0.        ,  0.        , -0.13843812],\n",
       "        [ 0.31948882,  0.        ,  0.00681578]]),\n",
       " 3)"
      ]
     },
     "execution_count": 21,
     "metadata": {},
     "output_type": "execute_result"
    }
   ],
   "source": [
    "wcnt, np.linalg.matrix_rank(wcnt)"
   ]
  },
  {
   "attachments": {},
   "cell_type": "markdown",
   "metadata": {},
   "source": [
    "#### LQR for K"
   ]
  },
  {
   "cell_type": "code",
   "execution_count": 22,
   "metadata": {},
   "outputs": [],
   "source": [
    "Qc = np.array([[2.70, 0.05, 0.35], [0.05, 3.90, 0.15], [0.35, 0.15, 2.60]])\n",
    "Rc = np.array([[0.90]])\n",
    "\n",
    "K = lqr(A, B, Qc, Rc)"
   ]
  },
  {
   "cell_type": "code",
   "execution_count": 23,
   "metadata": {},
   "outputs": [
    {
     "data": {
      "text/plain": [
       "array([[-1.486259  ,  2.35308382,  2.42300107]])"
      ]
     },
     "execution_count": 23,
     "metadata": {},
     "output_type": "execute_result"
    }
   ],
   "source": [
    "K"
   ]
  },
  {
   "attachments": {},
   "cell_type": "markdown",
   "metadata": {},
   "source": [
    "### Q4: A-LC roots"
   ]
  },
  {
   "cell_type": "code",
   "execution_count": 24,
   "metadata": {},
   "outputs": [],
   "source": [
    "A = np.array([[0.4, -0.9], [-0.9, 0.9]])\n",
    "B = np.array([[-0.9], [0.0]])\n",
    "C = np.array([[0.0, 0.6]])\n",
    "L1 = np.array([[6.6], [3.2]])\n",
    "L2 = np.array([[-13.1], [0.5]])\n",
    "L3 = np.array([[-53.4], [4.2]])\n",
    "L4 = np.array([[-16.4], [-11.7]])\n",
    "L5 = np.array([[-0.3], [1.7]])\n",
    "\n",
    "w1 = A-L1@C\n",
    "w2 = A-L2@C\n",
    "w3 = A-L3@C\n",
    "w4 = A-L4@C\n",
    "w5 = A-L5@C"
   ]
  },
  {
   "cell_type": "code",
   "execution_count": 25,
   "metadata": {},
   "outputs": [
    {
     "data": {
      "text/plain": [
       "array([ 1.89864212, -2.51864212])"
      ]
     },
     "execution_count": 25,
     "metadata": {},
     "output_type": "execute_result"
    }
   ],
   "source": [
    "np.linalg.eigvals(w1)"
   ]
  },
  {
   "cell_type": "code",
   "execution_count": 26,
   "metadata": {},
   "outputs": [
    {
     "data": {
      "text/plain": [
       "array([0.5+2.50079987j, 0.5-2.50079987j])"
      ]
     },
     "execution_count": 26,
     "metadata": {},
     "output_type": "execute_result"
    }
   ],
   "source": [
    "np.linalg.eigvals(w2)"
   ]
  },
  {
   "cell_type": "code",
   "execution_count": 27,
   "metadata": {},
   "outputs": [
    {
     "data": {
      "text/plain": [
       "array([-0.61+5.19672012j, -0.61-5.19672012j])"
      ]
     },
     "execution_count": 27,
     "metadata": {},
     "output_type": "execute_result"
    }
   ],
   "source": [
    "np.linalg.eigvals(w3)"
   ]
  },
  {
   "cell_type": "code",
   "execution_count": 28,
   "metadata": {},
   "outputs": [
    {
     "data": {
      "text/plain": [
       "array([1.69188331, 6.62811669])"
      ]
     },
     "execution_count": 28,
     "metadata": {},
     "output_type": "execute_result"
    }
   ],
   "source": [
    "np.linalg.eigvals(w4)"
   ]
  },
  {
   "cell_type": "code",
   "execution_count": 29,
   "metadata": {},
   "outputs": [
    {
     "data": {
      "text/plain": [
       "array([ 0.98593144, -0.70593144])"
      ]
     },
     "execution_count": 29,
     "metadata": {},
     "output_type": "execute_result"
    }
   ],
   "source": [
    "np.linalg.eigvals(w5)"
   ]
  },
  {
   "attachments": {},
   "cell_type": "markdown",
   "metadata": {},
   "source": [
    "### Q5: xhat Controller Implementation\n",
    "- X IS A ONE-D ARRAY FUCK THIS SHIT"
   ]
  },
  {
   "cell_type": "code",
   "execution_count": null,
   "metadata": {},
   "outputs": [],
   "source": [
    "class Controller:\n",
    "    def __init__(self):\n",
    "        self.A = np.array([[0.0000, 1.0000], [0.0000, 0.0000]])\n",
    "        self.B = np.array([[0.0000], [5.0930]])\n",
    "        self.C = np.array([[1.0000, 0.0000]])\n",
    "        \n",
    "        self.K = np.array([[0.2538, 1.0728]])\n",
    "        self.L = np.array([[0.6866], [0.2130]])\n",
    "        \n",
    "        self.dt = 0.01\n",
    "        \n",
    "        self.qe = np.pi/7\n",
    "    \n",
    "    def reset(self):\n",
    "        self.xhat = np.array([0., 0.])\n",
    "    \n",
    "    def run(self, t, wheel_angle_measurement):\n",
    "        \"\"\"\n",
    "        INPUTS\n",
    "         t = current time (s)\n",
    "         wheel_angle_measurement = measured angle of wheel (rad)\n",
    "        \n",
    "        OUTPUTS\n",
    "         wheel_torque = torque applied to wheel by motor on ground (N m)\n",
    "         \"\"\"\n",
    "        \n",
    "        u = -self.K @ self.xhat\n",
    "        \n",
    "        y = np.array([wheel_angle_measurement - self.qe])\n",
    "        \n",
    "        self.xhat += (self.A@self.xhat + self.B@u - self.L@(self.C@self.xhat - y))*self.dt\n",
    "        \n",
    "        wheel_torque = u[0]\n",
    "        print(wheel_torque)\n",
    "        \n",
    "        return wheel_torque"
   ]
  },
  {
   "attachments": {},
   "cell_type": "markdown",
   "metadata": {},
   "source": [
    "### Q6: Error = xhat - x"
   ]
  },
  {
   "cell_type": "code",
   "execution_count": 30,
   "metadata": {},
   "outputs": [],
   "source": [
    "A = np.array([[-0.10, 0.20], [-0.60, -0.20]])\n",
    "B = np.array([[0.90], [0.60]])\n",
    "C = np.array([[0.10, 0.60]])\n",
    "L = np.array([[-56.80], [24.30]])\n",
    "x0 = np.array([-0.80, 0.90])\n",
    "xhat0 = np.array([-1.50, 0.80])\n",
    "t0 = 0.80\n",
    "t1 = 1.00\n",
    "\n",
    "f = A-L@C\n",
    "\n",
    "x1 = linalg.expm(f*(t1-t0))@x0\n",
    "xhat1 = linalg.expm(f*(t1-t0))@xhat0"
   ]
  },
  {
   "cell_type": "code",
   "execution_count": 32,
   "metadata": {},
   "outputs": [
    {
     "data": {
      "text/plain": [
       "array([-1.1175188 ,  0.21013286])"
      ]
     },
     "execution_count": 32,
     "metadata": {},
     "output_type": "execute_result"
    }
   ],
   "source": [
    "xhat1 - x1"
   ]
  },
  {
   "attachments": {},
   "cell_type": "markdown",
   "metadata": {},
   "source": [
    "### Q7: graphs q/r\n",
    "- greater q/r ratio = tighter xhat vs. y line"
   ]
  },
  {
   "cell_type": "code",
   "execution_count": 33,
   "metadata": {},
   "outputs": [
    {
     "data": {
      "text/plain": [
       "(1000.0, 0.01, 10.0, 1.0)"
      ]
     },
     "execution_count": 33,
     "metadata": {},
     "output_type": "execute_result"
    }
   ],
   "source": [
    "one = 2e7/20000\n",
    "two = 0.02 / 2\n",
    "three = 30/3\n",
    "four = 10000/10000\n",
    "\n",
    "one, two, three, four"
   ]
  },
  {
   "attachments": {},
   "cell_type": "markdown",
   "metadata": {},
   "source": [
    "### Exam 1 Score"
   ]
  },
  {
   "cell_type": "code",
   "execution_count": 83,
   "metadata": {},
   "outputs": [],
   "source": [
    "exam1_score = 70/75"
   ]
  },
  {
   "cell_type": "code",
   "execution_count": 84,
   "metadata": {},
   "outputs": [
    {
     "data": {
      "text/plain": [
       "0.9333333333333333"
      ]
     },
     "execution_count": 84,
     "metadata": {},
     "output_type": "execute_result"
    }
   ],
   "source": [
    "exam1_score"
   ]
  },
  {
   "attachments": {},
   "cell_type": "markdown",
   "metadata": {},
   "source": [
    "## Exam Try 2"
   ]
  },
  {
   "attachments": {},
   "cell_type": "markdown",
   "metadata": {},
   "source": [
    "### reset variables rq"
   ]
  },
  {
   "cell_type": "code",
   "execution_count": 37,
   "metadata": {},
   "outputs": [],
   "source": [
    "%reset"
   ]
  },
  {
   "attachments": {},
   "cell_type": "markdown",
   "metadata": {},
   "source": [
    "### Q1: Observable?"
   ]
  },
  {
   "cell_type": "code",
   "execution_count": 43,
   "metadata": {},
   "outputs": [],
   "source": [
    "A1 = np.array([[1.0, -2.0], [0.5, -1.0]])\n",
    "A2 = np.array([[1.6, 2.5, -2.5], [0.6, 3.9, -3.9], [1.1, 4.5, -4.5]])\n",
    "A3 = np.array([[-7.3, 36.5, -162.1, 73.0], [-46.4, 247.6, -1087.1, 495.2], [-27.2, 144.7, -635.3, 289.4], [-37.2, 197.3, -866.4, 394.6]])\n",
    "A4 = np.array([[-240.5, -1155.0, 3238.9, 13196.1], [104.8, 503.7, -1410.9, -5748.4], [125.9, 605.0, -1696.6, -6912.3], [-26.1, -125.4, 351.8, 1433.3]])\n",
    "A5 = np.array([[21.5, -113.3, -387.5, 983.5], [164.2, -864.4, -2948.8, 7473.2], [-106.7, 561.6, 1916.3, -4857.2], [-23.6, 124.2, 423.9, -1074.6]])\n",
    "C1 = np.array([[-0.1, 0.2]])\n",
    "C2 = np.array([[0.2, 0.5, -0.5]])\n",
    "C3 = np.array([[0.8, -4.3, 18.9, -8.6]])\n",
    "C4 = np.array([[-8.8, -42.3, 118.6, 483.3]])\n",
    "C5 = np.array([[-2.0, 10.5, 35.8, -90.6]])\n",
    "\n",
    "wo1 = np.block([C1.T]).T\n",
    "wo2 = np.block([C2.T, A2.T@C2.T, A2.T@A2.T@C2.T]).T\n",
    "wo3 = np.block([C3.T, A3.T@C3.T, A3.T@A3.T@C3.T, A3.T@A3.T@A3.T@C3.T]).T\n",
    "wo4 = np.block([C4.T, A4.T@C4.T, A4.T@A4.T@C4.T, A4.T@A4.T@A4.T@C4.T]).T\n",
    "wo5 = np.block([C5.T, A5.T@C5.T, A5.T@A5.T@C5.T, A5.T@A5.T@A5.T@C5.T]).T"
   ]
  },
  {
   "cell_type": "code",
   "execution_count": 44,
   "metadata": {},
   "outputs": [
    {
     "ename": "LinAlgError",
     "evalue": "Last 2 dimensions of the array must be square",
     "output_type": "error",
     "traceback": [
      "\u001b[1;31m---------------------------------------------------------------------------\u001b[0m",
      "\u001b[1;31mLinAlgError\u001b[0m                               Traceback (most recent call last)",
      "Cell \u001b[1;32mIn[44], line 1\u001b[0m\n\u001b[1;32m----> 1\u001b[0m np\u001b[39m.\u001b[39;49mlinalg\u001b[39m.\u001b[39;49minv(wo1)\n",
      "File \u001b[1;32m<__array_function__ internals>:200\u001b[0m, in \u001b[0;36minv\u001b[1;34m(*args, **kwargs)\u001b[0m\n",
      "File \u001b[1;32mc:\\Users\\cdabi\\anaconda3\\envs\\ae353\\Lib\\site-packages\\numpy\\linalg\\linalg.py:533\u001b[0m, in \u001b[0;36minv\u001b[1;34m(a)\u001b[0m\n\u001b[0;32m    531\u001b[0m a, wrap \u001b[39m=\u001b[39m _makearray(a)\n\u001b[0;32m    532\u001b[0m _assert_stacked_2d(a)\n\u001b[1;32m--> 533\u001b[0m _assert_stacked_square(a)\n\u001b[0;32m    534\u001b[0m t, result_t \u001b[39m=\u001b[39m _commonType(a)\n\u001b[0;32m    536\u001b[0m signature \u001b[39m=\u001b[39m \u001b[39m'\u001b[39m\u001b[39mD->D\u001b[39m\u001b[39m'\u001b[39m \u001b[39mif\u001b[39;00m isComplexType(t) \u001b[39melse\u001b[39;00m \u001b[39m'\u001b[39m\u001b[39md->d\u001b[39m\u001b[39m'\u001b[39m\n",
      "File \u001b[1;32mc:\\Users\\cdabi\\anaconda3\\envs\\ae353\\Lib\\site-packages\\numpy\\linalg\\linalg.py:190\u001b[0m, in \u001b[0;36m_assert_stacked_square\u001b[1;34m(*arrays)\u001b[0m\n\u001b[0;32m    188\u001b[0m m, n \u001b[39m=\u001b[39m a\u001b[39m.\u001b[39mshape[\u001b[39m-\u001b[39m\u001b[39m2\u001b[39m:]\n\u001b[0;32m    189\u001b[0m \u001b[39mif\u001b[39;00m m \u001b[39m!=\u001b[39m n:\n\u001b[1;32m--> 190\u001b[0m     \u001b[39mraise\u001b[39;00m LinAlgError(\u001b[39m'\u001b[39m\u001b[39mLast 2 dimensions of the array must be square\u001b[39m\u001b[39m'\u001b[39m)\n",
      "\u001b[1;31mLinAlgError\u001b[0m: Last 2 dimensions of the array must be square"
     ]
    }
   ],
   "source": [
    "np.linalg.inv(wo1)"
   ]
  },
  {
   "cell_type": "code",
   "execution_count": 45,
   "metadata": {},
   "outputs": [
    {
     "ename": "LinAlgError",
     "evalue": "Singular matrix",
     "output_type": "error",
     "traceback": [
      "\u001b[1;31m---------------------------------------------------------------------------\u001b[0m",
      "\u001b[1;31mLinAlgError\u001b[0m                               Traceback (most recent call last)",
      "Cell \u001b[1;32mIn[45], line 1\u001b[0m\n\u001b[1;32m----> 1\u001b[0m np\u001b[39m.\u001b[39;49mlinalg\u001b[39m.\u001b[39;49minv(wo2)\n",
      "File \u001b[1;32m<__array_function__ internals>:200\u001b[0m, in \u001b[0;36minv\u001b[1;34m(*args, **kwargs)\u001b[0m\n",
      "File \u001b[1;32mc:\\Users\\cdabi\\anaconda3\\envs\\ae353\\Lib\\site-packages\\numpy\\linalg\\linalg.py:538\u001b[0m, in \u001b[0;36minv\u001b[1;34m(a)\u001b[0m\n\u001b[0;32m    536\u001b[0m signature \u001b[39m=\u001b[39m \u001b[39m'\u001b[39m\u001b[39mD->D\u001b[39m\u001b[39m'\u001b[39m \u001b[39mif\u001b[39;00m isComplexType(t) \u001b[39melse\u001b[39;00m \u001b[39m'\u001b[39m\u001b[39md->d\u001b[39m\u001b[39m'\u001b[39m\n\u001b[0;32m    537\u001b[0m extobj \u001b[39m=\u001b[39m get_linalg_error_extobj(_raise_linalgerror_singular)\n\u001b[1;32m--> 538\u001b[0m ainv \u001b[39m=\u001b[39m _umath_linalg\u001b[39m.\u001b[39;49minv(a, signature\u001b[39m=\u001b[39;49msignature, extobj\u001b[39m=\u001b[39;49mextobj)\n\u001b[0;32m    539\u001b[0m \u001b[39mreturn\u001b[39;00m wrap(ainv\u001b[39m.\u001b[39mastype(result_t, copy\u001b[39m=\u001b[39m\u001b[39mFalse\u001b[39;00m))\n",
      "File \u001b[1;32mc:\\Users\\cdabi\\anaconda3\\envs\\ae353\\Lib\\site-packages\\numpy\\linalg\\linalg.py:89\u001b[0m, in \u001b[0;36m_raise_linalgerror_singular\u001b[1;34m(err, flag)\u001b[0m\n\u001b[0;32m     88\u001b[0m \u001b[39mdef\u001b[39;00m \u001b[39m_raise_linalgerror_singular\u001b[39m(err, flag):\n\u001b[1;32m---> 89\u001b[0m     \u001b[39mraise\u001b[39;00m LinAlgError(\u001b[39m\"\u001b[39m\u001b[39mSingular matrix\u001b[39m\u001b[39m\"\u001b[39m)\n",
      "\u001b[1;31mLinAlgError\u001b[0m: Singular matrix"
     ]
    }
   ],
   "source": [
    "np.linalg.inv(wo2)"
   ]
  },
  {
   "cell_type": "code",
   "execution_count": 46,
   "metadata": {},
   "outputs": [
    {
     "ename": "LinAlgError",
     "evalue": "Singular matrix",
     "output_type": "error",
     "traceback": [
      "\u001b[1;31m---------------------------------------------------------------------------\u001b[0m",
      "\u001b[1;31mLinAlgError\u001b[0m                               Traceback (most recent call last)",
      "Cell \u001b[1;32mIn[46], line 1\u001b[0m\n\u001b[1;32m----> 1\u001b[0m np\u001b[39m.\u001b[39;49mlinalg\u001b[39m.\u001b[39;49minv(wo3)\n",
      "File \u001b[1;32m<__array_function__ internals>:200\u001b[0m, in \u001b[0;36minv\u001b[1;34m(*args, **kwargs)\u001b[0m\n",
      "File \u001b[1;32mc:\\Users\\cdabi\\anaconda3\\envs\\ae353\\Lib\\site-packages\\numpy\\linalg\\linalg.py:538\u001b[0m, in \u001b[0;36minv\u001b[1;34m(a)\u001b[0m\n\u001b[0;32m    536\u001b[0m signature \u001b[39m=\u001b[39m \u001b[39m'\u001b[39m\u001b[39mD->D\u001b[39m\u001b[39m'\u001b[39m \u001b[39mif\u001b[39;00m isComplexType(t) \u001b[39melse\u001b[39;00m \u001b[39m'\u001b[39m\u001b[39md->d\u001b[39m\u001b[39m'\u001b[39m\n\u001b[0;32m    537\u001b[0m extobj \u001b[39m=\u001b[39m get_linalg_error_extobj(_raise_linalgerror_singular)\n\u001b[1;32m--> 538\u001b[0m ainv \u001b[39m=\u001b[39m _umath_linalg\u001b[39m.\u001b[39;49minv(a, signature\u001b[39m=\u001b[39;49msignature, extobj\u001b[39m=\u001b[39;49mextobj)\n\u001b[0;32m    539\u001b[0m \u001b[39mreturn\u001b[39;00m wrap(ainv\u001b[39m.\u001b[39mastype(result_t, copy\u001b[39m=\u001b[39m\u001b[39mFalse\u001b[39;00m))\n",
      "File \u001b[1;32mc:\\Users\\cdabi\\anaconda3\\envs\\ae353\\Lib\\site-packages\\numpy\\linalg\\linalg.py:89\u001b[0m, in \u001b[0;36m_raise_linalgerror_singular\u001b[1;34m(err, flag)\u001b[0m\n\u001b[0;32m     88\u001b[0m \u001b[39mdef\u001b[39;00m \u001b[39m_raise_linalgerror_singular\u001b[39m(err, flag):\n\u001b[1;32m---> 89\u001b[0m     \u001b[39mraise\u001b[39;00m LinAlgError(\u001b[39m\"\u001b[39m\u001b[39mSingular matrix\u001b[39m\u001b[39m\"\u001b[39m)\n",
      "\u001b[1;31mLinAlgError\u001b[0m: Singular matrix"
     ]
    }
   ],
   "source": [
    "np.linalg.inv(wo3)"
   ]
  },
  {
   "cell_type": "code",
   "execution_count": 47,
   "metadata": {},
   "outputs": [
    {
     "data": {
      "text/plain": [
       "array([[ 9.99690411e+00, -5.20859741e+02,  1.40060985e+03,\n",
       "        -6.10778339e+02],\n",
       "       [ 1.08766575e-03,  7.09608917e+01, -2.16885010e+02,\n",
       "         6.33896948e+02],\n",
       "       [-3.99966347e+01, -2.07739426e+02, -5.48218447e+02,\n",
       "         2.14878230e+03],\n",
       "       [ 9.99921299e+00,  4.77053093e+01,  1.41050773e+02,\n",
       "        -4.82943492e+02]])"
      ]
     },
     "execution_count": 47,
     "metadata": {},
     "output_type": "execute_result"
    }
   ],
   "source": [
    "np.linalg.inv(wo4)"
   ]
  },
  {
   "cell_type": "code",
   "execution_count": 48,
   "metadata": {},
   "outputs": [
    {
     "data": {
      "text/plain": [
       "array([[ 6.11505598e-04,  9.19171771e+02,  2.73336248e+03,\n",
       "         2.41672087e+03],\n",
       "       [-5.00010211e+01, -3.16676305e+02, -2.08338499e+03,\n",
       "        -4.16675867e+03],\n",
       "       [ 4.00006978e+01,  3.10839800e+02,  1.69170164e+03,\n",
       "         2.83339605e+03],\n",
       "       [ 1.00001439e+01,  6.58346588e+01,  3.66673858e+02,\n",
       "         5.83346255e+02]])"
      ]
     },
     "execution_count": 48,
     "metadata": {},
     "output_type": "execute_result"
    }
   ],
   "source": [
    "np.linalg.inv(wo5)"
   ]
  },
  {
   "cell_type": "markdown",
   "metadata": {},
   "source": [
    "### Q2: L Place Poles"
   ]
  },
  {
   "cell_type": "code",
   "execution_count": 52,
   "metadata": {},
   "outputs": [
    {
     "data": {
      "text/plain": [
       "array([[ 33.38788945],\n",
       "       [-84.44648241]])"
      ]
     },
     "execution_count": 52,
     "metadata": {},
     "output_type": "execute_result"
    }
   ],
   "source": [
    "A = np.array([[-0.90, 0.40], [-0.60, -0.60]])\n",
    "B = np.array([[-0.50], [-0.90]])\n",
    "C = np.array([[-0.50, -0.30]])\n",
    "p = np.array([-5.07-3.28j, -5.07+3.28j])\n",
    "\n",
    "signal.place_poles(A.T, C.T, p).gain_matrix.T"
   ]
  },
  {
   "cell_type": "markdown",
   "metadata": {},
   "source": [
    "### Q3: A-LC"
   ]
  },
  {
   "cell_type": "code",
   "execution_count": 53,
   "metadata": {},
   "outputs": [],
   "source": [
    "A = np.array([[0.6, -0.5, -0.2], [0.7, -0.3, -0.8], [0.6, -0.4, 0.4]])\n",
    "B = np.array([[0.2], [0.3], [0.2]])\n",
    "C = np.array([[-0.2, 0.5, -0.9]])\n",
    "L1 = np.array([[-164.1], [-39.8], [12.1]])\n",
    "L2 = np.array([[97.1], [-875.1], [-514.4]])\n",
    "L3 = np.array([[-173.5], [142.4], [127.6]])\n",
    "L4 = np.array([[-324.0], [324.5], [265.0]])\n",
    "L5 = np.array([[-194.0], [-314.7], [-120.1]])\n",
    "\n",
    "f1 = A-L1@C\n",
    "f2 = A-L2@C\n",
    "f3 = A-L3@C\n",
    "f4 = A-L4@C\n",
    "f5 = A-L5@C"
   ]
  },
  {
   "cell_type": "code",
   "execution_count": 54,
   "metadata": {},
   "outputs": [
    {
     "data": {
      "text/plain": [
       "array([-0.21468451+5.29690547j, -0.21468451-5.29690547j,\n",
       "       -0.90063098+0.j        ])"
      ]
     },
     "execution_count": 54,
     "metadata": {},
     "output_type": "execute_result"
    }
   ],
   "source": [
    "np.linalg.eigvals(f1)"
   ]
  },
  {
   "cell_type": "code",
   "execution_count": 55,
   "metadata": {},
   "outputs": [
    {
     "data": {
      "text/plain": [
       "array([-3.5952609 +8.10079271j, -3.5952609 -8.10079271j,\n",
       "        1.90052181+0.j        ])"
      ]
     },
     "execution_count": 55,
     "metadata": {},
     "output_type": "execute_result"
    }
   ],
   "source": [
    "np.linalg.eigvals(f2)"
   ]
  },
  {
   "cell_type": "code",
   "execution_count": 56,
   "metadata": {},
   "outputs": [
    {
     "data": {
      "text/plain": [
       "array([ 6.36253546,  4.97541143, -1.69794689])"
      ]
     },
     "execution_count": 56,
     "metadata": {},
     "output_type": "execute_result"
    }
   ],
   "source": [
    "np.linalg.eigvals(f3)"
   ]
  },
  {
   "cell_type": "code",
   "execution_count": 57,
   "metadata": {},
   "outputs": [
    {
     "data": {
      "text/plain": [
       "array([ 8.43736406,  5.90980751, -2.19717157])"
      ]
     },
     "execution_count": 57,
     "metadata": {},
     "output_type": "execute_result"
    }
   ],
   "source": [
    "np.linalg.eigvals(f4)"
   ]
  },
  {
   "cell_type": "code",
   "execution_count": 58,
   "metadata": {},
   "outputs": [
    {
     "data": {
      "text/plain": [
       "array([5.48014868+4.92404002j, 5.48014868-4.92404002j,\n",
       "       0.19970264+0.j        ])"
      ]
     },
     "execution_count": 58,
     "metadata": {},
     "output_type": "execute_result"
    }
   ],
   "source": [
    "np.linalg.eigvals(f5)"
   ]
  },
  {
   "cell_type": "markdown",
   "metadata": {},
   "source": [
    "### Q4: error = xhat - x"
   ]
  },
  {
   "cell_type": "code",
   "execution_count": 59,
   "metadata": {},
   "outputs": [],
   "source": [
    "A = np.array([[-0.40, 0.20, 0.10], [0.20, -0.70, 0.80], [-0.60, -0.50, -0.20]])\n",
    "B = np.array([[-0.70], [0.00], [-0.70]])\n",
    "C = np.array([[0.70, 0.60, -0.40]])\n",
    "L = np.array([[-1009.90], [1440.30], [366.10]])\n",
    "x0 = np.array([-1.00, 1.00, -0.50])\n",
    "xhat0 = np.array([-0.80, 0.90, -1.40])\n",
    "t0 = 0.40\n",
    "t1 = 0.90\n",
    "\n",
    "f = A-L@C\n",
    "x1 = linalg.expm(f*(t1-t0))@x0\n",
    "xhat1 = linalg.expm(f*(t1-t0))@xhat0\n",
    "\n",
    "error = xhat1-x1"
   ]
  },
  {
   "cell_type": "code",
   "execution_count": 60,
   "metadata": {},
   "outputs": [
    {
     "data": {
      "text/plain": [
       "array([-5.3943384 ,  6.77239925,  0.87286442])"
      ]
     },
     "execution_count": 60,
     "metadata": {},
     "output_type": "execute_result"
    }
   ],
   "source": [
    "error"
   ]
  },
  {
   "cell_type": "markdown",
   "metadata": {},
   "source": [
    "### Q5: Observer and Controller Design"
   ]
  },
  {
   "cell_type": "code",
   "execution_count": 62,
   "metadata": {},
   "outputs": [],
   "source": [
    "w1, w2, w3, tau = sym.symbols('w1, w2, w3, tau')\n",
    "\n",
    "j1 = 3.73\n",
    "j2 = 3.38\n",
    "j3 = 6.13\n",
    "\n",
    "wd1 = (tau + (j2-j3)*w2*w3)/j1\n",
    "wd2 = ((j3-j1)*w3*w1)/j2\n",
    "wd3 = (2+(j1-j2)*w1*w2)/j3\n",
    "\n",
    "f = sym.Matrix([wd1, wd2, wd3])\n",
    "g = sym.Matrix([w2])\n",
    "\n",
    "w1e = 2\n",
    "w2e = 2 / (-(j1-j2)*w1e)\n",
    "w3e = 0\n",
    "taue = -(j2-j3)*w2e*w3e\n",
    "\n",
    "A_num = sym.lambdify((w1, w2, w3, tau), f.jacobian([w1, w2, w3]))\n",
    "B_num = sym.lambdify((w1, w2, w3, tau), f.jacobian([tau]))\n",
    "C_num = sym.lambdify((w1, w2, w3, tau), g.jacobian([w1, w2, w3]))"
   ]
  },
  {
   "attachments": {},
   "cell_type": "markdown",
   "metadata": {},
   "source": [
    "equilibrium values"
   ]
  },
  {
   "cell_type": "code",
   "execution_count": 63,
   "metadata": {},
   "outputs": [
    {
     "data": {
      "text/plain": [
       "(2, -2.8571428571428563, 0, -0.0)"
      ]
     },
     "execution_count": 63,
     "metadata": {},
     "output_type": "execute_result"
    }
   ],
   "source": [
    "w1e, w2e, w3e, taue"
   ]
  },
  {
   "attachments": {},
   "cell_type": "markdown",
   "metadata": {},
   "source": [
    "A, B, C values"
   ]
  },
  {
   "cell_type": "code",
   "execution_count": 74,
   "metadata": {},
   "outputs": [
    {
     "data": {
      "text/plain": [
       "(array([[ 0.        , -0.        ,  2.10647262],\n",
       "        [ 0.        ,  0.        ,  1.42011834],\n",
       "        [-0.16313214,  0.1141925 ,  0.        ]]),\n",
       " array([[0.26809651],\n",
       "        [0.        ],\n",
       "        [0.        ]]),\n",
       " array([[0., 1., 0.]]))"
      ]
     },
     "execution_count": 74,
     "metadata": {},
     "output_type": "execute_result"
    }
   ],
   "source": [
    "A = A_num(w1e, w2e, w3e, taue).astype(float)\n",
    "B = B_num(w1e, w2e, w3e, taue).astype(float)\n",
    "C = C_num(w1e, w2e, w3e, taue).astype(float)\n",
    "\n",
    "A, B, C"
   ]
  },
  {
   "cell_type": "markdown",
   "metadata": {},
   "source": [
    "w observer"
   ]
  },
  {
   "cell_type": "code",
   "execution_count": 75,
   "metadata": {},
   "outputs": [],
   "source": [
    "wobs = np.block([C.T, A.T@C.T, A.T@A.T@C.T]).T"
   ]
  },
  {
   "cell_type": "code",
   "execution_count": 76,
   "metadata": {},
   "outputs": [
    {
     "data": {
      "text/plain": [
       "(array([[ 0.        ,  1.        ,  0.        ],\n",
       "        [ 0.        ,  0.        ,  1.42011834],\n",
       "        [-0.23166694,  0.16216686,  0.        ]]),\n",
       " 3)"
      ]
     },
     "execution_count": 76,
     "metadata": {},
     "output_type": "execute_result"
    }
   ],
   "source": [
    "wobs, np.linalg.matrix_rank(wobs)"
   ]
  },
  {
   "cell_type": "markdown",
   "metadata": {},
   "source": [
    "LQR for L"
   ]
  },
  {
   "cell_type": "code",
   "execution_count": 77,
   "metadata": {},
   "outputs": [],
   "source": [
    "Qo = np.array([[0.80]])\n",
    "Ro = np.array([[2.20, 0.25, 0.40], [0.25, 2.40, -0.05], [0.40, -0.05, 3.20]])\n",
    "\n",
    "L = lqr(A.T, C.T, np.linalg.inv(Ro), np.linalg.inv(Qo)).T"
   ]
  },
  {
   "cell_type": "code",
   "execution_count": 78,
   "metadata": {},
   "outputs": [
    {
     "data": {
      "text/plain": [
       "array([[0.98621741],\n",
       "       [1.4154206 ],\n",
       "       [0.58645614]])"
      ]
     },
     "execution_count": 78,
     "metadata": {},
     "output_type": "execute_result"
    }
   ],
   "source": [
    "L"
   ]
  },
  {
   "cell_type": "markdown",
   "metadata": {},
   "source": [
    "w controller"
   ]
  },
  {
   "cell_type": "code",
   "execution_count": 68,
   "metadata": {},
   "outputs": [],
   "source": [
    "wcnt = np.block([B, A@B, A@A@B])"
   ]
  },
  {
   "cell_type": "code",
   "execution_count": 69,
   "metadata": {},
   "outputs": [
    {
     "data": {
      "text/plain": [
       "(array([[ 0.26809651,  0.        , -0.09212691],\n",
       "        [ 0.        ,  0.        , -0.0621091 ],\n",
       "        [ 0.        , -0.04373516,  0.        ]]),\n",
       " 3)"
      ]
     },
     "execution_count": 69,
     "metadata": {},
     "output_type": "execute_result"
    }
   ],
   "source": [
    "wcnt, np.linalg.matrix_rank(wcnt)"
   ]
  },
  {
   "cell_type": "markdown",
   "metadata": {},
   "source": [
    "lqr for K"
   ]
  },
  {
   "cell_type": "code",
   "execution_count": 70,
   "metadata": {},
   "outputs": [],
   "source": [
    "Qc = np.array([[2.40, 0.05, -0.55], [0.05, 3.00, 0.35], [-0.55, 0.35, 2.60]])\n",
    "Rc = np.array([[0.50]])\n",
    "\n",
    "K = lqr(A, B, Qc, Rc)"
   ]
  },
  {
   "cell_type": "code",
   "execution_count": 71,
   "metadata": {},
   "outputs": [
    {
     "data": {
      "text/plain": [
       "array([[  4.63006131,  -6.15514656, -13.67127044]])"
      ]
     },
     "execution_count": 71,
     "metadata": {},
     "output_type": "execute_result"
    }
   ],
   "source": [
    "K"
   ]
  },
  {
   "cell_type": "markdown",
   "metadata": {},
   "source": [
    "### Q6: Xhat Controller Implementation"
   ]
  },
  {
   "cell_type": "code",
   "execution_count": null,
   "metadata": {},
   "outputs": [],
   "source": [
    "class Controller:\n",
    "    def __init__(self):\n",
    "        self.A = np.array([[0.0000, 1.0000], [0.0000, 0.0000]])\n",
    "        self.B = np.array([[0.0000], [5.0930]])\n",
    "        self.C = np.array([[1.0000, 0.0000]])\n",
    "\n",
    "        self.K = np.array([[0.6255, 1.5209]])\n",
    "        self.L = np.array([[2.5998], [2.2574]])\n",
    "\n",
    "        self.dt = 0.01\n",
    "        self.qe = np.pi/8\n",
    "    \n",
    "    def reset(self):\n",
    "        self.xhat = ([0.,0.])\n",
    "    \n",
    "    def run(self, t, wheel_angle_measurement):\n",
    "        \"\"\"\n",
    "        INPUTS\n",
    "         t = current time (s)\n",
    "         wheel_angle_measurement = measured angle of wheel (rad)\n",
    "        \n",
    "        OUTPUTS\n",
    "         wheel_torque = torque applied to wheel by motor on ground (N m)\n",
    "        \"\"\"\n",
    "        \n",
    "        u = -self.K@self.xhat\n",
    "        y = np.array([wheel_angle_measurement - self.qe])\n",
    "        self.xhat += (self.A@self.xhat + self.B@u - self.L@(self.C@self.xhat - y))*self.dt\n",
    "\n",
    "        wheel_torque = u[0]\n",
    "        \n",
    "        return wheel_torque"
   ]
  },
  {
   "attachments": {},
   "cell_type": "markdown",
   "metadata": {},
   "source": [
    "### Q7: q/r ratio graphs"
   ]
  },
  {
   "cell_type": "code",
   "execution_count": 79,
   "metadata": {},
   "outputs": [
    {
     "data": {
      "text/plain": [
       "(1.0, 0.01, 1000.0, 10.0)"
      ]
     },
     "execution_count": 79,
     "metadata": {},
     "output_type": "execute_result"
    }
   ],
   "source": [
    "one = 3/3\n",
    "two = 0.3/30\n",
    "three = 2000/2\n",
    "four = 200000/20000\n",
    "\n",
    "one, two, three, four"
   ]
  },
  {
   "cell_type": "markdown",
   "metadata": {},
   "source": [
    "### Exam Try 2 Score"
   ]
  },
  {
   "cell_type": "code",
   "execution_count": 80,
   "metadata": {},
   "outputs": [],
   "source": [
    "exam2_score = 74.92/75"
   ]
  },
  {
   "cell_type": "code",
   "execution_count": 81,
   "metadata": {},
   "outputs": [
    {
     "data": {
      "text/plain": [
       "0.9989333333333333"
      ]
     },
     "execution_count": 81,
     "metadata": {},
     "output_type": "execute_result"
    }
   ],
   "source": [
    "exam2_score"
   ]
  },
  {
   "attachments": {},
   "cell_type": "markdown",
   "metadata": {},
   "source": [
    "## Scores!"
   ]
  },
  {
   "attachments": {},
   "cell_type": "markdown",
   "metadata": {},
   "source": [
    "Exam Try 1"
   ]
  },
  {
   "cell_type": "code",
   "execution_count": 85,
   "metadata": {},
   "outputs": [
    {
     "data": {
      "text/plain": [
       "0.9333333333333333"
      ]
     },
     "execution_count": 85,
     "metadata": {},
     "output_type": "execute_result"
    }
   ],
   "source": [
    "exam1_score"
   ]
  },
  {
   "attachments": {},
   "cell_type": "markdown",
   "metadata": {},
   "source": [
    "Exam Try 2"
   ]
  },
  {
   "cell_type": "code",
   "execution_count": 86,
   "metadata": {},
   "outputs": [
    {
     "data": {
      "text/plain": [
       "0.9989333333333333"
      ]
     },
     "execution_count": 86,
     "metadata": {},
     "output_type": "execute_result"
    }
   ],
   "source": [
    "exam2_score"
   ]
  },
  {
   "cell_type": "code",
   "execution_count": null,
   "metadata": {},
   "outputs": [],
   "source": []
  }
 ],
 "metadata": {
  "kernelspec": {
   "display_name": "Python 3",
   "language": "python",
   "name": "python3"
  },
  "language_info": {
   "codemirror_mode": {
    "name": "ipython",
    "version": 3
   },
   "file_extension": ".py",
   "mimetype": "text/x-python",
   "name": "python",
   "nbconvert_exporter": "python",
   "pygments_lexer": "ipython3",
   "version": "3.11.1"
  },
  "orig_nbformat": 4
 },
 "nbformat": 4,
 "nbformat_minor": 2
}
