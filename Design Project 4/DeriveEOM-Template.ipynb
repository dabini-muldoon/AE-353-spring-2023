{
 "cells": [
  {
   "cell_type": "markdown",
   "id": "2192b108",
   "metadata": {},
   "source": [
    "# Derive models of drone"
   ]
  },
  {
   "cell_type": "markdown",
   "id": "6ac3a4e5",
   "metadata": {},
   "source": [
    "Do all imports."
   ]
  },
  {
   "cell_type": "code",
   "execution_count": 1,
   "id": "c51ddd4f",
   "metadata": {},
   "outputs": [],
   "source": [
    "import sympy as sym\n",
    "import numpy as np\n",
    "from scipy import linalg\n",
    "from scipy import signal\n",
    "\n",
    "# Suppress the use of scientific notation when printing small numbers\n",
    "np.set_printoptions(suppress=True)"
   ]
  },
  {
   "cell_type": "markdown",
   "id": "under-stupid",
   "metadata": {},
   "source": [
    "## Dynamic model"
   ]
  },
  {
   "cell_type": "markdown",
   "id": "17737b05",
   "metadata": {},
   "source": [
    "Define physical parameters."
   ]
  },
  {
   "cell_type": "code",
   "execution_count": 2,
   "id": "e1b2349d",
   "metadata": {},
   "outputs": [],
   "source": [
    "params = {\n",
    "    'm': 0.5,\n",
    "    'Jx': 0.0023,\n",
    "    'Jy': 0.0023,\n",
    "    'Jz': 0.0040,\n",
    "    'l': 0.175,\n",
    "    'g': 9.81,\n",
    "}"
   ]
  },
  {
   "cell_type": "markdown",
   "id": "following-implementation",
   "metadata": {},
   "source": [
    "Derive the equations of motion:"
   ]
  },
  {
   "cell_type": "code",
   "execution_count": 3,
   "id": "executive-channel",
   "metadata": {},
   "outputs": [],
   "source": [
    "# components of position (meters)\n",
    "p_x, p_y, p_z = sym.symbols('p_x, p_y, p_z')\n",
    "\n",
    "# yaw, pitch, roll angles (radians)\n",
    "psi, theta, phi = sym.symbols('psi, theta, phi')\n",
    "\n",
    "# components of linear velocity (meters / second)\n",
    "v_x, v_y, v_z = sym.symbols('v_x, v_y, v_z')\n",
    "v_in_body = sym.Matrix([v_x, v_y, v_z])\n",
    "\n",
    "# components of angular velocity (radians / second)\n",
    "w_x, w_y, w_z = sym.symbols('w_x, w_y, w_z')\n",
    "w_in_body = sym.Matrix([w_x, w_y, w_z])\n",
    "\n",
    "# components of net rotor torque\n",
    "tau_x, tau_y, tau_z = sym.symbols('tau_x, tau_y, tau_z')\n",
    "\n",
    "# net rotor force\n",
    "f_z = sym.symbols('f_z')\n",
    "\n",
    "# parameters\n",
    "m = sym.nsimplify(params['m'])\n",
    "Jx = sym.nsimplify(params['Jx'])\n",
    "Jy = sym.nsimplify(params['Jy'])\n",
    "Jz = sym.nsimplify(params['Jz'])\n",
    "l = sym.nsimplify(params['l'])\n",
    "g = sym.nsimplify(params['g'])\n",
    "J = sym.diag(Jx, Jy, Jz)\n",
    "\n",
    "# rotation matrices\n",
    "Rz = sym.Matrix([[sym.cos(psi), -sym.sin(psi), 0], [sym.sin(psi), sym.cos(psi), 0], [0, 0, 1]])\n",
    "Ry = sym.Matrix([[sym.cos(theta), 0, sym.sin(theta)], [0, 1, 0], [-sym.sin(theta), 0, sym.cos(theta)]])\n",
    "Rx = sym.Matrix([[1, 0, 0], [0, sym.cos(phi), -sym.sin(phi)], [0, sym.sin(phi), sym.cos(phi)]])\n",
    "R_body_in_world = Rz @ Ry @ Rx\n",
    "\n",
    "# angular velocity to angular rates\n",
    "ex = sym.Matrix([[1], [0], [0]])\n",
    "ey = sym.Matrix([[0], [1], [0]])\n",
    "ez = sym.Matrix([[0], [0], [1]])\n",
    "M = sym.simplify(sym.Matrix.hstack((Ry @ Rx).T @ ez, Rx.T @ ey, ex).inv(), full=True)\n",
    "\n",
    "# applied forces\n",
    "f_in_body = R_body_in_world.T @ sym.Matrix([[0], [0], [-m * g]]) + sym.Matrix([[0], [0], [f_z]])\n",
    "\n",
    "# applied torques\n",
    "tau_in_body = sym.Matrix([[tau_x], [tau_y], [tau_z]])\n",
    "\n",
    "# equations of motion\n",
    "f = sym.Matrix.vstack(\n",
    "    R_body_in_world @ v_in_body,\n",
    "    M @ w_in_body,\n",
    "    (1 / m) * (f_in_body - w_in_body.cross(m * v_in_body)),\n",
    "    J.inv() @ (tau_in_body - w_in_body.cross(J @ w_in_body)),\n",
    ")\n",
    "\n",
    "f = sym.simplify(f, full=True)"
   ]
  },
  {
   "cell_type": "markdown",
   "id": "according-occasion",
   "metadata": {},
   "source": [
    "The equations of motion have this form:\n",
    "\n",
    "$$\\begin{bmatrix} \\dot{p}_x \\\\ \\dot{p}_y \\\\ \\dot{p}_z \\\\ \\dot{\\psi} \\\\ \\dot{\\theta} \\\\ \\dot{\\phi} \\\\ \\dot{v}_x \\\\ \\dot{v}_y \\\\ \\dot{v}_z \\\\ \\dot{w}_x \\\\ \\dot{w}_y \\\\ \\dot{w}_z \\end{bmatrix} = f\\left(p_x, p_y, p_z, \\psi, \\theta, \\phi, v_x, v_y, v_z, w_x, w_y, w_z, \\tau_x, \\tau_y, \\tau_z, f_z \\right)$$\n",
    "\n",
    "Here is the function $f$:"
   ]
  },
  {
   "cell_type": "code",
   "execution_count": 4,
   "id": "welsh-passion",
   "metadata": {},
   "outputs": [
    {
     "data": {
      "text/latex": [
       "$\\displaystyle \\left[\\begin{matrix}v_{x} \\cos{\\left(\\psi \\right)} \\cos{\\left(\\theta \\right)} + v_{y} \\left(\\sin{\\left(\\phi \\right)} \\sin{\\left(\\theta \\right)} \\cos{\\left(\\psi \\right)} - \\sin{\\left(\\psi \\right)} \\cos{\\left(\\phi \\right)}\\right) + v_{z} \\left(\\sin{\\left(\\phi \\right)} \\sin{\\left(\\psi \\right)} + \\sin{\\left(\\theta \\right)} \\cos{\\left(\\phi \\right)} \\cos{\\left(\\psi \\right)}\\right)\\\\v_{x} \\sin{\\left(\\psi \\right)} \\cos{\\left(\\theta \\right)} + v_{y} \\left(\\sin{\\left(\\phi \\right)} \\sin{\\left(\\psi \\right)} \\sin{\\left(\\theta \\right)} + \\cos{\\left(\\phi \\right)} \\cos{\\left(\\psi \\right)}\\right) - v_{z} \\left(\\sin{\\left(\\phi \\right)} \\cos{\\left(\\psi \\right)} - \\sin{\\left(\\psi \\right)} \\sin{\\left(\\theta \\right)} \\cos{\\left(\\phi \\right)}\\right)\\\\- v_{x} \\sin{\\left(\\theta \\right)} + v_{y} \\sin{\\left(\\phi \\right)} \\cos{\\left(\\theta \\right)} + v_{z} \\cos{\\left(\\phi \\right)} \\cos{\\left(\\theta \\right)}\\\\\\frac{w_{y} \\sin{\\left(\\phi \\right)} + w_{z} \\cos{\\left(\\phi \\right)}}{\\cos{\\left(\\theta \\right)}}\\\\w_{y} \\cos{\\left(\\phi \\right)} - w_{z} \\sin{\\left(\\phi \\right)}\\\\w_{x} + w_{y} \\sin{\\left(\\phi \\right)} \\tan{\\left(\\theta \\right)} + w_{z} \\cos{\\left(\\phi \\right)} \\tan{\\left(\\theta \\right)}\\\\v_{y} w_{z} - v_{z} w_{y} + \\frac{981 \\sin{\\left(\\theta \\right)}}{100}\\\\- v_{x} w_{z} + v_{z} w_{x} - \\frac{981 \\sin{\\left(\\phi \\right)} \\cos{\\left(\\theta \\right)}}{100}\\\\2 f_{z} + v_{x} w_{y} - v_{y} w_{x} - \\frac{981 \\cos{\\left(\\phi \\right)} \\cos{\\left(\\theta \\right)}}{100}\\\\\\frac{10000 \\tau_{x}}{23} - \\frac{17 w_{y} w_{z}}{23}\\\\\\frac{10000 \\tau_{y}}{23} + \\frac{17 w_{x} w_{z}}{23}\\\\250 \\tau_{z}\\end{matrix}\\right]$"
      ],
      "text/plain": [
       "Matrix([\n",
       "[v_x*cos(psi)*cos(theta) + v_y*(sin(phi)*sin(theta)*cos(psi) - sin(psi)*cos(phi)) + v_z*(sin(phi)*sin(psi) + sin(theta)*cos(phi)*cos(psi))],\n",
       "[v_x*sin(psi)*cos(theta) + v_y*(sin(phi)*sin(psi)*sin(theta) + cos(phi)*cos(psi)) - v_z*(sin(phi)*cos(psi) - sin(psi)*sin(theta)*cos(phi))],\n",
       "[                                                                      -v_x*sin(theta) + v_y*sin(phi)*cos(theta) + v_z*cos(phi)*cos(theta)],\n",
       "[                                                                                                 (w_y*sin(phi) + w_z*cos(phi))/cos(theta)],\n",
       "[                                                                                                              w_y*cos(phi) - w_z*sin(phi)],\n",
       "[                                                                                  w_x + w_y*sin(phi)*tan(theta) + w_z*cos(phi)*tan(theta)],\n",
       "[                                                                                                   v_y*w_z - v_z*w_y + 981*sin(theta)/100],\n",
       "[                                                                                         -v_x*w_z + v_z*w_x - 981*sin(phi)*cos(theta)/100],\n",
       "[                                                                                  2*f_z + v_x*w_y - v_y*w_x - 981*cos(phi)*cos(theta)/100],\n",
       "[                                                                                                           10000*tau_x/23 - 17*w_y*w_z/23],\n",
       "[                                                                                                           10000*tau_y/23 + 17*w_x*w_z/23],\n",
       "[                                                                                                                                250*tau_z]])"
      ]
     },
     "execution_count": 4,
     "metadata": {},
     "output_type": "execute_result"
    }
   ],
   "source": [
    "f"
   ]
  },
  {
   "cell_type": "markdown",
   "id": "b0c8096f",
   "metadata": {},
   "source": [
    "## Sensor model"
   ]
  },
  {
   "cell_type": "markdown",
   "id": "9fd374c5",
   "metadata": {},
   "source": [
    "Define the sensor model."
   ]
  },
  {
   "cell_type": "code",
   "execution_count": 5,
   "id": "14255c26",
   "metadata": {},
   "outputs": [],
   "source": [
    "# Position of drone in world frame\n",
    "p_in_world = sym.Matrix([p_x, p_y, p_z])\n",
    "\n",
    "# Position of markers in body frame\n",
    "a_in_body = sym.Matrix([l, 0, 0])  # <-- marker on front rotor\n",
    "b_in_body = sym.Matrix([-l, 0, 0]) # <-- marker on rear rotor\n",
    "\n",
    "# Position of markers in world frame\n",
    "a_in_world = p_in_world + R_body_in_world @ a_in_body\n",
    "b_in_world = p_in_world + R_body_in_world @ b_in_body\n",
    "\n",
    "# Sensor model\n",
    "g = sym.simplify(sym.Matrix.vstack(a_in_world, b_in_world))"
   ]
  },
  {
   "cell_type": "markdown",
   "id": "8e33f4f7",
   "metadata": {},
   "source": [
    "The sensor model has this form:\n",
    "\n",
    "$$o = g(p_x, p_y, p_z, \\psi, \\theta)$$\n",
    "\n",
    "Here is the function $g$:"
   ]
  },
  {
   "cell_type": "code",
   "execution_count": 6,
   "id": "ecc9e8bd",
   "metadata": {},
   "outputs": [
    {
     "data": {
      "text/latex": [
       "$\\displaystyle \\left[\\begin{matrix}p_{x} + \\frac{7 \\cos{\\left(\\psi \\right)} \\cos{\\left(\\theta \\right)}}{40}\\\\p_{y} + \\frac{7 \\sin{\\left(\\psi \\right)} \\cos{\\left(\\theta \\right)}}{40}\\\\p_{z} - \\frac{7 \\sin{\\left(\\theta \\right)}}{40}\\\\p_{x} - \\frac{7 \\cos{\\left(\\psi \\right)} \\cos{\\left(\\theta \\right)}}{40}\\\\p_{y} - \\frac{7 \\sin{\\left(\\psi \\right)} \\cos{\\left(\\theta \\right)}}{40}\\\\p_{z} + \\frac{7 \\sin{\\left(\\theta \\right)}}{40}\\end{matrix}\\right]$"
      ],
      "text/plain": [
       "Matrix([\n",
       "[p_x + 7*cos(psi)*cos(theta)/40],\n",
       "[p_y + 7*sin(psi)*cos(theta)/40],\n",
       "[         p_z - 7*sin(theta)/40],\n",
       "[p_x - 7*cos(psi)*cos(theta)/40],\n",
       "[p_y - 7*sin(psi)*cos(theta)/40],\n",
       "[         p_z + 7*sin(theta)/40]])"
      ]
     },
     "execution_count": 6,
     "metadata": {},
     "output_type": "execute_result"
    }
   ],
   "source": [
    "g"
   ]
  },
  {
   "cell_type": "code",
   "execution_count": 7,
   "id": "9c589efd",
   "metadata": {},
   "outputs": [
    {
     "data": {
      "text/latex": [
       "$\\displaystyle \\left[\\begin{matrix}v_{x}\\\\v_{y}\\\\v_{z}\\\\w_{z}\\\\w_{y}\\\\w_{x}\\\\v_{y} w_{z} - v_{z} w_{y}\\\\- v_{x} w_{z} + v_{z} w_{x}\\\\2 f_{z} + v_{x} w_{y} - v_{y} w_{x} - \\frac{981}{100}\\\\\\frac{10000 \\tau_{x}}{23} - \\frac{17 w_{y} w_{z}}{23}\\\\\\frac{10000 \\tau_{y}}{23} + \\frac{17 w_{x} w_{z}}{23}\\\\250 \\tau_{z}\\end{matrix}\\right]$"
      ],
      "text/plain": [
       "Matrix([\n",
       "[                                v_x],\n",
       "[                                v_y],\n",
       "[                                v_z],\n",
       "[                                w_z],\n",
       "[                                w_y],\n",
       "[                                w_x],\n",
       "[                  v_y*w_z - v_z*w_y],\n",
       "[                 -v_x*w_z + v_z*w_x],\n",
       "[2*f_z + v_x*w_y - v_y*w_x - 981/100],\n",
       "[     10000*tau_x/23 - 17*w_y*w_z/23],\n",
       "[     10000*tau_y/23 + 17*w_x*w_z/23],\n",
       "[                          250*tau_z]])"
      ]
     },
     "execution_count": 7,
     "metadata": {},
     "output_type": "execute_result"
    }
   ],
   "source": [
    "f_eqcheck = f.subs(psi, 0).subs(theta, 0).subs(phi, 0)\n",
    "f_eqcheck"
   ]
  },
  {
   "cell_type": "code",
   "execution_count": 8,
   "id": "0c9e62d0",
   "metadata": {},
   "outputs": [
    {
     "data": {
      "text/latex": [
       "$\\displaystyle \\left[\\begin{matrix}0\\\\0\\\\0\\\\0\\\\0\\\\0\\\\0\\\\0\\\\2 f_{z} - \\frac{981}{100}\\\\\\frac{10000 \\tau_{x}}{23}\\\\\\frac{10000 \\tau_{y}}{23}\\\\250 \\tau_{z}\\end{matrix}\\right]$"
      ],
      "text/plain": [
       "Matrix([\n",
       "[              0],\n",
       "[              0],\n",
       "[              0],\n",
       "[              0],\n",
       "[              0],\n",
       "[              0],\n",
       "[              0],\n",
       "[              0],\n",
       "[2*f_z - 981/100],\n",
       "[ 10000*tau_x/23],\n",
       "[ 10000*tau_y/23],\n",
       "[      250*tau_z]])"
      ]
     },
     "execution_count": 8,
     "metadata": {},
     "output_type": "execute_result"
    }
   ],
   "source": [
    "f_eqcheck = f_eqcheck.subs(v_x, 0).subs(v_y, 0).subs(v_z, 0).subs(w_x, 0).subs(w_y, 0).subs(w_z, 0)\n",
    "f_eqcheck"
   ]
  },
  {
   "cell_type": "code",
   "execution_count": 9,
   "id": "44a5b1c0",
   "metadata": {},
   "outputs": [
    {
     "data": {
      "text/latex": [
       "$\\displaystyle \\left[\\begin{matrix}p_{x} + \\frac{7}{40}\\\\p_{y}\\\\p_{z}\\\\p_{x} - \\frac{7}{40}\\\\p_{y}\\\\p_{z}\\end{matrix}\\right]$"
      ],
      "text/plain": [
       "Matrix([\n",
       "[p_x + 7/40],\n",
       "[       p_y],\n",
       "[       p_z],\n",
       "[p_x - 7/40],\n",
       "[       p_y],\n",
       "[       p_z]])"
      ]
     },
     "execution_count": 9,
     "metadata": {},
     "output_type": "execute_result"
    }
   ],
   "source": [
    "g_eqcheck = g.subs(psi, 0).subs(theta, 0).subs(phi, 0)\n",
    "g_eqcheck"
   ]
  },
  {
   "cell_type": "markdown",
   "id": "84e9b405",
   "metadata": {},
   "source": [
    "#### Equilibrium Points"
   ]
  },
  {
   "cell_type": "code",
   "execution_count": 27,
   "id": "adf7e948",
   "metadata": {},
   "outputs": [],
   "source": [
    "p_xe = 0\n",
    "p_ye = 0\n",
    "p_ze = 0\n",
    "\n",
    "psi_e = 0\n",
    "theta_e = 0\n",
    "phi_e = 0\n",
    "v_xe = 0\n",
    "v_ye = 0\n",
    "v_ze = 0\n",
    "w_xe = 0\n",
    "w_ye = 0\n",
    "w_ze = 0\n",
    "tau_xe = 0\n",
    "tau_ye = 0\n",
    "tau_ze = 0\n",
    "f_ze = (981/100)/2\n",
    "\n",
    "A_num = sym.lambdify((p_x, p_y, p_z, psi, theta, phi, v_x, v_y, v_z, w_x, w_y, w_z, tau_x, tau_y, tau_z, f_z), f.jacobian([p_x, p_y, p_z, psi, theta, phi, v_x, v_y, v_z, w_x, w_y, w_z]))\n",
    "B_num = sym.lambdify((p_x, p_y, p_z, psi, theta, phi, v_x, v_y, v_z, w_x, w_y, w_z, tau_x, tau_y, tau_z, f_z), f.jacobian([tau_x, tau_y, tau_z, f_z]))\n",
    "C_num = sym.lambdify((p_x, p_y, p_z, psi, theta, phi, v_x, v_y, v_z, w_x, w_y, w_z, tau_x, tau_y, tau_z, f_z), g.jacobian([p_x, p_y, p_z, psi, theta, phi, v_x, v_y, v_z, w_x, w_y, w_z]))\n",
    "\n",
    "A = A_num(p_xe, p_ye, p_ze, psi_e, theta_e, phi_e, v_xe, v_ye, v_ze, w_xe, w_ye, w_ze, tau_xe, tau_ye, tau_ze, f_ze).astype(float)\n",
    "B = B_num(p_xe, p_ye, p_ze, psi_e, theta_e, phi_e, v_xe, v_ye, v_ze, w_xe, w_ye, w_ze, tau_xe, tau_ye, tau_ze, f_ze).astype(float)\n",
    "C = C_num(p_xe, p_ye, p_ze, psi_e, theta_e, phi_e, v_xe, v_ye, v_ze, w_xe, w_ye, w_ze, tau_xe, tau_ye, tau_ze, f_ze).astype(float)"
   ]
  },
  {
   "cell_type": "markdown",
   "id": "73e84c1b",
   "metadata": {},
   "source": [
    "#### Symbolic Representation of A, B, C"
   ]
  },
  {
   "cell_type": "code",
   "execution_count": 28,
   "id": "18c8835b",
   "metadata": {},
   "outputs": [
    {
     "data": {
      "text/latex": [
       "$\\displaystyle \\left[\\begin{array}{cccccccccccc}0 & 0 & 0 & 0 & 0 & 0 & 1.0 & 0 & 0 & 0 & 0 & 0\\\\0 & 0 & 0 & 0 & 0 & 0 & 0 & 1.0 & 0 & 0 & 0 & 0\\\\0 & 0 & 0 & 0 & 0 & 0 & 0 & 0 & 1.0 & 0 & 0 & 0\\\\0 & 0 & 0 & 0 & 0 & 0 & 0 & 0 & 0 & 0 & 0 & 1.0\\\\0 & 0 & 0 & 0 & 0 & 0 & 0 & 0 & 0 & 0 & 1.0 & 0\\\\0 & 0 & 0 & 0 & 0 & 0 & 0 & 0 & 0 & 1.0 & 0 & 0\\\\0 & 0 & 0 & 0 & 9.81 & 0 & 0 & 0 & 0 & 0 & 0 & 0\\\\0 & 0 & 0 & 0 & 0 & -9.81 & 0 & 0 & 0 & 0 & 0 & 0\\\\0 & 0 & 0 & 0 & 0 & 0 & 0 & 0 & 0 & 0 & 0 & 0\\\\0 & 0 & 0 & 0 & 0 & 0 & 0 & 0 & 0 & 0 & 0 & 0\\\\0 & 0 & 0 & 0 & 0 & 0 & 0 & 0 & 0 & 0 & 0 & 0\\\\0 & 0 & 0 & 0 & 0 & 0 & 0 & 0 & 0 & 0 & 0 & 0\\end{array}\\right]$"
      ],
      "text/plain": [
       "Matrix([\n",
       "[0, 0, 0, 0,    0,     0, 1.0,   0,   0,   0,   0,   0],\n",
       "[0, 0, 0, 0,    0,     0,   0, 1.0,   0,   0,   0,   0],\n",
       "[0, 0, 0, 0,    0,     0,   0,   0, 1.0,   0,   0,   0],\n",
       "[0, 0, 0, 0,    0,     0,   0,   0,   0,   0,   0, 1.0],\n",
       "[0, 0, 0, 0,    0,     0,   0,   0,   0,   0, 1.0,   0],\n",
       "[0, 0, 0, 0,    0,     0,   0,   0,   0, 1.0,   0,   0],\n",
       "[0, 0, 0, 0, 9.81,     0,   0,   0,   0,   0,   0,   0],\n",
       "[0, 0, 0, 0,    0, -9.81,   0,   0,   0,   0,   0,   0],\n",
       "[0, 0, 0, 0,    0,     0,   0,   0,   0,   0,   0,   0],\n",
       "[0, 0, 0, 0,    0,     0,   0,   0,   0,   0,   0,   0],\n",
       "[0, 0, 0, 0,    0,     0,   0,   0,   0,   0,   0,   0],\n",
       "[0, 0, 0, 0,    0,     0,   0,   0,   0,   0,   0,   0]])"
      ]
     },
     "execution_count": 28,
     "metadata": {},
     "output_type": "execute_result"
    }
   ],
   "source": [
    "A_sym = sym.Matrix(A)\n",
    "B_sym = sym.Matrix(B)\n",
    "C_sym = sym.Matrix(C)\n",
    "\n",
    "A_sym"
   ]
  },
  {
   "cell_type": "code",
   "execution_count": 29,
   "id": "5f274427",
   "metadata": {},
   "outputs": [
    {
     "data": {
      "text/latex": [
       "$\\displaystyle \\left[\\begin{matrix}0 & 0 & 0 & 0\\\\0 & 0 & 0 & 0\\\\0 & 0 & 0 & 0\\\\0 & 0 & 0 & 0\\\\0 & 0 & 0 & 0\\\\0 & 0 & 0 & 0\\\\0 & 0 & 0 & 0\\\\0 & 0 & 0 & 0\\\\0 & 0 & 0 & 2.0\\\\434.782608695652 & 0 & 0 & 0\\\\0 & 434.782608695652 & 0 & 0\\\\0 & 0 & 250.0 & 0\\end{matrix}\\right]$"
      ],
      "text/plain": [
       "Matrix([\n",
       "[               0,                0,     0,   0],\n",
       "[               0,                0,     0,   0],\n",
       "[               0,                0,     0,   0],\n",
       "[               0,                0,     0,   0],\n",
       "[               0,                0,     0,   0],\n",
       "[               0,                0,     0,   0],\n",
       "[               0,                0,     0,   0],\n",
       "[               0,                0,     0,   0],\n",
       "[               0,                0,     0, 2.0],\n",
       "[434.782608695652,                0,     0,   0],\n",
       "[               0, 434.782608695652,     0,   0],\n",
       "[               0,                0, 250.0,   0]])"
      ]
     },
     "execution_count": 29,
     "metadata": {},
     "output_type": "execute_result"
    }
   ],
   "source": [
    "B_sym"
   ]
  },
  {
   "cell_type": "code",
   "execution_count": 30,
   "id": "0e0121d4",
   "metadata": {},
   "outputs": [
    {
     "data": {
      "text/latex": [
       "$\\displaystyle \\left[\\begin{array}{cccccccccccc}1.0 & 0 & 0 & 0 & 0 & 0 & 0 & 0 & 0 & 0 & 0 & 0\\\\0 & 1.0 & 0 & 0.175 & 0 & 0 & 0 & 0 & 0 & 0 & 0 & 0\\\\0 & 0 & 1.0 & 0 & -0.175 & 0 & 0 & 0 & 0 & 0 & 0 & 0\\\\1.0 & 0 & 0 & 0 & 0 & 0 & 0 & 0 & 0 & 0 & 0 & 0\\\\0 & 1.0 & 0 & -0.175 & 0 & 0 & 0 & 0 & 0 & 0 & 0 & 0\\\\0 & 0 & 1.0 & 0 & 0.175 & 0 & 0 & 0 & 0 & 0 & 0 & 0\\end{array}\\right]$"
      ],
      "text/plain": [
       "Matrix([\n",
       "[1.0,   0,   0,      0,      0, 0, 0, 0, 0, 0, 0, 0],\n",
       "[  0, 1.0,   0,  0.175,      0, 0, 0, 0, 0, 0, 0, 0],\n",
       "[  0,   0, 1.0,      0, -0.175, 0, 0, 0, 0, 0, 0, 0],\n",
       "[1.0,   0,   0,      0,      0, 0, 0, 0, 0, 0, 0, 0],\n",
       "[  0, 1.0,   0, -0.175,      0, 0, 0, 0, 0, 0, 0, 0],\n",
       "[  0,   0, 1.0,      0,  0.175, 0, 0, 0, 0, 0, 0, 0]])"
      ]
     },
     "execution_count": 30,
     "metadata": {},
     "output_type": "execute_result"
    }
   ],
   "source": [
    "C_sym"
   ]
  },
  {
   "cell_type": "markdown",
   "id": "df978da2",
   "metadata": {},
   "source": [
    "#### Check if Controllable & Observable"
   ]
  },
  {
   "cell_type": "markdown",
   "id": "60407b03",
   "metadata": {},
   "source": [
    "controller"
   ]
  },
  {
   "cell_type": "code",
   "execution_count": 31,
   "id": "e6fc4a35",
   "metadata": {},
   "outputs": [
    {
     "data": {
      "text/plain": [
       "True"
      ]
     },
     "execution_count": 31,
     "metadata": {},
     "output_type": "execute_result"
    }
   ],
   "source": [
    "Wcnt = B\n",
    "n = A.shape[0]\n",
    "for i in range(1, n):\n",
    "    col = np.linalg.matrix_power(A, i) @ B\n",
    "    Wcnt = np.block([Wcnt, col])\n",
    "\n",
    "np.linalg.matrix_rank(Wcnt) == A.shape[0]"
   ]
  },
  {
   "cell_type": "markdown",
   "id": "1169ebdc",
   "metadata": {},
   "source": [
    "observer"
   ]
  },
  {
   "cell_type": "code",
   "execution_count": 32,
   "id": "11135e1d",
   "metadata": {},
   "outputs": [
    {
     "data": {
      "text/plain": [
       "True"
      ]
     },
     "execution_count": 32,
     "metadata": {},
     "output_type": "execute_result"
    }
   ],
   "source": [
    "Wobs = C.T\n",
    "n = A.T.shape[0]\n",
    "for i in range(1, n):\n",
    "    col = np.linalg.matrix_power(A.T, i) @ C.T\n",
    "    Wobs = np.block([Wobs, col])\n",
    "\n",
    "np.linalg.matrix_rank(Wobs.T) == A.T.shape[0]"
   ]
  },
  {
   "cell_type": "markdown",
   "id": "64518389",
   "metadata": {},
   "source": [
    "#### K and L from LQR"
   ]
  },
  {
   "cell_type": "code",
   "execution_count": 33,
   "id": "292c613f",
   "metadata": {},
   "outputs": [],
   "source": [
    "def lqr(A, B, Q, R):\n",
    "    P = linalg.solve_continuous_are(A, B, Q, R)\n",
    "    K = linalg.inv(R) @ B.T @ P\n",
    "    return K"
   ]
  },
  {
   "cell_type": "code",
   "execution_count": 34,
   "id": "4fe81537",
   "metadata": {},
   "outputs": [
    {
     "data": {
      "text/plain": [
       "((12, 12), (12, 4), (6, 12))"
      ]
     },
     "execution_count": 34,
     "metadata": {},
     "output_type": "execute_result"
    }
   ],
   "source": [
    "A.shape, B.shape, C.shape"
   ]
  },
  {
   "cell_type": "markdown",
   "id": "7d20b91f",
   "metadata": {},
   "source": [
    "$Q_c$ and $R_c$ for Controller; $Q_c$ = 12x12 and $R_c$ = 4x4"
   ]
  },
  {
   "cell_type": "code",
   "execution_count": 35,
   "id": "81dc19de",
   "metadata": {},
   "outputs": [],
   "source": [
    "# just identity matrix\n",
    "Qc_eye = np.eye(12)\n",
    "Rc_eye = np.eye(4)\n",
    "\n",
    "# if we wanna specify values\n",
    "Qc1 = 0\n",
    "Qc2 = 0\n",
    "Qc3 = 0\n",
    "Qc4 = 0\n",
    "Qc5 = 0\n",
    "Qc6 = 0\n",
    "Qc7 = 0\n",
    "Qc8 = 0\n",
    "Qc9 = 0\n",
    "Qc10 = 0\n",
    "Qc11 = 0\n",
    "Qc12 = 0\n",
    "\n",
    "Qc_spec = np.diag([Qc1, Qc2, Qc3, Qc4, Qc5, Qc6, Qc7, Qc8, Qc9, Qc10, Qc11, Qc12])\n",
    "\n",
    "Rc1 = 0\n",
    "Rc2 = 0\n",
    "Rc3 = 0\n",
    "Rc4 = 0\n",
    "\n",
    "Rc_spec = np.diag([Rc1, Rc2, Rc3, Rc4])"
   ]
  },
  {
   "cell_type": "markdown",
   "id": "70fee032",
   "metadata": {},
   "source": [
    "$K$; Controller"
   ]
  },
  {
   "cell_type": "code",
   "execution_count": 36,
   "id": "fd7dcec8",
   "metadata": {},
   "outputs": [
    {
     "data": {
      "text/plain": [
       "array([[-0.        , -1.        , -0.        , -0.        , -0.        ,\n",
       "         5.46213218, -0.        , -1.45381723, -0.        ,  1.01248497,\n",
       "         0.        ,  0.        ],\n",
       "       [ 1.        , -0.        ,  0.        ,  0.        ,  5.46213218,\n",
       "         0.        ,  1.45381723, -0.        , -0.        ,  0.        ,\n",
       "         1.01248497, -0.        ],\n",
       "       [ 0.        ,  0.        ,  0.        ,  1.        , -0.        ,\n",
       "        -0.        ,  0.        ,  0.        ,  0.        ,  0.        ,\n",
       "        -0.        ,  1.00399203],\n",
       "       [-0.        ,  0.        ,  1.        , -0.        , -0.        ,\n",
       "        -0.        , -0.        ,  0.        ,  1.41421356, -0.        ,\n",
       "        -0.        ,  0.        ]])"
      ]
     },
     "execution_count": 36,
     "metadata": {},
     "output_type": "execute_result"
    }
   ],
   "source": [
    "Kc = lqr(A, B, Qc_eye, Rc_eye)\n",
    "Kc"
   ]
  },
  {
   "cell_type": "markdown",
   "id": "3c2625e1",
   "metadata": {},
   "source": [
    "$Q_o$ and $R_o$ for Observer; $Q_o$ = 12x12, $R_o$ and 6x6"
   ]
  },
  {
   "cell_type": "code",
   "execution_count": 37,
   "id": "f2a8055f",
   "metadata": {},
   "outputs": [],
   "source": [
    "# just identity matrix\n",
    "Qo_eye = np.eye(12)\n",
    "Ro_eye = np.eye(6)\n",
    "\n",
    "# if we wanna specify values\n",
    "Qo1 = 0\n",
    "Qo2 = 0\n",
    "Qo3 = 0\n",
    "Qo4 = 0\n",
    "Qo5 = 0\n",
    "Qo6 = 0\n",
    "Qo7 = 0\n",
    "Qo8 = 0\n",
    "Qo9 = 0\n",
    "Qo10 = 0\n",
    "Qo11 = 0\n",
    "Qo12 = 0\n",
    "\n",
    "Qo_spec = np.diag([Qo1, Qo2, Qo3, Qo4, Qo5, Qo6, Qo7, Qo8, Qo9, Qo10, Qo11, Qo12])\n",
    "\n",
    "Ro1 = 0\n",
    "Ro2 = 0\n",
    "Ro3 = 0\n",
    "Ro4 = 0\n",
    "Ro5 = 0\n",
    "Ro6 = 0\n",
    "\n",
    "Ro_spec = np.diag([Ro1, Ro2, Ro3, Ro4, Ro5, Ro6])"
   ]
  },
  {
   "cell_type": "markdown",
   "id": "f7cd035b",
   "metadata": {},
   "source": [
    "$L$; observer"
   ]
  },
  {
   "cell_type": "code",
   "execution_count": 38,
   "id": "d42bed1d",
   "metadata": {},
   "outputs": [
    {
     "data": {
      "text/plain": [
       "array([[ 2.92711379, -0.        , -0.21976816,  2.92711379, -0.        ,\n",
       "         0.21976816],\n",
       "       [-0.        ,  2.97537602,  0.        , -0.        ,  2.97537602,\n",
       "         0.        ],\n",
       "       [ 0.        ,  0.        ,  1.09868411,  0.        ,  0.        ,\n",
       "         1.09868411],\n",
       "       [ 0.        ,  2.13087076, -0.        ,  0.        , -2.13087076,\n",
       "        -0.        ],\n",
       "       [ 1.25581808,  0.        , -0.30429738,  1.25581808, -0.        ,\n",
       "         0.30429738],\n",
       "       [-0.        , -1.30543174, -0.        , -0.        , -1.30543174,\n",
       "        -0.        ],\n",
       "       [ 8.1162932 ,  0.        , -1.19153357,  8.1162932 , -0.        ,\n",
       "         1.19153357],\n",
       "       [ 0.        ,  8.35286245,  0.        ,  0.        ,  8.35286245,\n",
       "         0.        ],\n",
       "       [ 0.        ,  0.        ,  0.70710678,  0.        ,  0.        ,\n",
       "         0.70710678],\n",
       "       [-0.        , -0.70710678, -0.        , -0.        , -0.70710678,\n",
       "        -0.        ],\n",
       "       [ 0.67683134,  0.        , -0.20469329,  0.67683134,  0.        ,\n",
       "         0.20469329],\n",
       "       [ 0.        ,  0.70710678, -0.        ,  0.        , -0.70710678,\n",
       "        -0.        ]])"
      ]
     },
     "execution_count": 38,
     "metadata": {},
     "output_type": "execute_result"
    }
   ],
   "source": [
    "Lo = lqr(A.T, C.T, np.linalg.inv(Qo_eye), np.linalg.inv(Ro_eye)).T\n",
    "Lo"
   ]
  },
  {
   "cell_type": "code",
   "execution_count": 39,
   "id": "6fe65daa",
   "metadata": {},
   "outputs": [
    {
     "data": {
      "text/plain": [
       "((4, 12), (12, 6))"
      ]
     },
     "execution_count": 39,
     "metadata": {},
     "output_type": "execute_result"
    }
   ],
   "source": [
    "Kc.shape, Lo.shape"
   ]
  },
  {
   "cell_type": "markdown",
   "id": "50e1e7bd",
   "metadata": {},
   "source": [
    "#### Check Eigvals of $F_{cnt}$ and $F_{obs}$"
   ]
  },
  {
   "cell_type": "code",
   "execution_count": 40,
   "id": "d2239267",
   "metadata": {},
   "outputs": [
    {
     "data": {
      "text/plain": [
       "(True, True)"
      ]
     },
     "execution_count": 40,
     "metadata": {},
     "output_type": "execute_result"
    }
   ],
   "source": [
    "F_cnt = A-B@Kc\n",
    "F_obs = A-Lo@C\n",
    "\n",
    "all(i < 0 for i in np.linalg.eigvals(F_cnt)), all(i < 0 for i in np.linalg.eigvals(F_obs))"
   ]
  },
  {
   "cell_type": "markdown",
   "id": "1328e10e",
   "metadata": {},
   "source": [
    "#### Check Full System Stability"
   ]
  },
  {
   "cell_type": "code",
   "execution_count": 41,
   "id": "24466215",
   "metadata": {},
   "outputs": [
    {
     "data": {
      "text/plain": [
       "True"
      ]
     },
     "execution_count": 41,
     "metadata": {},
     "output_type": "execute_result"
    }
   ],
   "source": [
    "F_sys = np.block([[A, -B@Kc],[Lo@C, A-B@Kc-Lo@C]])\n",
    "\n",
    "all(i < 0 for i in np.linalg.eigvals(F_sys))"
   ]
  },
  {
   "cell_type": "markdown",
   "id": "6d256363",
   "metadata": {},
   "source": [
    "#### Checking xhat Size"
   ]
  },
  {
   "cell_type": "code",
   "execution_count": 25,
   "id": "7854fceb",
   "metadata": {},
   "outputs": [
    {
     "data": {
      "text/plain": [
       "(12, 1)"
      ]
     },
     "execution_count": 25,
     "metadata": {},
     "output_type": "execute_result"
    }
   ],
   "source": [
    "xhat = np.array([[0.],[0.],[0.],[0.],[0.],[0.],[0.],[0.],[0.],[0.],[0.],[0.]])\n",
    "xhat.shape"
   ]
  },
  {
   "cell_type": "code",
   "execution_count": 26,
   "id": "f7ab7fec",
   "metadata": {},
   "outputs": [
    {
     "data": {
      "text/plain": [
       "array([[0.],\n",
       "       [0.],\n",
       "       [0.],\n",
       "       [0.],\n",
       "       [0.],\n",
       "       [0.],\n",
       "       [0.],\n",
       "       [0.],\n",
       "       [0.],\n",
       "       [0.],\n",
       "       [0.],\n",
       "       [0.]])"
      ]
     },
     "execution_count": 26,
     "metadata": {},
     "output_type": "execute_result"
    }
   ],
   "source": [
    "A@xhat + B@(-Kc@xhat) - Lo@(C@xhat)"
   ]
  },
  {
   "cell_type": "code",
   "execution_count": null,
   "id": "ab2519db",
   "metadata": {},
   "outputs": [],
   "source": []
  }
 ],
 "metadata": {
  "kernelspec": {
   "display_name": "Python 3 (ipykernel)",
   "language": "python",
   "name": "python3"
  },
  "language_info": {
   "codemirror_mode": {
    "name": "ipython",
    "version": 3
   },
   "file_extension": ".py",
   "mimetype": "text/x-python",
   "name": "python",
   "nbconvert_exporter": "python",
   "pygments_lexer": "ipython3",
   "version": "3.11.1"
  }
 },
 "nbformat": 4,
 "nbformat_minor": 5
}
