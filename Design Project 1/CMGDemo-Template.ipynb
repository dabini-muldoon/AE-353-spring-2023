{
 "cells": [
  {
   "cell_type": "markdown",
   "id": "middle-acoustic",
   "metadata": {},
   "source": [
    "# Control moment gyroscope"
   ]
  },
  {
   "cell_type": "markdown",
   "id": "working-minority",
   "metadata": {},
   "source": [
    "Import modules and configure the notebook."
   ]
  },
  {
   "cell_type": "code",
   "execution_count": 2,
   "id": "dimensional-contamination",
   "metadata": {},
   "outputs": [],
   "source": [
    "# This module is part of the python standard library\n",
    "import time\n",
    "\n",
    "# These modules are part of other existing libraries\n",
    "import numpy as np\n",
    "import sympy as sym\n",
    "import matplotlib.pyplot as plt\n",
    "import scipy\n",
    "\n",
    "# This is my own script (it is an interface to the pybullet simulator)\n",
    "import ae353_cmg"
   ]
  },
  {
   "cell_type": "markdown",
   "id": "protective-retreat",
   "metadata": {},
   "source": [
    "Create an instance of the `Simulator` class, which is an interface to the [pybullet](http://pybullet.org) simulation engine.\n",
    "\n",
    "There are several optional arguments:\n",
    "\n",
    "* `display` (`True` or `False`) is whether or not to show the simulation window;\n",
    "* `damping` (a non-negative floating-point number, default `0.`) is the coefficient of viscous friction at each joint;\n",
    "* `load_mass` (a non-negative floating-point number, default `1.`) is the mass of the sphere attached to the platform;\n",
    "* `roll` (an angle in radians, default `np.pi / 2`) is the roll angle of the ground."
   ]
  },
  {
   "cell_type": "code",
   "execution_count": 3,
   "id": "placed-messenger",
   "metadata": {},
   "outputs": [],
   "source": [
    "simulator = ae353_cmg.Simulator(\n",
    "    display=False,\n",
    "    damping=0.,\n",
    "    load_mass=1.,\n",
    "    roll=(np.pi / 2),\n",
    ")"
   ]
  },
  {
   "cell_type": "markdown",
   "id": "fa8737fb",
   "metadata": {},
   "source": [
    "Choose a default camera view (could also be `simulator.camera_topview()`)."
   ]
  },
  {
   "cell_type": "code",
   "execution_count": 4,
   "id": "2d921b42",
   "metadata": {},
   "outputs": [],
   "source": [
    "simulator.camera_sideview()"
   ]
  },
  {
   "cell_type": "markdown",
   "id": "3f9ebffb",
   "metadata": {},
   "source": [
    "Define a controller that maps sensor measurements to actuator commands. By default, it chooses to apply zero torque to the gimbal. Modify the `run` function to make the controller behave differently. This function will be called 100 times per second (i.e., at 100 Hz) by the simulator."
   ]
  },
  {
   "cell_type": "code",
   "execution_count": 5,
   "id": "6794851c",
   "metadata": {},
   "outputs": [],
   "source": [
    "Amatrix= np.array([[0,0,1,0],[0,0,0,1],[-4.349368,0,0,1.108402],[0,0,-454.5455,0]]) # \n",
    "Bmatrix=np.array([[0],[0],[0],[90.90909]])"
   ]
  },
  {
   "cell_type": "code",
   "execution_count": null,
   "id": "5348c3dc",
   "metadata": {},
   "outputs": [],
   "source": []
  },
  {
   "cell_type": "code",
   "execution_count": 6,
   "id": "e1375456",
   "metadata": {},
   "outputs": [
    {
     "name": "stdout",
     "output_type": "stream",
     "text": [
      "[[   0.            0.            1.            0.        ]\n",
      " [   0.            0.            0.            1.        ]\n",
      " [  -4.34936821    0.            0.            1.10840168]\n",
      " [   0.            0.         -454.54545455    0.        ]]\n",
      "[[ 0.        ]\n",
      " [ 0.        ]\n",
      " [ 0.        ]\n",
      " [90.90909091]]\n"
     ]
    }
   ],
   "source": [
    "\n",
    "        # j values + constants\n",
    "        j1z = 0.5 # kg * m^2\n",
    "        j2x = 0.001\n",
    "        j2z = 0.001 # kg * m^2\n",
    "        j3x = 0.01\n",
    "        j3z = 0.01\n",
    "        j3y = 0.01 # kg * m^2\n",
    "        \n",
    "        m = 1.0 # kg\n",
    "        r = 2.0 # m\n",
    "        g = 9.81 # m/s^2\n",
    "        v_rotor = 500 # rpm\n",
    "        \n",
    "        # a values\n",
    "        a1 = -j3y + 2*j3z\n",
    "        a2 = 2*j3y\n",
    "        a3 = -2*g*m*r\n",
    "        a4 = 2*j1z + 2*j2z + 2*m*r**2\n",
    "        a5 = 2*j3z\n",
    "        a6 = (j3y - j3z) / (2 * (j2x + j3x))\n",
    "        a7 = -j3y / (j2x + j3x)\n",
    "        a8 = 1 / (j2x + j3x)\n",
    "        \n",
    "        # do the math stuff\n",
    "        \n",
    "        q1, q2, v1, v2, tau = sym.symbols('q1, q2, v1, v2, tau')\n",
    "        f = sym.Matrix([v1, v2, (a1*sym.sin(2*q2)*v1*v2 + a2*sym.cos(q2)*v2*v_rotor + a3*sym.sin(q1)) / (a4 + a5*sym.cos(q2)**2), a6*sym.sin(2*q2)*v1**2 + a7*sym.cos(q2)*v1*v_rotor + a8*tau])\n",
    "        f_num = sym.lambdify([q1, q2, v1, v2, tau], f)\n",
    "        \n",
    "        # equilibrium points\n",
    "        q_1 = 0\n",
    "        q_2 = 0\n",
    "        v_1 = 0\n",
    "        v_2 = 0\n",
    "        tau_ = 0\n",
    "        \n",
    "        f_num(q_1, q_2, v_1, v_2, tau)\n",
    "        \n",
    "        A_num = sym.lambdify((q1, q2, v1, v2, tau), f.jacobian([q1, q2, v1, v2]))\n",
    "        A = A_num(q_1, q_2, v_1, v_2, tau_)\n",
    "        A = A.astype(float)\n",
    "\n",
    "        B_num = sym.lambdify((q1, q2, v1, v2, tau), f.jacobian([tau]), 'numpy')\n",
    "        B = B_num(q_1, q_2, v_1, v_2, tau_)\n",
    "        B = B.astype(float)\n",
    "        \n",
    "        print(A)\n",
    "        print(B)"
   ]
  },
  {
   "cell_type": "code",
   "execution_count": 7,
   "id": "71fcb781",
   "metadata": {},
   "outputs": [
    {
     "data": {
      "text/latex": [
       "$\\displaystyle \\left[\\begin{matrix}v_{1}\\\\v_{2}\\\\\\frac{0.01 v_{1} v_{2} \\sin{\\left(2 q_{2} \\right)} + 10.0 v_{2} \\cos{\\left(q_{2} \\right)} - 39.24 \\sin{\\left(q_{1} \\right)}}{0.02 \\cos^{2}{\\left(q_{2} \\right)} + 9.002}\\\\90.9090909090909 \\tau - 454.545454545455 v_{1} \\cos{\\left(q_{2} \\right)}\\end{matrix}\\right]$"
      ],
      "text/plain": [
       "Matrix([\n",
       "[                                                                                v1],\n",
       "[                                                                                v2],\n",
       "[(0.01*v1*v2*sin(2*q2) + 10.0*v2*cos(q2) - 39.24*sin(q1))/(0.02*cos(q2)**2 + 9.002)],\n",
       "[                                90.9090909090909*tau - 454.545454545455*v1*cos(q2)]])"
      ]
     },
     "execution_count": 7,
     "metadata": {},
     "output_type": "execute_result"
    }
   ],
   "source": [
    "f"
   ]
  },
  {
   "cell_type": "markdown",
   "id": "600d59ff",
   "metadata": {},
   "source": [
    "## Randomization of K value"
   ]
  },
  {
   "cell_type": "code",
   "execution_count": null,
   "id": "51d80de3",
   "metadata": {},
   "outputs": [],
   "source": [
    "import random\n",
    "\n",
    "check = True\n",
    "k = np.array([[0, 0, 0, 0]])\n",
    "while check:\n",
    "    a = random.uniform(-15,15)\n",
    "    b = random.uniform(-15,15)\n",
    "    c = random.uniform(-15,15)\n",
    "    d = random.uniform(-15,15)\n",
    "    k = np.array([[a, b, c, d]])\n",
    "    vals = np.linalg.eigvals(Amatrix-Bmatrix@k)\n",
    "    if (vals[0] < 0 and vals[1] < 0 and vals[2] < 0 and vals[3] < 0):\n",
    "        check = False\n",
    "print(k)\n",
    "print(np.linalg.eigvals(Amatrix-Bmatrix@k))\n"
   ]
  },
  {
   "cell_type": "markdown",
   "id": "4489fbd9",
   "metadata": {},
   "source": [
    "## Recording Good K Values"
   ]
  },
  {
   "cell_type": "code",
   "execution_count": null,
   "id": "9dfe29a0",
   "metadata": {},
   "outputs": [],
   "source": [
    "# another potential matrix\n",
    "\n",
    "another = np.array([[ 5.58237073,  3.54115713, 12.98960478,  3.62212887]])\n",
    "yetanother = np.array([[-11.25241229,   8.06963557,   4.9863024,    8.71055433]])\n",
    "\n",
    "thistheone = np.array([[11.52962522,  5.04217526, -2.29439909,  1.62595883]])\n",
    "thistheone"
   ]
  },
  {
   "cell_type": "markdown",
   "id": "22cbcaec",
   "metadata": {},
   "source": [
    "## This is the good matrix, [[55.2492422  29.34571649 54.25320811 96.71134327]]"
   ]
  },
  {
   "cell_type": "code",
   "execution_count": null,
   "id": "8e49f823",
   "metadata": {},
   "outputs": [],
   "source": [
    "j = np.array([[55.2492422, 29.34571649, 54.25320811, 96.71134327]])\n",
    "print(j)"
   ]
  },
  {
   "cell_type": "code",
   "execution_count": null,
   "id": "bf439d71",
   "metadata": {},
   "outputs": [],
   "source": [
    "class Controller:\n",
    "    def __init__(self):\n",
    "        pass\n",
    "    \n",
    "    def reset(self):\n",
    "        pass\n",
    "    \n",
    "    def run(\n",
    "            self,\n",
    "            t,\n",
    "            platform_angle,\n",
    "            platform_velocity,\n",
    "            gimbal_angle,\n",
    "            gimbal_velocity,\n",
    "        ):\n",
    "        \n",
    "        # given variables\n",
    "        \n",
    "\n",
    "#         print(A.tolist())\n",
    "#         print(B.tolist())\n",
    "        \n",
    "        qe = np.pi\n",
    "        x = np.array([[platform_angle-qe], [gimbal_angle], [platform_velocity], [gimbal_velocity]])\n",
    "        u = -thistheone@x\n",
    "        \n",
    "        gimbal_torque = float(u)\n",
    "        \n",
    "        return gimbal_torque"
   ]
  },
  {
   "cell_type": "markdown",
   "id": "40059b98",
   "metadata": {},
   "source": [
    "Create an instance of the controller."
   ]
  },
  {
   "cell_type": "code",
   "execution_count": null,
   "id": "1168ff65",
   "metadata": {},
   "outputs": [],
   "source": [
    "controller = Controller()"
   ]
  },
  {
   "cell_type": "markdown",
   "id": "19c52b8d",
   "metadata": {},
   "source": [
    "Reset the simulator with given initial conditions. A separate PID controller, which you don't have to implement, will keep the rotor velocity constant."
   ]
  },
  {
   "cell_type": "markdown",
   "id": "504bdd57",
   "metadata": {},
   "source": [
    "## Max Initial Conditions"
   ]
  },
  {
   "cell_type": "markdown",
   "id": "baa00563",
   "metadata": {},
   "source": [
    "Platform Angle: $1.64$ rad for $0 \\leq \\theta \\leq \\pi$ rad, $4.64$ for $\\pi \\leq \\theta \\leq 2\\pi$ rad\n",
    "\n",
    "Platform Velocity: $-3.47 to 3.46$\n",
    "\n",
    "Gimbal Angle: any $\\theta$ for $0 \\leq \\theta \\leq 2\\pi$ rad\n",
    "\n",
    "Gimbal Velocity: $-119.50$ to $125.62$  $\\frac{rad}{s}$"
   ]
  },
  {
   "cell_type": "code",
   "execution_count": null,
   "id": "e9fc6510",
   "metadata": {},
   "outputs": [],
   "source": [
    "simulator.reset(\n",
    "    platform_angle=0,\n",
    "    platform_velocity=0,\n",
    "    gimbal_angle=0,\n",
    "    gimbal_velocity=0,\n",
    "    rotor_velocity=500.,\n",
    ")"
   ]
  },
  {
   "cell_type": "markdown",
   "id": "a0c7b67a",
   "metadata": {},
   "source": [
    "Reset the controller."
   ]
  },
  {
   "cell_type": "code",
   "execution_count": null,
   "id": "d169e3c4",
   "metadata": {},
   "outputs": [],
   "source": [
    "controller.reset()"
   ]
  },
  {
   "cell_type": "markdown",
   "id": "5cb3dacd",
   "metadata": {},
   "source": [
    "Run the simulator."
   ]
  },
  {
   "cell_type": "code",
   "execution_count": null,
   "id": "8e649e63",
   "metadata": {},
   "outputs": [],
   "source": [
    "data = simulator.run(\n",
    "    controller,           # <-- required (an instance of your Controller class)\n",
    "    max_time=60,         # <-- optional (how long you want to run the simulation in seconds)\n",
    "    data_filename=None,   # <-- optional (name of file to which you want data saved, e.g., 'my_data.json')\n",
    "    video_filename=None,  # <-- optional (name of file to which you want video saved, e.g., 'my_video.mov')\n",
    ")"
   ]
  },
  {
   "cell_type": "markdown",
   "id": "c3e2d2d7",
   "metadata": {},
   "source": [
    "Get, show, and save a snapshot of the simulation after the last time step."
   ]
  },
  {
   "cell_type": "code",
   "execution_count": null,
   "id": "7657f10b",
   "metadata": {},
   "outputs": [],
   "source": [
    "# Get snapshot as height x width x 4 numpy array of RGBA values\n",
    "rgba = simulator.snapshot()\n",
    "\n",
    "# Display snapshot\n",
    "plt.figure(figsize=(8, 8))\n",
    "plt.imshow(rgba)\n",
    "\n",
    "# Save snapshot\n",
    "plt.imsave('my_snapshot.png', rgba)"
   ]
  },
  {
   "cell_type": "markdown",
   "id": "38a9c4a6",
   "metadata": {},
   "source": [
    "Plot results."
   ]
  },
  {
   "cell_type": "code",
   "execution_count": null,
   "id": "0cce775b",
   "metadata": {
    "scrolled": true
   },
   "outputs": [],
   "source": [
    "# Create a figure with three subplots, all of which share the same x-axis\n",
    "fig, (ax_platform, ax_gimbal, ax_rotor, ax_torque) = plt.subplots(4, 1, figsize=(8, 8), sharex=True)\n",
    "\n",
    "# Plot platform angle and velocity\n",
    "ax_platform.plot(\n",
    "    data['t'], data['platform_angle'],\n",
    "    label='platform angle (rad)', linewidth=4,\n",
    ")\n",
    "ax_platform.plot(\n",
    "    data['t'], data['platform_velocity'],\n",
    "    '--', label='platform velocity (rad / s)', linewidth=4,\n",
    ")\n",
    "ax_platform.grid()\n",
    "ax_platform.legend(fontsize=16)\n",
    "ax_platform.tick_params(labelsize=14)\n",
    "\n",
    "# Plot gimbal angle and velocity\n",
    "ax_gimbal.plot(\n",
    "    data['t'], data['gimbal_angle'],\n",
    "    label='gimbal angle (rad)', linewidth=4,\n",
    ")\n",
    "ax_gimbal.plot(\n",
    "    data['t'], data['gimbal_velocity'],\n",
    "    '--', label='gimbal velocity (rad / s)', linewidth=4,\n",
    ")\n",
    "ax_gimbal.grid()\n",
    "ax_gimbal.legend(fontsize=16)\n",
    "ax_gimbal.tick_params(labelsize=14)\n",
    "\n",
    "# Plot rotor velocity\n",
    "ax_rotor.plot(\n",
    "    data['t'], data['rotor_velocity'],\n",
    "    '--', label='rotor velocity (rad / s)', linewidth=4,\n",
    ")\n",
    "ax_rotor.grid()\n",
    "ax_rotor.legend(fontsize=16)\n",
    "ax_rotor.tick_params(labelsize=14)\n",
    "ax_rotor.set_ylim(simulator.rotor_velocity - 10., simulator.rotor_velocity + 10.)\n",
    "\n",
    "# Plot torques\n",
    "ax_torque.plot(\n",
    "    data['t'], data['gimbal_torque_command'],\n",
    "    label='gimbal torque command (N-m)', linewidth=4,\n",
    ")\n",
    "ax_torque.plot(\n",
    "    data['t'], data['gimbal_torque'],\n",
    "    '--', label='gimbal torque (N-m)', linewidth=4,\n",
    ")\n",
    "ax_torque.plot(\n",
    "    data['t'], data['rotor_torque'],\n",
    "    '--', label='rotor torque (N-m)', linewidth=4,\n",
    ")\n",
    "ax_torque.plot(\n",
    "    data['t'], np.ones_like(data['t']) * simulator.tau_max,\n",
    "    ':', label='max torque', linewidth=4, color='C4', zorder=0,\n",
    ")\n",
    "ax_torque.plot(\n",
    "    data['t'], -np.ones_like(data['t']) * simulator.tau_max,\n",
    "    ':', linewidth=4, color='C4', zorder=0,\n",
    ")\n",
    "ax_torque.grid()\n",
    "ax_torque.legend(fontsize=16)\n",
    "ax_torque.tick_params(labelsize=14)\n",
    "\n",
    "# Set x-axis properties (only need to do this on the last\n",
    "# subplot since all subplots share the same x-axis)\n",
    "ax_torque.set_xlabel('time (s)', fontsize=20)\n",
    "ax_torque.set_xlim([data['t'][0], data['t'][-1]])\n",
    "ax_torque.set_ylim(-1.2 * simulator.tau_max, 1.2 * simulator.tau_max)\n",
    "\n",
    "# Make the arrangement of subplots look nice\n",
    "fig.tight_layout()"
   ]
  },
  {
   "cell_type": "code",
   "execution_count": null,
   "id": "8b63c575",
   "metadata": {},
   "outputs": [],
   "source": []
  },
  {
   "cell_type": "markdown",
   "id": "520822de",
   "metadata": {},
   "source": [
    "Save the plots to a file."
   ]
  },
  {
   "cell_type": "code",
   "execution_count": null,
   "id": "3ce3e7cd",
   "metadata": {},
   "outputs": [],
   "source": [
    "fig.savefig('my_figure.png', facecolor='white', transparent=False)"
   ]
  },
  {
   "cell_type": "markdown",
   "id": "da2b5421",
   "metadata": {},
   "source": [
    "## Defined Error Value"
   ]
  },
  {
   "cell_type": "code",
   "execution_count": null,
   "id": "fec75c62",
   "metadata": {},
   "outputs": [],
   "source": [
    "con_error = 1*10**-10\n",
    "con_error"
   ]
  },
  {
   "cell_type": "markdown",
   "id": "3d4df843",
   "metadata": {},
   "source": [
    "## Platform Angle Data"
   ]
  },
  {
   "cell_type": "code",
   "execution_count": null,
   "id": "eb41c365",
   "metadata": {},
   "outputs": [],
   "source": [
    "maxpa = data['platform_angle'][-500:].max()\n",
    "minpa = data['platform_angle'][-500:].min()\n",
    "print(maxpa, minpa)\n",
    "e_range_pa = maxpa + minpa\n",
    "e_range_pa"
   ]
  },
  {
   "cell_type": "code",
   "execution_count": null,
   "id": "6ce60dec",
   "metadata": {},
   "outputs": [],
   "source": [
    "if e_range_pa < con_error:\n",
    "    print(\"Platform Angle converges, as error is within acceptable range\")\n",
    "else: print(\"Does not converge :((\")"
   ]
  },
  {
   "cell_type": "markdown",
   "id": "a4389eba",
   "metadata": {},
   "source": [
    "## Platform Velocity"
   ]
  },
  {
   "cell_type": "code",
   "execution_count": 68,
   "id": "27da03a5",
   "metadata": {},
   "outputs": [
    {
     "name": "stdout",
     "output_type": "stream",
     "text": [
      "4.264847186263729e-14 -3.7768666723441743e-14\n"
     ]
    },
    {
     "data": {
      "text/plain": [
       "4.879805139195546e-15"
      ]
     },
     "execution_count": 68,
     "metadata": {},
     "output_type": "execute_result"
    }
   ],
   "source": [
    "maxpv = data['platform_velocity'][-500:].max()\n",
    "minpv = data['platform_velocity'][-500:].min()\n",
    "print(maxpv, minpv)\n",
    "e_range_pv = maxpv + minpv\n",
    "e_range_pv"
   ]
  },
  {
   "cell_type": "code",
   "execution_count": 69,
   "id": "947859b3",
   "metadata": {},
   "outputs": [
    {
     "name": "stdout",
     "output_type": "stream",
     "text": [
      "Platform Velocity converges, as error is within acceptable range\n"
     ]
    }
   ],
   "source": [
    "if e_range_pv < con_error:\n",
    "    print(\"Platform Velocity converges, as error is within acceptable range\")\n",
    "else: print(\"Does not converge :((\")"
   ]
  },
  {
   "cell_type": "markdown",
   "id": "58e8d176",
   "metadata": {},
   "source": [
    "## Gimbal Angle"
   ]
  },
  {
   "cell_type": "code",
   "execution_count": 70,
   "id": "92e4c439",
   "metadata": {},
   "outputs": [
    {
     "name": "stdout",
     "output_type": "stream",
     "text": [
      "7.183682443000916 7.183682443000916\n"
     ]
    },
    {
     "data": {
      "text/plain": [
       "0.0"
      ]
     },
     "execution_count": 70,
     "metadata": {},
     "output_type": "execute_result"
    }
   ],
   "source": [
    "maxga = data['gimbal_angle'][-500:].max()\n",
    "minga = data['gimbal_angle'][-500:].min()\n",
    "print(maxga, minga)\n",
    "e_range_ga = maxga - minga\n",
    "e_range_ga"
   ]
  },
  {
   "cell_type": "code",
   "execution_count": 71,
   "id": "5dfd5dbe",
   "metadata": {},
   "outputs": [
    {
     "name": "stdout",
     "output_type": "stream",
     "text": [
      "Gimbal Angle converges, as error is within acceptable range\n"
     ]
    }
   ],
   "source": [
    "if e_range_ga < con_error:\n",
    "    print(\"Gimbal Angle converges, as error is within acceptable range\")\n",
    "else: print(\"Does not converge :((\")"
   ]
  },
  {
   "cell_type": "markdown",
   "id": "4574112c",
   "metadata": {},
   "source": [
    "## Gimbal Velocity "
   ]
  },
  {
   "cell_type": "code",
   "execution_count": 72,
   "id": "06cb0a32",
   "metadata": {},
   "outputs": [
    {
     "name": "stdout",
     "output_type": "stream",
     "text": [
      "1.0018537969216004e-13 -8.709880189080775e-14\n"
     ]
    },
    {
     "data": {
      "text/plain": [
       "1.3086577801352299e-14"
      ]
     },
     "execution_count": 72,
     "metadata": {},
     "output_type": "execute_result"
    }
   ],
   "source": [
    "maxgv = data['gimbal_velocity'][-500:].max()\n",
    "mingv = data['gimbal_velocity'][-500:].min()\n",
    "print(maxgv, mingv)\n",
    "e_range_gv = maxgv + mingv\n",
    "e_range_gv"
   ]
  },
  {
   "cell_type": "code",
   "execution_count": 73,
   "id": "67e2d234",
   "metadata": {},
   "outputs": [
    {
     "name": "stdout",
     "output_type": "stream",
     "text": [
      "Gimbal Velocity converges, as error is within acceptable range\n"
     ]
    }
   ],
   "source": [
    "if e_range_gv < con_error:\n",
    "    print(\"Gimbal Velocity converges, as error is within acceptable range\")\n",
    "else: print(\"Does not converge :((\")"
   ]
  },
  {
   "cell_type": "code",
   "execution_count": null,
   "id": "b74c72e9",
   "metadata": {},
   "outputs": [],
   "source": []
  },
  {
   "cell_type": "code",
   "execution_count": null,
   "id": "5481edb0",
   "metadata": {},
   "outputs": [],
   "source": []
  }
 ],
 "metadata": {
  "kernelspec": {
   "display_name": "Python 3 (ipykernel)",
   "language": "python",
   "name": "python3"
  },
  "language_info": {
   "codemirror_mode": {
    "name": "ipython",
    "version": 3
   },
   "file_extension": ".py",
   "mimetype": "text/x-python",
   "name": "python",
   "nbconvert_exporter": "python",
   "pygments_lexer": "ipython3",
   "version": "3.11.0"
  }
 },
 "nbformat": 4,
 "nbformat_minor": 5
}
