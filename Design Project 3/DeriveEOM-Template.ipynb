{
 "cells": [
  {
   "cell_type": "markdown",
   "id": "bf67731b",
   "metadata": {},
   "source": [
    "# Derive models of spacecraft with star tracker"
   ]
  },
  {
   "cell_type": "markdown",
   "id": "389fec45",
   "metadata": {},
   "source": [
    "Do all imports."
   ]
  },
  {
   "cell_type": "code",
   "execution_count": 1,
   "id": "other-peter",
   "metadata": {},
   "outputs": [],
   "source": [
    "import sympy as sym\n",
    "import numpy as np\n",
    "import ae353_spacecraft_design as design\n",
    "\n",
    "from scipy import linalg\n",
    "from scipy import signal\n",
    "import random"
   ]
  },
  {
   "cell_type": "markdown",
   "id": "30f99a8f",
   "metadata": {},
   "source": [
    "## Create spacecraft"
   ]
  },
  {
   "cell_type": "markdown",
   "id": "58060459",
   "metadata": {},
   "source": [
    "Create a visualizer to help with placement of reaction wheels."
   ]
  },
  {
   "cell_type": "code",
   "execution_count": 2,
   "id": "c4596230",
   "metadata": {},
   "outputs": [
    {
     "name": "stdout",
     "output_type": "stream",
     "text": [
      "You can open the visualizer by visiting the following URL:\n",
      "http://127.0.0.1:7000/static/\n"
     ]
    },
    {
     "data": {
      "text/html": [
       "\n",
       "            <div style=\"height: 400px; width: 100%; overflow-x: auto; overflow-y: hidden; resize: both\">\n",
       "            <iframe src=\"http://127.0.0.1:7000/static/\" style=\"width: 100%; height: 100%; border: none\"></iframe>\n",
       "            </div>\n",
       "            "
      ],
      "text/plain": [
       "<IPython.core.display.HTML object>"
      ]
     },
     "execution_count": 2,
     "metadata": {},
     "output_type": "execute_result"
    }
   ],
   "source": [
    "# Create the visualizer\n",
    "vis = design.create_visualizer()\n",
    "\n",
    "# Show the visualizer in this notebook\n",
    "vis.jupyter_cell()"
   ]
  },
  {
   "cell_type": "markdown",
   "id": "5f3ada47",
   "metadata": {},
   "source": [
    "Specify the location of each reaction wheel in terms of its right ascension $\\alpha$ and declination $\\delta$:"
   ]
  },
  {
   "cell_type": "markdown",
   "id": "ee15513a",
   "metadata": {},
   "source": [
    "## wheel placement where the controller was ass"
   ]
  },
  {
   "cell_type": "code",
   "execution_count": 3,
   "id": "6700e408",
   "metadata": {},
   "outputs": [],
   "source": [
    "# wheels = [\n",
    "#     {'alpha': np.pi/3, 'delta': 0.},\n",
    "#     {'alpha': 3*np.pi/3, 'delta': 0},\n",
    "#     {'alpha': -np.pi/3, 'delta': 0.},\n",
    "#     {'alpha': 0, 'delta': 3*np.pi/2},\n",
    "# ]"
   ]
  },
  {
   "cell_type": "code",
   "execution_count": 107,
   "id": "b868fae5",
   "metadata": {},
   "outputs": [],
   "source": [
    "wheels = [\n",
    "    {'alpha': np.pi/2, 'delta': np.pi/2},\n",
    "    {'alpha': np.pi/3, 'delta': 0},\n",
    "    {'alpha': 0, 'delta': np.pi},\n",
    "    {'alpha': -np.pi/3, 'delta': 0},\n",
    "]"
   ]
  },
  {
   "cell_type": "markdown",
   "id": "35d5b68c",
   "metadata": {},
   "source": [
    "Show wheels in the visualizer. You will be warned if any wheel obscures the star tracker (i.e., the \"scope\") or if any two wheels are too close together."
   ]
  },
  {
   "cell_type": "code",
   "execution_count": 108,
   "id": "78f08330",
   "metadata": {},
   "outputs": [],
   "source": [
    "design.show_wheels(vis, wheels)"
   ]
  },
  {
   "cell_type": "markdown",
   "id": "08d304bd",
   "metadata": {},
   "source": [
    "Create a model of the spacecraft in URDF format. This will **overwrite** the file `spacecraft.urdf` in the `urdf` directory."
   ]
  },
  {
   "cell_type": "code",
   "execution_count": 109,
   "id": "0020f641",
   "metadata": {},
   "outputs": [],
   "source": [
    "design.create_spacecraft(wheels)"
   ]
  },
  {
   "cell_type": "markdown",
   "id": "nominated-instrument",
   "metadata": {},
   "source": [
    "## Create dynamic model"
   ]
  },
  {
   "cell_type": "markdown",
   "id": "sticky-outreach",
   "metadata": {},
   "source": [
    "Specify the physical parameters:"
   ]
  },
  {
   "cell_type": "code",
   "execution_count": 110,
   "id": "missing-tobago",
   "metadata": {},
   "outputs": [],
   "source": [
    "# Mass and MOI of base\n",
    "mb = 6.\n",
    "Jxb = 10.\n",
    "Jyb = 10.\n",
    "Jzb = 16.\n",
    "\n",
    "# Mass and MOI of each wheel\n",
    "mw = 1.\n",
    "Jxw = 0.075\n",
    "Jyw = 0.075\n",
    "Jzw = 0.125\n",
    "lw = 2.2"
   ]
  },
  {
   "cell_type": "markdown",
   "id": "following-implementation",
   "metadata": {},
   "source": [
    "Derive the equations of motion:"
   ]
  },
  {
   "cell_type": "code",
   "execution_count": 111,
   "id": "fixed-developer",
   "metadata": {},
   "outputs": [],
   "source": [
    "# Define yaw, pitch, roll angles\n",
    "psi, theta, phi = sym.symbols('psi, theta, phi')\n",
    "\n",
    "# Define angular velocities\n",
    "w_x, w_y, w_z = sym.symbols('w_x, w_y, w_z')\n",
    "\n",
    "# Define torques\n",
    "tau_1, tau_2, tau_3, tau_4 = sym.symbols('tau_1, tau_2, tau_3, tau_4')\n",
    "\n",
    "# Compute resultant torques\n",
    "T1 = - tau_1 * sym.Matrix(wheels[0]['xyz'])\n",
    "T2 = - tau_2 * sym.Matrix(wheels[1]['xyz'])\n",
    "T3 = - tau_3 * sym.Matrix(wheels[2]['xyz'])\n",
    "T4 = - tau_4 * sym.Matrix(wheels[3]['xyz'])\n",
    "T = sym.nsimplify(T1 + T2 + T3 + T4)\n",
    "\n",
    "# Define MOI of spacecraft and wheels together\n",
    "#\n",
    "#  FIXME: For now, assume that each RW is a point mass. Later,\n",
    "#         somebody should do this properly.\n",
    "#\n",
    "Jx = sym.nsimplify(Jxb + 4 * mw * lw**2)\n",
    "Jy = sym.nsimplify(Jyb + 4 * mw * lw**2)\n",
    "Jz = sym.nsimplify(Jzb + 4 * mw * lw**2)\n",
    "\n",
    "# Define rotation matrices\n",
    "Rz = sym.Matrix([[sym.cos(psi), -sym.sin(psi), 0], [sym.sin(psi), sym.cos(psi), 0], [0, 0, 1]])\n",
    "Ry = sym.Matrix([[sym.cos(theta), 0, sym.sin(theta)], [0, 1, 0], [-sym.sin(theta), 0, sym.cos(theta)]])\n",
    "Rx = sym.Matrix([[1, 0, 0], [0, sym.cos(phi), -sym.sin(phi)], [0, sym.sin(phi), sym.cos(phi)]])\n",
    "\n",
    "# Define the transformation from angular velocity to angular rates\n",
    "ex = sym.Matrix([[1], [0], [0]])\n",
    "ey = sym.Matrix([[0], [1], [0]])\n",
    "ez = sym.Matrix([[0], [0], [1]])\n",
    "M = sym.simplify(sym.Matrix.hstack((Ry @ Rx).T @ ez, Rx.T @ ey, ex).inv(), full=True)\n",
    "\n",
    "# Define euler's equations\n",
    "euler = sym.Matrix([[(1 / Jx) * (T[0] + (Jy - Jz) * w_y * w_z)],\n",
    "                   [(1 / Jy) * (T[1] + (Jz - Jx) * w_z * w_x)],\n",
    "                   [(1 / Jz) * (T[2] + (Jx - Jy) * w_x * w_y)]])\n",
    "\n",
    "# Define equations of motion\n",
    "f = sym.simplify(sym.Matrix.vstack(M * sym.Matrix([[w_x], [w_y], [w_z]]), euler), full=True)"
   ]
  },
  {
   "cell_type": "markdown",
   "id": "according-occasion",
   "metadata": {},
   "source": [
    "The equations of motion have this form:\n",
    "\n",
    "$$\\begin{bmatrix} \\dot{\\psi} \\\\ \\dot{\\theta} \\\\ \\dot{\\phi} \\\\ \\dot{w_x} \\\\ \\dot{w_y} \\\\ \\dot{w_z} \\end{bmatrix} = f\\left(\\psi, \\theta, \\phi, w_x, w_y, w_z, \\tau_1, \\tau_2, \\tau_3, \\tau_4\\right)$$\n",
    "\n",
    "Here is the function $f$:"
   ]
  },
  {
   "cell_type": "code",
   "execution_count": 112,
   "id": "welsh-passion",
   "metadata": {},
   "outputs": [
    {
     "data": {
      "text/latex": [
       "$\\displaystyle \\left[\\begin{matrix}\\frac{w_{y} \\sin{\\left(\\phi \\right)} + w_{z} \\cos{\\left(\\phi \\right)}}{\\cos{\\left(\\theta \\right)}}\\\\w_{y} \\cos{\\left(\\phi \\right)} - w_{z} \\sin{\\left(\\phi \\right)}\\\\w_{x} + w_{y} \\sin{\\left(\\phi \\right)} \\tan{\\left(\\theta \\right)} + w_{z} \\cos{\\left(\\phi \\right)} \\tan{\\left(\\theta \\right)}\\\\- \\frac{37673304933744975 \\tau_{1}}{134092775225110342745188083401718967053431810818048} - \\frac{55 \\tau_{2}}{1468} + \\frac{55 \\tau_{3}}{734} - \\frac{55 \\tau_{4}}{1468} - \\frac{75 w_{y} w_{z}}{367}\\\\- \\frac{134711147906209 \\tau_{1}}{29360000000000000000000000000000} - \\frac{190525588832577 \\tau_{2}}{2936000000000000} + \\frac{190525588832577 \\tau_{4}}{2936000000000000} + \\frac{75 w_{x} w_{z}}{367}\\\\- \\frac{55 \\tau_{1}}{884} - \\frac{134711147906209 \\tau_{3}}{17680000000000000000000000000000}\\end{matrix}\\right]$"
      ],
      "text/plain": [
       "Matrix([\n",
       "[                                                                                                                  (w_y*sin(phi) + w_z*cos(phi))/cos(theta)],\n",
       "[                                                                                                                               w_y*cos(phi) - w_z*sin(phi)],\n",
       "[                                                                                                   w_x + w_y*sin(phi)*tan(theta) + w_z*cos(phi)*tan(theta)],\n",
       "[              -37673304933744975*tau_1/134092775225110342745188083401718967053431810818048 - 55*tau_2/1468 + 55*tau_3/734 - 55*tau_4/1468 - 75*w_y*w_z/367],\n",
       "[-134711147906209*tau_1/29360000000000000000000000000000 - 190525588832577*tau_2/2936000000000000 + 190525588832577*tau_4/2936000000000000 + 75*w_x*w_z/367],\n",
       "[                                                                                    -55*tau_1/884 - 134711147906209*tau_3/17680000000000000000000000000000]])"
      ]
     },
     "execution_count": 112,
     "metadata": {},
     "output_type": "execute_result"
    }
   ],
   "source": [
    "f"
   ]
  },
  {
   "cell_type": "markdown",
   "id": "cultural-penalty",
   "metadata": {},
   "source": [
    "## Create sensor model"
   ]
  },
  {
   "cell_type": "markdown",
   "id": "tested-graham",
   "metadata": {},
   "source": [
    "Symbolic variables for right ascension $\\alpha$ and declination $\\delta$ of each star:"
   ]
  },
  {
   "cell_type": "code",
   "execution_count": 113,
   "id": "historic-ending",
   "metadata": {},
   "outputs": [],
   "source": [
    "alpha, delta = sym.symbols('alpha, delta')"
   ]
  },
  {
   "cell_type": "markdown",
   "id": "common-reputation",
   "metadata": {},
   "source": [
    "Specify the physical parameters:"
   ]
  },
  {
   "cell_type": "code",
   "execution_count": 114,
   "id": "second-slave",
   "metadata": {},
   "outputs": [],
   "source": [
    "# Scope radius\n",
    "r = 0.8 / 2.1"
   ]
  },
  {
   "cell_type": "markdown",
   "id": "polish-burning",
   "metadata": {},
   "source": [
    "Derive the sensor model:"
   ]
  },
  {
   "cell_type": "code",
   "execution_count": 115,
   "id": "diagnostic-authority",
   "metadata": {},
   "outputs": [],
   "source": [
    "# Position of star in space frame\n",
    "p_star_in_space = sym.Matrix([[sym.cos(alpha) * sym.cos(delta)],\n",
    "                              [sym.sin(alpha) * sym.cos(delta)],\n",
    "                              [sym.sin(delta)]])\n",
    "\n",
    "# Orientation of body frame in space frame\n",
    "R_body_in_space = Rz * Ry * Rx\n",
    "\n",
    "# Position of star in body frame (assuming origin of body and space frames are the same)\n",
    "p_star_in_body = R_body_in_space.T * p_star_in_space\n",
    "\n",
    "# Position of star in image frame\n",
    "p_star_in_image = (1 / sym.nsimplify(r)) * sym.Matrix([[p_star_in_body[1] / p_star_in_body[0]],\n",
    "                                                       [p_star_in_body[2] / p_star_in_body[0]]])\n",
    "\n",
    "# Sensor model for each star\n",
    "g = sym.simplify(p_star_in_image, full=True)"
   ]
  },
  {
   "cell_type": "markdown",
   "id": "continuing-reference",
   "metadata": {},
   "source": [
    "The sensor model has this form for each star:\n",
    "\n",
    "$$\\zeta = g(\\psi, \\theta, \\phi, \\alpha, \\delta)$$\n",
    "\n",
    "Here is the function $g$:"
   ]
  },
  {
   "cell_type": "code",
   "execution_count": 116,
   "id": "protected-orlando",
   "metadata": {},
   "outputs": [
    {
     "data": {
      "text/latex": [
       "$\\displaystyle \\left[\\begin{matrix}\\frac{21 \\left(\\sin{\\left(\\delta \\right)} \\sin{\\left(\\phi \\right)} \\cos{\\left(\\theta \\right)} + \\sin{\\left(\\phi \\right)} \\sin{\\left(\\theta \\right)} \\cos{\\left(\\delta \\right)} \\cos{\\left(\\alpha - \\psi \\right)} + \\sin{\\left(\\alpha - \\psi \\right)} \\cos{\\left(\\delta \\right)} \\cos{\\left(\\phi \\right)}\\right)}{8 \\left(- \\sin{\\left(\\delta \\right)} \\sin{\\left(\\theta \\right)} + \\cos{\\left(\\delta \\right)} \\cos{\\left(\\theta \\right)} \\cos{\\left(\\alpha - \\psi \\right)}\\right)}\\\\\\frac{21 \\left(\\sin{\\left(\\delta \\right)} \\cos{\\left(\\phi \\right)} \\cos{\\left(\\theta \\right)} - \\sin{\\left(\\phi \\right)} \\sin{\\left(\\alpha - \\psi \\right)} \\cos{\\left(\\delta \\right)} + \\sin{\\left(\\theta \\right)} \\cos{\\left(\\delta \\right)} \\cos{\\left(\\phi \\right)} \\cos{\\left(\\alpha - \\psi \\right)}\\right)}{8 \\left(- \\sin{\\left(\\delta \\right)} \\sin{\\left(\\theta \\right)} + \\cos{\\left(\\delta \\right)} \\cos{\\left(\\theta \\right)} \\cos{\\left(\\alpha - \\psi \\right)}\\right)}\\end{matrix}\\right]$"
      ],
      "text/plain": [
       "Matrix([\n",
       "[21*(sin(delta)*sin(phi)*cos(theta) + sin(phi)*sin(theta)*cos(delta)*cos(alpha - psi) + sin(alpha - psi)*cos(delta)*cos(phi))/(8*(-sin(delta)*sin(theta) + cos(delta)*cos(theta)*cos(alpha - psi)))],\n",
       "[21*(sin(delta)*cos(phi)*cos(theta) - sin(phi)*sin(alpha - psi)*cos(delta) + sin(theta)*cos(delta)*cos(phi)*cos(alpha - psi))/(8*(-sin(delta)*sin(theta) + cos(delta)*cos(theta)*cos(alpha - psi)))]])"
      ]
     },
     "execution_count": 116,
     "metadata": {},
     "output_type": "execute_result"
    }
   ],
   "source": [
    "g"
   ]
  },
  {
   "cell_type": "markdown",
   "id": "b5f21660",
   "metadata": {},
   "source": [
    "## Finding A & B for F"
   ]
  },
  {
   "cell_type": "code",
   "execution_count": 117,
   "id": "b9d94387",
   "metadata": {},
   "outputs": [
    {
     "data": {
      "text/latex": [
       "$\\displaystyle \\left[\\begin{matrix}\\frac{w_{y} \\sin{\\left(\\phi \\right)} + w_{z} \\cos{\\left(\\phi \\right)}}{\\cos{\\left(\\theta \\right)}}\\\\w_{y} \\cos{\\left(\\phi \\right)} - w_{z} \\sin{\\left(\\phi \\right)}\\\\w_{x} + w_{y} \\sin{\\left(\\phi \\right)} \\tan{\\left(\\theta \\right)} + w_{z} \\cos{\\left(\\phi \\right)} \\tan{\\left(\\theta \\right)}\\\\- \\frac{37673304933744975 \\tau_{1}}{134092775225110342745188083401718967053431810818048} - \\frac{55 \\tau_{2}}{1468} + \\frac{55 \\tau_{3}}{734} - \\frac{55 \\tau_{4}}{1468} - \\frac{75 w_{y} w_{z}}{367}\\\\- \\frac{134711147906209 \\tau_{1}}{29360000000000000000000000000000} - \\frac{190525588832577 \\tau_{2}}{2936000000000000} + \\frac{190525588832577 \\tau_{4}}{2936000000000000} + \\frac{75 w_{x} w_{z}}{367}\\\\- \\frac{55 \\tau_{1}}{884} - \\frac{134711147906209 \\tau_{3}}{17680000000000000000000000000000}\\end{matrix}\\right]$"
      ],
      "text/plain": [
       "Matrix([\n",
       "[                                                                                                                  (w_y*sin(phi) + w_z*cos(phi))/cos(theta)],\n",
       "[                                                                                                                               w_y*cos(phi) - w_z*sin(phi)],\n",
       "[                                                                                                   w_x + w_y*sin(phi)*tan(theta) + w_z*cos(phi)*tan(theta)],\n",
       "[              -37673304933744975*tau_1/134092775225110342745188083401718967053431810818048 - 55*tau_2/1468 + 55*tau_3/734 - 55*tau_4/1468 - 75*w_y*w_z/367],\n",
       "[-134711147906209*tau_1/29360000000000000000000000000000 - 190525588832577*tau_2/2936000000000000 + 190525588832577*tau_4/2936000000000000 + 75*w_x*w_z/367],\n",
       "[                                                                                    -55*tau_1/884 - 134711147906209*tau_3/17680000000000000000000000000000]])"
      ]
     },
     "execution_count": 117,
     "metadata": {},
     "output_type": "execute_result"
    }
   ],
   "source": [
    "f"
   ]
  },
  {
   "cell_type": "markdown",
   "id": "7f6c2b63",
   "metadata": {},
   "source": [
    "#### find equilibrium values for f"
   ]
  },
  {
   "cell_type": "code",
   "execution_count": 118,
   "id": "af0ff5b5",
   "metadata": {},
   "outputs": [],
   "source": [
    "tau1e = 0\n",
    "tau2e = 0\n",
    "tau3e = 0\n",
    "tau4e = 0\n",
    "phie = 0\n",
    "thetae = 0\n",
    "psie = 0\n",
    "wxe = 0\n",
    "wye = 0\n",
    "wze = 0\n",
    "\n",
    "# Define yaw, pitch, roll angles\n",
    "psi, theta, phi = sym.symbols('psi, theta, phi')\n",
    "\n",
    "# Define angular velocities\n",
    "w_x, w_y, w_z = sym.symbols('w_x, w_y, w_z')\n",
    "\n",
    "# Define torques\n",
    "tau_1, tau_2, tau_3, tau_4 = sym.symbols('tau_1, tau_2, tau_3, tau_4')\n",
    "\n",
    "A_num = sym.lambdify((psi, theta, phi, w_x, w_y, w_z, tau_1, tau_2, tau_3, tau_4), f.jacobian([psi, theta, phi, w_x, w_y, w_z]))\n",
    "B_num = sym.lambdify((psi, theta, phi, w_x, w_y, w_z, tau_1, tau_2, tau_3, tau_4), f.jacobian([tau_1, tau_2, tau_3, tau_4]))\n",
    "\n",
    "A = A_num(psie, thetae, phie, wxe, wye, wze, tau1e, tau2e, tau3e, tau4e).astype(float)\n",
    "B = B_num(psie, thetae, phie, wxe, wye, wze, tau1e, tau2e, tau3e, tau4e).astype(float)"
   ]
  },
  {
   "cell_type": "code",
   "execution_count": 119,
   "id": "ad6cadef",
   "metadata": {
    "scrolled": true
   },
   "outputs": [
    {
     "data": {
      "text/plain": [
       "(array([[ 0.,  0.,  0.,  0.,  0.,  1.],\n",
       "        [ 0.,  0.,  0.,  0.,  1., -0.],\n",
       "        [ 0.,  0.,  0.,  1.,  0.,  0.],\n",
       "        [ 0.,  0.,  0.,  0., -0., -0.],\n",
       "        [ 0.,  0.,  0.,  0.,  0.,  0.],\n",
       "        [ 0.,  0.,  0.,  0.,  0.,  0.]]),\n",
       " array([[ 0.00000000e+00,  0.00000000e+00,  0.00000000e+00,\n",
       "          0.00000000e+00],\n",
       "        [ 0.00000000e+00,  0.00000000e+00,  0.00000000e+00,\n",
       "          0.00000000e+00],\n",
       "        [ 0.00000000e+00,  0.00000000e+00,  0.00000000e+00,\n",
       "          0.00000000e+00],\n",
       "        [-2.80949551e-34, -3.74659401e-02,  7.49318801e-02,\n",
       "         -3.74659401e-02],\n",
       "        [-4.58825436e-18, -6.48929117e-02,  0.00000000e+00,\n",
       "          6.48929117e-02],\n",
       "        [-6.22171946e-02,  0.00000000e+00, -7.61940882e-18,\n",
       "          0.00000000e+00]]))"
      ]
     },
     "execution_count": 119,
     "metadata": {},
     "output_type": "execute_result"
    }
   ],
   "source": [
    "A, B"
   ]
  },
  {
   "cell_type": "code",
   "execution_count": 120,
   "id": "591f5777",
   "metadata": {},
   "outputs": [],
   "source": [
    "nn = A.shape[0]\n",
    "W = B\n",
    "for i in range(1, nn):\n",
    "    col = np.linalg.matrix_power(A, i)@B\n",
    "    W = np.block([W, col])"
   ]
  },
  {
   "cell_type": "code",
   "execution_count": 121,
   "id": "37e9df2b",
   "metadata": {},
   "outputs": [
    {
     "data": {
      "text/plain": [
       "(6, 6)"
      ]
     },
     "execution_count": 121,
     "metadata": {},
     "output_type": "execute_result"
    }
   ],
   "source": [
    "np.linalg.matrix_rank(W), nn"
   ]
  },
  {
   "cell_type": "code",
   "execution_count": 122,
   "id": "ce29b3bd",
   "metadata": {},
   "outputs": [
    {
     "data": {
      "text/plain": [
       "(6, 6)"
      ]
     },
     "execution_count": 122,
     "metadata": {},
     "output_type": "execute_result"
    }
   ],
   "source": [
    "w = np.block([B, A@B, A@A@B, A@A@A@B, A@A@A@A@B, A@A@A@A@A@B])\n",
    "np.linalg.matrix_rank(w), nn"
   ]
  },
  {
   "cell_type": "markdown",
   "id": "d02ba163",
   "metadata": {},
   "source": [
    "## A and B Matrices"
   ]
  },
  {
   "cell_type": "code",
   "execution_count": 123,
   "id": "3e3ed710",
   "metadata": {},
   "outputs": [
    {
     "name": "stdout",
     "output_type": "stream",
     "text": [
      "[[ 0.  0.  0.  0.  0.  1.]\n",
      " [ 0.  0.  0.  0.  1. -0.]\n",
      " [ 0.  0.  0.  1.  0.  0.]\n",
      " [ 0.  0.  0.  0. -0. -0.]\n",
      " [ 0.  0.  0.  0.  0.  0.]\n",
      " [ 0.  0.  0.  0.  0.  0.]]\n",
      "[[ 0.00000000e+00  0.00000000e+00  0.00000000e+00  0.00000000e+00]\n",
      " [ 0.00000000e+00  0.00000000e+00  0.00000000e+00  0.00000000e+00]\n",
      " [ 0.00000000e+00  0.00000000e+00  0.00000000e+00  0.00000000e+00]\n",
      " [-2.80949551e-34 -3.74659401e-02  7.49318801e-02 -3.74659401e-02]\n",
      " [-4.58825436e-18 -6.48929117e-02  0.00000000e+00  6.48929117e-02]\n",
      " [-6.22171946e-02  0.00000000e+00 -7.61940882e-18  0.00000000e+00]]\n"
     ]
    }
   ],
   "source": [
    "print(A)\n",
    "print(B)"
   ]
  },
  {
   "cell_type": "markdown",
   "id": "261882be",
   "metadata": {},
   "source": [
    "## LQR for Controller"
   ]
  },
  {
   "cell_type": "markdown",
   "id": "2df69982",
   "metadata": {},
   "source": [
    "#### LQR function definition"
   ]
  },
  {
   "cell_type": "code",
   "execution_count": 124,
   "id": "29122291",
   "metadata": {},
   "outputs": [],
   "source": [
    "def lqr(A, B, Q, R):\n",
    "    P = linalg.solve_continuous_are(A, B, Q, R)\n",
    "    K = linalg.inv(R) @ B.T @ P\n",
    "    return K"
   ]
  },
  {
   "cell_type": "markdown",
   "id": "f500c964",
   "metadata": {},
   "source": [
    "#### Q and R Matrices"
   ]
  },
  {
   "cell_type": "code",
   "execution_count": 125,
   "id": "50836a42",
   "metadata": {},
   "outputs": [],
   "source": [
    "Q = np.diag([1000, 1000, 10, 10, 100, 100])\n",
    "R = np.eye(4)"
   ]
  },
  {
   "cell_type": "code",
   "execution_count": 126,
   "id": "5ca587d7",
   "metadata": {},
   "outputs": [
    {
     "data": {
      "text/plain": [
       "(array([[1000,    0,    0,    0,    0,    0],\n",
       "        [   0, 1000,    0,    0,    0,    0],\n",
       "        [   0,    0,   10,    0,    0,    0],\n",
       "        [   0,    0,    0,   10,    0,    0],\n",
       "        [   0,    0,    0,    0,  100,    0],\n",
       "        [   0,    0,    0,    0,    0,  100]]),\n",
       " array([[1., 0., 0., 0.],\n",
       "        [0., 1., 0., 0.],\n",
       "        [0., 0., 1., 0.],\n",
       "        [0., 0., 0., 1.]]))"
      ]
     },
     "execution_count": 126,
     "metadata": {},
     "output_type": "execute_result"
    }
   ],
   "source": [
    "Q, R"
   ]
  },
  {
   "cell_type": "markdown",
   "id": "489e4caf",
   "metadata": {},
   "source": [
    "#### K Matrix using LQR"
   ]
  },
  {
   "cell_type": "code",
   "execution_count": 127,
   "id": "5b949841",
   "metadata": {},
   "outputs": [],
   "source": [
    "K = lqr(A, B, Q, R)"
   ]
  },
  {
   "cell_type": "code",
   "execution_count": 128,
   "id": "0ed9336d",
   "metadata": {},
   "outputs": [
    {
     "data": {
      "text/plain": [
       "array([[-3.16227766e+01,  9.43936584e-15, -1.12813549e-15,\n",
       "        -3.62320459e-15,  2.38750234e-15, -3.34144958e+01],\n",
       "       [ 1.50563102e-15, -2.23606798e+01, -1.29099445e+00,\n",
       "        -3.62665206e+00, -1.98639914e+01,  1.77324385e-15],\n",
       "       [ 4.28505300e-15, -3.26568343e-16,  2.58198890e+00,\n",
       "         7.25330412e+00,  5.59843515e-16,  2.71545960e-16],\n",
       "       [-9.66335724e-15,  2.23606798e+01, -1.29099445e+00,\n",
       "        -3.62665206e+00,  1.98639914e+01, -6.13688534e-15]])"
      ]
     },
     "execution_count": 128,
     "metadata": {},
     "output_type": "execute_result"
    }
   ],
   "source": [
    "K"
   ]
  },
  {
   "cell_type": "code",
   "execution_count": 129,
   "id": "7964f7a6",
   "metadata": {},
   "outputs": [
    {
     "data": {
      "text/plain": [
       "(4, 6)"
      ]
     },
     "execution_count": 129,
     "metadata": {},
     "output_type": "execute_result"
    }
   ],
   "source": [
    "K.shape"
   ]
  },
  {
   "cell_type": "code",
   "execution_count": 130,
   "id": "ac2eb16c",
   "metadata": {},
   "outputs": [
    {
     "data": {
      "text/plain": [
       "array([-1.03947809+0.94178859j, -1.03947809-0.94178859j,\n",
       "       -1.28903224+1.11377517j, -1.28903224-1.11377517j,\n",
       "       -0.40762779+0.35220663j, -0.40762779-0.35220663j])"
      ]
     },
     "execution_count": 130,
     "metadata": {},
     "output_type": "execute_result"
    }
   ],
   "source": [
    "np.linalg.eigvals(A-B@K)"
   ]
  },
  {
   "cell_type": "markdown",
   "id": "8611317a",
   "metadata": {},
   "source": [
    "## Observer Design, use G"
   ]
  },
  {
   "cell_type": "markdown",
   "id": "76518be1",
   "metadata": {},
   "source": [
    "#### what we need: L, C"
   ]
  },
  {
   "cell_type": "markdown",
   "id": "fd711342",
   "metadata": {},
   "source": [
    "#### for every star, have [[y],[z]], which is input for g"
   ]
  },
  {
   "cell_type": "code",
   "execution_count": 131,
   "id": "588ba672",
   "metadata": {
    "scrolled": true
   },
   "outputs": [
    {
     "data": {
      "text/plain": [
       "([-0.1, 0, 0.1, 0, -0.1, 0, 0.1], [-0.15, -0.15, -0.15, 0, 0.15, 0.15, 0.15])"
      ]
     },
     "execution_count": 131,
     "metadata": {},
     "output_type": "execute_result"
    }
   ],
   "source": [
    "alphas = [-.1, 0, 0.1, 0, -0.1, 0, 0.1]\n",
    "deltas = [-0.15, -0.15, -0.15, 0, .15, .15, .15]\n",
    "alphas, deltas"
   ]
  },
  {
   "cell_type": "markdown",
   "id": "4f180392",
   "metadata": {},
   "source": [
    "#### modified g matrix to find C"
   ]
  },
  {
   "cell_type": "code",
   "execution_count": 132,
   "id": "8300780b",
   "metadata": {},
   "outputs": [],
   "source": [
    "gs = sym.zeros(14, 1)\n",
    "for i in range(0, 7):\n",
    "    gs[i*2] = g.subs(alpha, alphas[i]).subs(delta, deltas[i])[0]\n",
    "    gs[i*2 + 1] = g.subs(alpha, alphas[i]).subs(delta, deltas[i])[1]"
   ]
  },
  {
   "cell_type": "code",
   "execution_count": 133,
   "id": "187cdaa3",
   "metadata": {},
   "outputs": [
    {
     "data": {
      "text/latex": [
       "$\\displaystyle \\left[\\begin{matrix}\\frac{21 \\cdot \\left(0.988771077936042 \\sin{\\left(\\phi \\right)} \\sin{\\left(\\theta \\right)} \\cos{\\left(\\psi + 0.1 \\right)} - 0.149438132473599 \\sin{\\left(\\phi \\right)} \\cos{\\left(\\theta \\right)} - 0.988771077936042 \\sin{\\left(\\psi + 0.1 \\right)} \\cos{\\left(\\phi \\right)}\\right)}{8 \\cdot \\left(0.149438132473599 \\sin{\\left(\\theta \\right)} + 0.988771077936042 \\cos{\\left(\\theta \\right)} \\cos{\\left(\\psi + 0.1 \\right)}\\right)}\\\\\\frac{21 \\cdot \\left(0.988771077936042 \\sin{\\left(\\phi \\right)} \\sin{\\left(\\psi + 0.1 \\right)} + 0.988771077936042 \\sin{\\left(\\theta \\right)} \\cos{\\left(\\phi \\right)} \\cos{\\left(\\psi + 0.1 \\right)} - 0.149438132473599 \\cos{\\left(\\phi \\right)} \\cos{\\left(\\theta \\right)}\\right)}{8 \\cdot \\left(0.149438132473599 \\sin{\\left(\\theta \\right)} + 0.988771077936042 \\cos{\\left(\\theta \\right)} \\cos{\\left(\\psi + 0.1 \\right)}\\right)}\\\\\\frac{21 \\cdot \\left(0.988771077936042 \\sin{\\left(\\phi \\right)} \\sin{\\left(\\theta \\right)} \\cos{\\left(\\psi \\right)} - 0.149438132473599 \\sin{\\left(\\phi \\right)} \\cos{\\left(\\theta \\right)} - 0.988771077936042 \\sin{\\left(\\psi \\right)} \\cos{\\left(\\phi \\right)}\\right)}{8 \\cdot \\left(0.149438132473599 \\sin{\\left(\\theta \\right)} + 0.988771077936042 \\cos{\\left(\\psi \\right)} \\cos{\\left(\\theta \\right)}\\right)}\\\\\\frac{21 \\cdot \\left(0.988771077936042 \\sin{\\left(\\phi \\right)} \\sin{\\left(\\psi \\right)} + 0.988771077936042 \\sin{\\left(\\theta \\right)} \\cos{\\left(\\phi \\right)} \\cos{\\left(\\psi \\right)} - 0.149438132473599 \\cos{\\left(\\phi \\right)} \\cos{\\left(\\theta \\right)}\\right)}{8 \\cdot \\left(0.149438132473599 \\sin{\\left(\\theta \\right)} + 0.988771077936042 \\cos{\\left(\\psi \\right)} \\cos{\\left(\\theta \\right)}\\right)}\\\\\\frac{21 \\cdot \\left(0.988771077936042 \\sin{\\left(\\phi \\right)} \\sin{\\left(\\theta \\right)} \\cos{\\left(\\psi - 0.1 \\right)} - 0.149438132473599 \\sin{\\left(\\phi \\right)} \\cos{\\left(\\theta \\right)} - 0.988771077936042 \\sin{\\left(\\psi - 0.1 \\right)} \\cos{\\left(\\phi \\right)}\\right)}{8 \\cdot \\left(0.149438132473599 \\sin{\\left(\\theta \\right)} + 0.988771077936042 \\cos{\\left(\\theta \\right)} \\cos{\\left(\\psi - 0.1 \\right)}\\right)}\\\\\\frac{21 \\cdot \\left(0.988771077936042 \\sin{\\left(\\phi \\right)} \\sin{\\left(\\psi - 0.1 \\right)} + 0.988771077936042 \\sin{\\left(\\theta \\right)} \\cos{\\left(\\phi \\right)} \\cos{\\left(\\psi - 0.1 \\right)} - 0.149438132473599 \\cos{\\left(\\phi \\right)} \\cos{\\left(\\theta \\right)}\\right)}{8 \\cdot \\left(0.149438132473599 \\sin{\\left(\\theta \\right)} + 0.988771077936042 \\cos{\\left(\\theta \\right)} \\cos{\\left(\\psi - 0.1 \\right)}\\right)}\\\\\\frac{21 \\left(\\sin{\\left(\\phi \\right)} \\sin{\\left(\\theta \\right)} \\cos{\\left(\\psi \\right)} - \\sin{\\left(\\psi \\right)} \\cos{\\left(\\phi \\right)}\\right)}{8 \\cos{\\left(\\psi \\right)} \\cos{\\left(\\theta \\right)}}\\\\\\frac{21 \\left(\\sin{\\left(\\phi \\right)} \\sin{\\left(\\psi \\right)} + \\sin{\\left(\\theta \\right)} \\cos{\\left(\\phi \\right)} \\cos{\\left(\\psi \\right)}\\right)}{8 \\cos{\\left(\\psi \\right)} \\cos{\\left(\\theta \\right)}}\\\\\\frac{21 \\cdot \\left(0.988771077936042 \\sin{\\left(\\phi \\right)} \\sin{\\left(\\theta \\right)} \\cos{\\left(\\psi + 0.1 \\right)} + 0.149438132473599 \\sin{\\left(\\phi \\right)} \\cos{\\left(\\theta \\right)} - 0.988771077936042 \\sin{\\left(\\psi + 0.1 \\right)} \\cos{\\left(\\phi \\right)}\\right)}{8 \\left(- 0.149438132473599 \\sin{\\left(\\theta \\right)} + 0.988771077936042 \\cos{\\left(\\theta \\right)} \\cos{\\left(\\psi + 0.1 \\right)}\\right)}\\\\\\frac{21 \\cdot \\left(0.988771077936042 \\sin{\\left(\\phi \\right)} \\sin{\\left(\\psi + 0.1 \\right)} + 0.988771077936042 \\sin{\\left(\\theta \\right)} \\cos{\\left(\\phi \\right)} \\cos{\\left(\\psi + 0.1 \\right)} + 0.149438132473599 \\cos{\\left(\\phi \\right)} \\cos{\\left(\\theta \\right)}\\right)}{8 \\left(- 0.149438132473599 \\sin{\\left(\\theta \\right)} + 0.988771077936042 \\cos{\\left(\\theta \\right)} \\cos{\\left(\\psi + 0.1 \\right)}\\right)}\\\\\\frac{21 \\cdot \\left(0.988771077936042 \\sin{\\left(\\phi \\right)} \\sin{\\left(\\theta \\right)} \\cos{\\left(\\psi \\right)} + 0.149438132473599 \\sin{\\left(\\phi \\right)} \\cos{\\left(\\theta \\right)} - 0.988771077936042 \\sin{\\left(\\psi \\right)} \\cos{\\left(\\phi \\right)}\\right)}{8 \\left(- 0.149438132473599 \\sin{\\left(\\theta \\right)} + 0.988771077936042 \\cos{\\left(\\psi \\right)} \\cos{\\left(\\theta \\right)}\\right)}\\\\\\frac{21 \\cdot \\left(0.988771077936042 \\sin{\\left(\\phi \\right)} \\sin{\\left(\\psi \\right)} + 0.988771077936042 \\sin{\\left(\\theta \\right)} \\cos{\\left(\\phi \\right)} \\cos{\\left(\\psi \\right)} + 0.149438132473599 \\cos{\\left(\\phi \\right)} \\cos{\\left(\\theta \\right)}\\right)}{8 \\left(- 0.149438132473599 \\sin{\\left(\\theta \\right)} + 0.988771077936042 \\cos{\\left(\\psi \\right)} \\cos{\\left(\\theta \\right)}\\right)}\\\\\\frac{21 \\cdot \\left(0.988771077936042 \\sin{\\left(\\phi \\right)} \\sin{\\left(\\theta \\right)} \\cos{\\left(\\psi - 0.1 \\right)} + 0.149438132473599 \\sin{\\left(\\phi \\right)} \\cos{\\left(\\theta \\right)} - 0.988771077936042 \\sin{\\left(\\psi - 0.1 \\right)} \\cos{\\left(\\phi \\right)}\\right)}{8 \\left(- 0.149438132473599 \\sin{\\left(\\theta \\right)} + 0.988771077936042 \\cos{\\left(\\theta \\right)} \\cos{\\left(\\psi - 0.1 \\right)}\\right)}\\\\\\frac{21 \\cdot \\left(0.988771077936042 \\sin{\\left(\\phi \\right)} \\sin{\\left(\\psi - 0.1 \\right)} + 0.988771077936042 \\sin{\\left(\\theta \\right)} \\cos{\\left(\\phi \\right)} \\cos{\\left(\\psi - 0.1 \\right)} + 0.149438132473599 \\cos{\\left(\\phi \\right)} \\cos{\\left(\\theta \\right)}\\right)}{8 \\left(- 0.149438132473599 \\sin{\\left(\\theta \\right)} + 0.988771077936042 \\cos{\\left(\\theta \\right)} \\cos{\\left(\\psi - 0.1 \\right)}\\right)}\\end{matrix}\\right]$"
      ],
      "text/plain": [
       "Matrix([\n",
       "[ 21*(0.988771077936042*sin(phi)*sin(theta)*cos(psi + 0.1) - 0.149438132473599*sin(phi)*cos(theta) - 0.988771077936042*sin(psi + 0.1)*cos(phi))/(8*(0.149438132473599*sin(theta) + 0.988771077936042*cos(theta)*cos(psi + 0.1)))],\n",
       "[ 21*(0.988771077936042*sin(phi)*sin(psi + 0.1) + 0.988771077936042*sin(theta)*cos(phi)*cos(psi + 0.1) - 0.149438132473599*cos(phi)*cos(theta))/(8*(0.149438132473599*sin(theta) + 0.988771077936042*cos(theta)*cos(psi + 0.1)))],\n",
       "[                   21*(0.988771077936042*sin(phi)*sin(theta)*cos(psi) - 0.149438132473599*sin(phi)*cos(theta) - 0.988771077936042*sin(psi)*cos(phi))/(8*(0.149438132473599*sin(theta) + 0.988771077936042*cos(psi)*cos(theta)))],\n",
       "[                   21*(0.988771077936042*sin(phi)*sin(psi) + 0.988771077936042*sin(theta)*cos(phi)*cos(psi) - 0.149438132473599*cos(phi)*cos(theta))/(8*(0.149438132473599*sin(theta) + 0.988771077936042*cos(psi)*cos(theta)))],\n",
       "[ 21*(0.988771077936042*sin(phi)*sin(theta)*cos(psi - 0.1) - 0.149438132473599*sin(phi)*cos(theta) - 0.988771077936042*sin(psi - 0.1)*cos(phi))/(8*(0.149438132473599*sin(theta) + 0.988771077936042*cos(theta)*cos(psi - 0.1)))],\n",
       "[ 21*(0.988771077936042*sin(phi)*sin(psi - 0.1) + 0.988771077936042*sin(theta)*cos(phi)*cos(psi - 0.1) - 0.149438132473599*cos(phi)*cos(theta))/(8*(0.149438132473599*sin(theta) + 0.988771077936042*cos(theta)*cos(psi - 0.1)))],\n",
       "[                                                                                                                                                  21*(sin(phi)*sin(theta)*cos(psi) - sin(psi)*cos(phi))/(8*cos(psi)*cos(theta))],\n",
       "[                                                                                                                                                  21*(sin(phi)*sin(psi) + sin(theta)*cos(phi)*cos(psi))/(8*cos(psi)*cos(theta))],\n",
       "[21*(0.988771077936042*sin(phi)*sin(theta)*cos(psi + 0.1) + 0.149438132473599*sin(phi)*cos(theta) - 0.988771077936042*sin(psi + 0.1)*cos(phi))/(8*(-0.149438132473599*sin(theta) + 0.988771077936042*cos(theta)*cos(psi + 0.1)))],\n",
       "[21*(0.988771077936042*sin(phi)*sin(psi + 0.1) + 0.988771077936042*sin(theta)*cos(phi)*cos(psi + 0.1) + 0.149438132473599*cos(phi)*cos(theta))/(8*(-0.149438132473599*sin(theta) + 0.988771077936042*cos(theta)*cos(psi + 0.1)))],\n",
       "[                  21*(0.988771077936042*sin(phi)*sin(theta)*cos(psi) + 0.149438132473599*sin(phi)*cos(theta) - 0.988771077936042*sin(psi)*cos(phi))/(8*(-0.149438132473599*sin(theta) + 0.988771077936042*cos(psi)*cos(theta)))],\n",
       "[                  21*(0.988771077936042*sin(phi)*sin(psi) + 0.988771077936042*sin(theta)*cos(phi)*cos(psi) + 0.149438132473599*cos(phi)*cos(theta))/(8*(-0.149438132473599*sin(theta) + 0.988771077936042*cos(psi)*cos(theta)))],\n",
       "[21*(0.988771077936042*sin(phi)*sin(theta)*cos(psi - 0.1) + 0.149438132473599*sin(phi)*cos(theta) - 0.988771077936042*sin(psi - 0.1)*cos(phi))/(8*(-0.149438132473599*sin(theta) + 0.988771077936042*cos(theta)*cos(psi - 0.1)))],\n",
       "[21*(0.988771077936042*sin(phi)*sin(psi - 0.1) + 0.988771077936042*sin(theta)*cos(phi)*cos(psi - 0.1) + 0.149438132473599*cos(phi)*cos(theta))/(8*(-0.149438132473599*sin(theta) + 0.988771077936042*cos(theta)*cos(psi - 0.1)))]])"
      ]
     },
     "execution_count": 133,
     "metadata": {},
     "output_type": "execute_result"
    }
   ],
   "source": [
    "gs"
   ]
  },
  {
   "cell_type": "code",
   "execution_count": 134,
   "id": "26621a1e",
   "metadata": {},
   "outputs": [
    {
     "data": {
      "text/plain": [
       "(14, 1)"
      ]
     },
     "execution_count": 134,
     "metadata": {},
     "output_type": "execute_result"
    }
   ],
   "source": [
    "gs.shape"
   ]
  },
  {
   "cell_type": "code",
   "execution_count": 135,
   "id": "ec1d8cda",
   "metadata": {},
   "outputs": [],
   "source": [
    "C = gs.jacobian([psi, theta, phi, w_x, w_y, w_z])"
   ]
  },
  {
   "cell_type": "code",
   "execution_count": 136,
   "id": "eb52a17c",
   "metadata": {},
   "outputs": [
    {
     "data": {
      "text/latex": [
       "$\\displaystyle \\left[\\begin{matrix}\\frac{21 \\left(- 0.988771077936042 \\sin{\\left(\\phi \\right)} \\sin{\\left(\\theta \\right)} \\sin{\\left(\\psi + 0.1 \\right)} - 0.988771077936042 \\cos{\\left(\\phi \\right)} \\cos{\\left(\\psi + 0.1 \\right)}\\right)}{8 \\cdot \\left(0.149438132473599 \\sin{\\left(\\theta \\right)} + 0.988771077936042 \\cos{\\left(\\theta \\right)} \\cos{\\left(\\psi + 0.1 \\right)}\\right)} + \\frac{2.65481066201837 \\cdot \\left(0.988771077936042 \\sin{\\left(\\phi \\right)} \\sin{\\left(\\theta \\right)} \\cos{\\left(\\psi + 0.1 \\right)} - 0.149438132473599 \\sin{\\left(\\phi \\right)} \\cos{\\left(\\theta \\right)} - 0.988771077936042 \\sin{\\left(\\psi + 0.1 \\right)} \\cos{\\left(\\phi \\right)}\\right) \\sin{\\left(\\psi + 0.1 \\right)} \\cos{\\left(\\theta \\right)}}{\\left(0.151135218058295 \\sin{\\left(\\theta \\right)} + \\cos{\\left(\\theta \\right)} \\cos{\\left(\\psi + 0.1 \\right)}\\right)^{2}} & \\frac{21 \\cdot \\left(0.149438132473599 \\sin{\\left(\\phi \\right)} \\sin{\\left(\\theta \\right)} + 0.988771077936042 \\sin{\\left(\\phi \\right)} \\cos{\\left(\\theta \\right)} \\cos{\\left(\\psi + 0.1 \\right)}\\right)}{8 \\cdot \\left(0.149438132473599 \\sin{\\left(\\theta \\right)} + 0.988771077936042 \\cos{\\left(\\theta \\right)} \\cos{\\left(\\psi + 0.1 \\right)}\\right)} + \\frac{2.68495986711101 \\cdot \\left(0.988771077936042 \\sin{\\left(\\theta \\right)} \\cos{\\left(\\psi + 0.1 \\right)} - 0.149438132473599 \\cos{\\left(\\theta \\right)}\\right) \\left(0.988771077936042 \\sin{\\left(\\phi \\right)} \\sin{\\left(\\theta \\right)} \\cos{\\left(\\psi + 0.1 \\right)} - 0.149438132473599 \\sin{\\left(\\phi \\right)} \\cos{\\left(\\theta \\right)} - 0.988771077936042 \\sin{\\left(\\psi + 0.1 \\right)} \\cos{\\left(\\phi \\right)}\\right)}{\\left(0.151135218058295 \\sin{\\left(\\theta \\right)} + \\cos{\\left(\\theta \\right)} \\cos{\\left(\\psi + 0.1 \\right)}\\right)^{2}} & \\frac{21 \\cdot \\left(0.988771077936042 \\sin{\\left(\\phi \\right)} \\sin{\\left(\\psi + 0.1 \\right)} + 0.988771077936042 \\sin{\\left(\\theta \\right)} \\cos{\\left(\\phi \\right)} \\cos{\\left(\\psi + 0.1 \\right)} - 0.149438132473599 \\cos{\\left(\\phi \\right)} \\cos{\\left(\\theta \\right)}\\right)}{8 \\cdot \\left(0.149438132473599 \\sin{\\left(\\theta \\right)} + 0.988771077936042 \\cos{\\left(\\theta \\right)} \\cos{\\left(\\psi + 0.1 \\right)}\\right)} & 0 & 0 & 0\\\\\\frac{21 \\cdot \\left(0.988771077936042 \\sin{\\left(\\phi \\right)} \\cos{\\left(\\psi + 0.1 \\right)} - 0.988771077936042 \\sin{\\left(\\theta \\right)} \\sin{\\left(\\psi + 0.1 \\right)} \\cos{\\left(\\phi \\right)}\\right)}{8 \\cdot \\left(0.149438132473599 \\sin{\\left(\\theta \\right)} + 0.988771077936042 \\cos{\\left(\\theta \\right)} \\cos{\\left(\\psi + 0.1 \\right)}\\right)} + \\frac{2.65481066201837 \\cdot \\left(0.988771077936042 \\sin{\\left(\\phi \\right)} \\sin{\\left(\\psi + 0.1 \\right)} + 0.988771077936042 \\sin{\\left(\\theta \\right)} \\cos{\\left(\\phi \\right)} \\cos{\\left(\\psi + 0.1 \\right)} - 0.149438132473599 \\cos{\\left(\\phi \\right)} \\cos{\\left(\\theta \\right)}\\right) \\sin{\\left(\\psi + 0.1 \\right)} \\cos{\\left(\\theta \\right)}}{\\left(0.151135218058295 \\sin{\\left(\\theta \\right)} + \\cos{\\left(\\theta \\right)} \\cos{\\left(\\psi + 0.1 \\right)}\\right)^{2}} & \\frac{21 \\cdot \\left(0.149438132473599 \\sin{\\left(\\theta \\right)} \\cos{\\left(\\phi \\right)} + 0.988771077936042 \\cos{\\left(\\phi \\right)} \\cos{\\left(\\theta \\right)} \\cos{\\left(\\psi + 0.1 \\right)}\\right)}{8 \\cdot \\left(0.149438132473599 \\sin{\\left(\\theta \\right)} + 0.988771077936042 \\cos{\\left(\\theta \\right)} \\cos{\\left(\\psi + 0.1 \\right)}\\right)} + \\frac{2.68495986711101 \\cdot \\left(0.988771077936042 \\sin{\\left(\\theta \\right)} \\cos{\\left(\\psi + 0.1 \\right)} - 0.149438132473599 \\cos{\\left(\\theta \\right)}\\right) \\left(0.988771077936042 \\sin{\\left(\\phi \\right)} \\sin{\\left(\\psi + 0.1 \\right)} + 0.988771077936042 \\sin{\\left(\\theta \\right)} \\cos{\\left(\\phi \\right)} \\cos{\\left(\\psi + 0.1 \\right)} - 0.149438132473599 \\cos{\\left(\\phi \\right)} \\cos{\\left(\\theta \\right)}\\right)}{\\left(0.151135218058295 \\sin{\\left(\\theta \\right)} + \\cos{\\left(\\theta \\right)} \\cos{\\left(\\psi + 0.1 \\right)}\\right)^{2}} & \\frac{21 \\left(- 0.988771077936042 \\sin{\\left(\\phi \\right)} \\sin{\\left(\\theta \\right)} \\cos{\\left(\\psi + 0.1 \\right)} + 0.149438132473599 \\sin{\\left(\\phi \\right)} \\cos{\\left(\\theta \\right)} + 0.988771077936042 \\sin{\\left(\\psi + 0.1 \\right)} \\cos{\\left(\\phi \\right)}\\right)}{8 \\cdot \\left(0.149438132473599 \\sin{\\left(\\theta \\right)} + 0.988771077936042 \\cos{\\left(\\theta \\right)} \\cos{\\left(\\psi + 0.1 \\right)}\\right)} & 0 & 0 & 0\\\\\\frac{21 \\left(- 0.988771077936042 \\sin{\\left(\\phi \\right)} \\sin{\\left(\\psi \\right)} \\sin{\\left(\\theta \\right)} - 0.988771077936042 \\cos{\\left(\\phi \\right)} \\cos{\\left(\\psi \\right)}\\right)}{8 \\cdot \\left(0.149438132473599 \\sin{\\left(\\theta \\right)} + 0.988771077936042 \\cos{\\left(\\psi \\right)} \\cos{\\left(\\theta \\right)}\\right)} + \\frac{2.65481066201837 \\cdot \\left(0.988771077936042 \\sin{\\left(\\phi \\right)} \\sin{\\left(\\theta \\right)} \\cos{\\left(\\psi \\right)} - 0.149438132473599 \\sin{\\left(\\phi \\right)} \\cos{\\left(\\theta \\right)} - 0.988771077936042 \\sin{\\left(\\psi \\right)} \\cos{\\left(\\phi \\right)}\\right) \\sin{\\left(\\psi \\right)} \\cos{\\left(\\theta \\right)}}{\\left(0.151135218058295 \\sin{\\left(\\theta \\right)} + \\cos{\\left(\\psi \\right)} \\cos{\\left(\\theta \\right)}\\right)^{2}} & \\frac{21 \\cdot \\left(0.149438132473599 \\sin{\\left(\\phi \\right)} \\sin{\\left(\\theta \\right)} + 0.988771077936042 \\sin{\\left(\\phi \\right)} \\cos{\\left(\\psi \\right)} \\cos{\\left(\\theta \\right)}\\right)}{8 \\cdot \\left(0.149438132473599 \\sin{\\left(\\theta \\right)} + 0.988771077936042 \\cos{\\left(\\psi \\right)} \\cos{\\left(\\theta \\right)}\\right)} + \\frac{2.68495986711101 \\cdot \\left(0.988771077936042 \\sin{\\left(\\theta \\right)} \\cos{\\left(\\psi \\right)} - 0.149438132473599 \\cos{\\left(\\theta \\right)}\\right) \\left(0.988771077936042 \\sin{\\left(\\phi \\right)} \\sin{\\left(\\theta \\right)} \\cos{\\left(\\psi \\right)} - 0.149438132473599 \\sin{\\left(\\phi \\right)} \\cos{\\left(\\theta \\right)} - 0.988771077936042 \\sin{\\left(\\psi \\right)} \\cos{\\left(\\phi \\right)}\\right)}{\\left(0.151135218058295 \\sin{\\left(\\theta \\right)} + \\cos{\\left(\\psi \\right)} \\cos{\\left(\\theta \\right)}\\right)^{2}} & \\frac{21 \\cdot \\left(0.988771077936042 \\sin{\\left(\\phi \\right)} \\sin{\\left(\\psi \\right)} + 0.988771077936042 \\sin{\\left(\\theta \\right)} \\cos{\\left(\\phi \\right)} \\cos{\\left(\\psi \\right)} - 0.149438132473599 \\cos{\\left(\\phi \\right)} \\cos{\\left(\\theta \\right)}\\right)}{8 \\cdot \\left(0.149438132473599 \\sin{\\left(\\theta \\right)} + 0.988771077936042 \\cos{\\left(\\psi \\right)} \\cos{\\left(\\theta \\right)}\\right)} & 0 & 0 & 0\\\\\\frac{21 \\cdot \\left(0.988771077936042 \\sin{\\left(\\phi \\right)} \\cos{\\left(\\psi \\right)} - 0.988771077936042 \\sin{\\left(\\psi \\right)} \\sin{\\left(\\theta \\right)} \\cos{\\left(\\phi \\right)}\\right)}{8 \\cdot \\left(0.149438132473599 \\sin{\\left(\\theta \\right)} + 0.988771077936042 \\cos{\\left(\\psi \\right)} \\cos{\\left(\\theta \\right)}\\right)} + \\frac{2.65481066201837 \\cdot \\left(0.988771077936042 \\sin{\\left(\\phi \\right)} \\sin{\\left(\\psi \\right)} + 0.988771077936042 \\sin{\\left(\\theta \\right)} \\cos{\\left(\\phi \\right)} \\cos{\\left(\\psi \\right)} - 0.149438132473599 \\cos{\\left(\\phi \\right)} \\cos{\\left(\\theta \\right)}\\right) \\sin{\\left(\\psi \\right)} \\cos{\\left(\\theta \\right)}}{\\left(0.151135218058295 \\sin{\\left(\\theta \\right)} + \\cos{\\left(\\psi \\right)} \\cos{\\left(\\theta \\right)}\\right)^{2}} & \\frac{21 \\cdot \\left(0.149438132473599 \\sin{\\left(\\theta \\right)} \\cos{\\left(\\phi \\right)} + 0.988771077936042 \\cos{\\left(\\phi \\right)} \\cos{\\left(\\psi \\right)} \\cos{\\left(\\theta \\right)}\\right)}{8 \\cdot \\left(0.149438132473599 \\sin{\\left(\\theta \\right)} + 0.988771077936042 \\cos{\\left(\\psi \\right)} \\cos{\\left(\\theta \\right)}\\right)} + \\frac{2.68495986711101 \\cdot \\left(0.988771077936042 \\sin{\\left(\\theta \\right)} \\cos{\\left(\\psi \\right)} - 0.149438132473599 \\cos{\\left(\\theta \\right)}\\right) \\left(0.988771077936042 \\sin{\\left(\\phi \\right)} \\sin{\\left(\\psi \\right)} + 0.988771077936042 \\sin{\\left(\\theta \\right)} \\cos{\\left(\\phi \\right)} \\cos{\\left(\\psi \\right)} - 0.149438132473599 \\cos{\\left(\\phi \\right)} \\cos{\\left(\\theta \\right)}\\right)}{\\left(0.151135218058295 \\sin{\\left(\\theta \\right)} + \\cos{\\left(\\psi \\right)} \\cos{\\left(\\theta \\right)}\\right)^{2}} & \\frac{21 \\left(- 0.988771077936042 \\sin{\\left(\\phi \\right)} \\sin{\\left(\\theta \\right)} \\cos{\\left(\\psi \\right)} + 0.149438132473599 \\sin{\\left(\\phi \\right)} \\cos{\\left(\\theta \\right)} + 0.988771077936042 \\sin{\\left(\\psi \\right)} \\cos{\\left(\\phi \\right)}\\right)}{8 \\cdot \\left(0.149438132473599 \\sin{\\left(\\theta \\right)} + 0.988771077936042 \\cos{\\left(\\psi \\right)} \\cos{\\left(\\theta \\right)}\\right)} & 0 & 0 & 0\\\\\\frac{21 \\left(- 0.988771077936042 \\sin{\\left(\\phi \\right)} \\sin{\\left(\\theta \\right)} \\sin{\\left(\\psi - 0.1 \\right)} - 0.988771077936042 \\cos{\\left(\\phi \\right)} \\cos{\\left(\\psi - 0.1 \\right)}\\right)}{8 \\cdot \\left(0.149438132473599 \\sin{\\left(\\theta \\right)} + 0.988771077936042 \\cos{\\left(\\theta \\right)} \\cos{\\left(\\psi - 0.1 \\right)}\\right)} + \\frac{2.65481066201837 \\cdot \\left(0.988771077936042 \\sin{\\left(\\phi \\right)} \\sin{\\left(\\theta \\right)} \\cos{\\left(\\psi - 0.1 \\right)} - 0.149438132473599 \\sin{\\left(\\phi \\right)} \\cos{\\left(\\theta \\right)} - 0.988771077936042 \\sin{\\left(\\psi - 0.1 \\right)} \\cos{\\left(\\phi \\right)}\\right) \\sin{\\left(\\psi - 0.1 \\right)} \\cos{\\left(\\theta \\right)}}{\\left(0.151135218058295 \\sin{\\left(\\theta \\right)} + \\cos{\\left(\\theta \\right)} \\cos{\\left(\\psi - 0.1 \\right)}\\right)^{2}} & \\frac{21 \\cdot \\left(0.149438132473599 \\sin{\\left(\\phi \\right)} \\sin{\\left(\\theta \\right)} + 0.988771077936042 \\sin{\\left(\\phi \\right)} \\cos{\\left(\\theta \\right)} \\cos{\\left(\\psi - 0.1 \\right)}\\right)}{8 \\cdot \\left(0.149438132473599 \\sin{\\left(\\theta \\right)} + 0.988771077936042 \\cos{\\left(\\theta \\right)} \\cos{\\left(\\psi - 0.1 \\right)}\\right)} + \\frac{2.68495986711101 \\cdot \\left(0.988771077936042 \\sin{\\left(\\theta \\right)} \\cos{\\left(\\psi - 0.1 \\right)} - 0.149438132473599 \\cos{\\left(\\theta \\right)}\\right) \\left(0.988771077936042 \\sin{\\left(\\phi \\right)} \\sin{\\left(\\theta \\right)} \\cos{\\left(\\psi - 0.1 \\right)} - 0.149438132473599 \\sin{\\left(\\phi \\right)} \\cos{\\left(\\theta \\right)} - 0.988771077936042 \\sin{\\left(\\psi - 0.1 \\right)} \\cos{\\left(\\phi \\right)}\\right)}{\\left(0.151135218058295 \\sin{\\left(\\theta \\right)} + \\cos{\\left(\\theta \\right)} \\cos{\\left(\\psi - 0.1 \\right)}\\right)^{2}} & \\frac{21 \\cdot \\left(0.988771077936042 \\sin{\\left(\\phi \\right)} \\sin{\\left(\\psi - 0.1 \\right)} + 0.988771077936042 \\sin{\\left(\\theta \\right)} \\cos{\\left(\\phi \\right)} \\cos{\\left(\\psi - 0.1 \\right)} - 0.149438132473599 \\cos{\\left(\\phi \\right)} \\cos{\\left(\\theta \\right)}\\right)}{8 \\cdot \\left(0.149438132473599 \\sin{\\left(\\theta \\right)} + 0.988771077936042 \\cos{\\left(\\theta \\right)} \\cos{\\left(\\psi - 0.1 \\right)}\\right)} & 0 & 0 & 0\\\\\\frac{21 \\cdot \\left(0.988771077936042 \\sin{\\left(\\phi \\right)} \\cos{\\left(\\psi - 0.1 \\right)} - 0.988771077936042 \\sin{\\left(\\theta \\right)} \\sin{\\left(\\psi - 0.1 \\right)} \\cos{\\left(\\phi \\right)}\\right)}{8 \\cdot \\left(0.149438132473599 \\sin{\\left(\\theta \\right)} + 0.988771077936042 \\cos{\\left(\\theta \\right)} \\cos{\\left(\\psi - 0.1 \\right)}\\right)} + \\frac{2.65481066201837 \\cdot \\left(0.988771077936042 \\sin{\\left(\\phi \\right)} \\sin{\\left(\\psi - 0.1 \\right)} + 0.988771077936042 \\sin{\\left(\\theta \\right)} \\cos{\\left(\\phi \\right)} \\cos{\\left(\\psi - 0.1 \\right)} - 0.149438132473599 \\cos{\\left(\\phi \\right)} \\cos{\\left(\\theta \\right)}\\right) \\sin{\\left(\\psi - 0.1 \\right)} \\cos{\\left(\\theta \\right)}}{\\left(0.151135218058295 \\sin{\\left(\\theta \\right)} + \\cos{\\left(\\theta \\right)} \\cos{\\left(\\psi - 0.1 \\right)}\\right)^{2}} & \\frac{21 \\cdot \\left(0.149438132473599 \\sin{\\left(\\theta \\right)} \\cos{\\left(\\phi \\right)} + 0.988771077936042 \\cos{\\left(\\phi \\right)} \\cos{\\left(\\theta \\right)} \\cos{\\left(\\psi - 0.1 \\right)}\\right)}{8 \\cdot \\left(0.149438132473599 \\sin{\\left(\\theta \\right)} + 0.988771077936042 \\cos{\\left(\\theta \\right)} \\cos{\\left(\\psi - 0.1 \\right)}\\right)} + \\frac{2.68495986711101 \\cdot \\left(0.988771077936042 \\sin{\\left(\\theta \\right)} \\cos{\\left(\\psi - 0.1 \\right)} - 0.149438132473599 \\cos{\\left(\\theta \\right)}\\right) \\left(0.988771077936042 \\sin{\\left(\\phi \\right)} \\sin{\\left(\\psi - 0.1 \\right)} + 0.988771077936042 \\sin{\\left(\\theta \\right)} \\cos{\\left(\\phi \\right)} \\cos{\\left(\\psi - 0.1 \\right)} - 0.149438132473599 \\cos{\\left(\\phi \\right)} \\cos{\\left(\\theta \\right)}\\right)}{\\left(0.151135218058295 \\sin{\\left(\\theta \\right)} + \\cos{\\left(\\theta \\right)} \\cos{\\left(\\psi - 0.1 \\right)}\\right)^{2}} & \\frac{21 \\left(- 0.988771077936042 \\sin{\\left(\\phi \\right)} \\sin{\\left(\\theta \\right)} \\cos{\\left(\\psi - 0.1 \\right)} + 0.149438132473599 \\sin{\\left(\\phi \\right)} \\cos{\\left(\\theta \\right)} + 0.988771077936042 \\sin{\\left(\\psi - 0.1 \\right)} \\cos{\\left(\\phi \\right)}\\right)}{8 \\cdot \\left(0.149438132473599 \\sin{\\left(\\theta \\right)} + 0.988771077936042 \\cos{\\left(\\theta \\right)} \\cos{\\left(\\psi - 0.1 \\right)}\\right)} & 0 & 0 & 0\\\\\\frac{21 \\left(- \\sin{\\left(\\phi \\right)} \\sin{\\left(\\psi \\right)} \\sin{\\left(\\theta \\right)} - \\cos{\\left(\\phi \\right)} \\cos{\\left(\\psi \\right)}\\right)}{8 \\cos{\\left(\\psi \\right)} \\cos{\\left(\\theta \\right)}} + \\frac{21 \\left(\\sin{\\left(\\phi \\right)} \\sin{\\left(\\theta \\right)} \\cos{\\left(\\psi \\right)} - \\sin{\\left(\\psi \\right)} \\cos{\\left(\\phi \\right)}\\right) \\sin{\\left(\\psi \\right)}}{8 \\cos^{2}{\\left(\\psi \\right)} \\cos{\\left(\\theta \\right)}} & \\frac{21 \\left(\\sin{\\left(\\phi \\right)} \\sin{\\left(\\theta \\right)} \\cos{\\left(\\psi \\right)} - \\sin{\\left(\\psi \\right)} \\cos{\\left(\\phi \\right)}\\right) \\sin{\\left(\\theta \\right)}}{8 \\cos{\\left(\\psi \\right)} \\cos^{2}{\\left(\\theta \\right)}} + \\frac{21 \\sin{\\left(\\phi \\right)}}{8} & \\frac{21 \\left(\\sin{\\left(\\phi \\right)} \\sin{\\left(\\psi \\right)} + \\sin{\\left(\\theta \\right)} \\cos{\\left(\\phi \\right)} \\cos{\\left(\\psi \\right)}\\right)}{8 \\cos{\\left(\\psi \\right)} \\cos{\\left(\\theta \\right)}} & 0 & 0 & 0\\\\\\frac{21 \\left(\\sin{\\left(\\phi \\right)} \\sin{\\left(\\psi \\right)} + \\sin{\\left(\\theta \\right)} \\cos{\\left(\\phi \\right)} \\cos{\\left(\\psi \\right)}\\right) \\sin{\\left(\\psi \\right)}}{8 \\cos^{2}{\\left(\\psi \\right)} \\cos{\\left(\\theta \\right)}} + \\frac{21 \\left(\\sin{\\left(\\phi \\right)} \\cos{\\left(\\psi \\right)} - \\sin{\\left(\\psi \\right)} \\sin{\\left(\\theta \\right)} \\cos{\\left(\\phi \\right)}\\right)}{8 \\cos{\\left(\\psi \\right)} \\cos{\\left(\\theta \\right)}} & \\frac{21 \\left(\\sin{\\left(\\phi \\right)} \\sin{\\left(\\psi \\right)} + \\sin{\\left(\\theta \\right)} \\cos{\\left(\\phi \\right)} \\cos{\\left(\\psi \\right)}\\right) \\sin{\\left(\\theta \\right)}}{8 \\cos{\\left(\\psi \\right)} \\cos^{2}{\\left(\\theta \\right)}} + \\frac{21 \\cos{\\left(\\phi \\right)}}{8} & \\frac{21 \\left(- \\sin{\\left(\\phi \\right)} \\sin{\\left(\\theta \\right)} \\cos{\\left(\\psi \\right)} + \\sin{\\left(\\psi \\right)} \\cos{\\left(\\phi \\right)}\\right)}{8 \\cos{\\left(\\psi \\right)} \\cos{\\left(\\theta \\right)}} & 0 & 0 & 0\\\\\\frac{21 \\left(- 0.988771077936042 \\sin{\\left(\\phi \\right)} \\sin{\\left(\\theta \\right)} \\sin{\\left(\\psi + 0.1 \\right)} - 0.988771077936042 \\cos{\\left(\\phi \\right)} \\cos{\\left(\\psi + 0.1 \\right)}\\right)}{8 \\left(- 0.149438132473599 \\sin{\\left(\\theta \\right)} + 0.988771077936042 \\cos{\\left(\\theta \\right)} \\cos{\\left(\\psi + 0.1 \\right)}\\right)} + \\frac{2.65481066201837 \\cdot \\left(0.988771077936042 \\sin{\\left(\\phi \\right)} \\sin{\\left(\\theta \\right)} \\cos{\\left(\\psi + 0.1 \\right)} + 0.149438132473599 \\sin{\\left(\\phi \\right)} \\cos{\\left(\\theta \\right)} - 0.988771077936042 \\sin{\\left(\\psi + 0.1 \\right)} \\cos{\\left(\\phi \\right)}\\right) \\sin{\\left(\\psi + 0.1 \\right)} \\cos{\\left(\\theta \\right)}}{\\left(- 0.151135218058295 \\sin{\\left(\\theta \\right)} + \\cos{\\left(\\theta \\right)} \\cos{\\left(\\psi + 0.1 \\right)}\\right)^{2}} & \\frac{21 \\left(- 0.149438132473599 \\sin{\\left(\\phi \\right)} \\sin{\\left(\\theta \\right)} + 0.988771077936042 \\sin{\\left(\\phi \\right)} \\cos{\\left(\\theta \\right)} \\cos{\\left(\\psi + 0.1 \\right)}\\right)}{8 \\left(- 0.149438132473599 \\sin{\\left(\\theta \\right)} + 0.988771077936042 \\cos{\\left(\\theta \\right)} \\cos{\\left(\\psi + 0.1 \\right)}\\right)} + \\frac{2.68495986711101 \\cdot \\left(0.988771077936042 \\sin{\\left(\\theta \\right)} \\cos{\\left(\\psi + 0.1 \\right)} + 0.149438132473599 \\cos{\\left(\\theta \\right)}\\right) \\left(0.988771077936042 \\sin{\\left(\\phi \\right)} \\sin{\\left(\\theta \\right)} \\cos{\\left(\\psi + 0.1 \\right)} + 0.149438132473599 \\sin{\\left(\\phi \\right)} \\cos{\\left(\\theta \\right)} - 0.988771077936042 \\sin{\\left(\\psi + 0.1 \\right)} \\cos{\\left(\\phi \\right)}\\right)}{\\left(- 0.151135218058295 \\sin{\\left(\\theta \\right)} + \\cos{\\left(\\theta \\right)} \\cos{\\left(\\psi + 0.1 \\right)}\\right)^{2}} & \\frac{21 \\cdot \\left(0.988771077936042 \\sin{\\left(\\phi \\right)} \\sin{\\left(\\psi + 0.1 \\right)} + 0.988771077936042 \\sin{\\left(\\theta \\right)} \\cos{\\left(\\phi \\right)} \\cos{\\left(\\psi + 0.1 \\right)} + 0.149438132473599 \\cos{\\left(\\phi \\right)} \\cos{\\left(\\theta \\right)}\\right)}{8 \\left(- 0.149438132473599 \\sin{\\left(\\theta \\right)} + 0.988771077936042 \\cos{\\left(\\theta \\right)} \\cos{\\left(\\psi + 0.1 \\right)}\\right)} & 0 & 0 & 0\\\\\\frac{21 \\cdot \\left(0.988771077936042 \\sin{\\left(\\phi \\right)} \\cos{\\left(\\psi + 0.1 \\right)} - 0.988771077936042 \\sin{\\left(\\theta \\right)} \\sin{\\left(\\psi + 0.1 \\right)} \\cos{\\left(\\phi \\right)}\\right)}{8 \\left(- 0.149438132473599 \\sin{\\left(\\theta \\right)} + 0.988771077936042 \\cos{\\left(\\theta \\right)} \\cos{\\left(\\psi + 0.1 \\right)}\\right)} + \\frac{2.65481066201837 \\cdot \\left(0.988771077936042 \\sin{\\left(\\phi \\right)} \\sin{\\left(\\psi + 0.1 \\right)} + 0.988771077936042 \\sin{\\left(\\theta \\right)} \\cos{\\left(\\phi \\right)} \\cos{\\left(\\psi + 0.1 \\right)} + 0.149438132473599 \\cos{\\left(\\phi \\right)} \\cos{\\left(\\theta \\right)}\\right) \\sin{\\left(\\psi + 0.1 \\right)} \\cos{\\left(\\theta \\right)}}{\\left(- 0.151135218058295 \\sin{\\left(\\theta \\right)} + \\cos{\\left(\\theta \\right)} \\cos{\\left(\\psi + 0.1 \\right)}\\right)^{2}} & \\frac{21 \\left(- 0.149438132473599 \\sin{\\left(\\theta \\right)} \\cos{\\left(\\phi \\right)} + 0.988771077936042 \\cos{\\left(\\phi \\right)} \\cos{\\left(\\theta \\right)} \\cos{\\left(\\psi + 0.1 \\right)}\\right)}{8 \\left(- 0.149438132473599 \\sin{\\left(\\theta \\right)} + 0.988771077936042 \\cos{\\left(\\theta \\right)} \\cos{\\left(\\psi + 0.1 \\right)}\\right)} + \\frac{2.68495986711101 \\cdot \\left(0.988771077936042 \\sin{\\left(\\theta \\right)} \\cos{\\left(\\psi + 0.1 \\right)} + 0.149438132473599 \\cos{\\left(\\theta \\right)}\\right) \\left(0.988771077936042 \\sin{\\left(\\phi \\right)} \\sin{\\left(\\psi + 0.1 \\right)} + 0.988771077936042 \\sin{\\left(\\theta \\right)} \\cos{\\left(\\phi \\right)} \\cos{\\left(\\psi + 0.1 \\right)} + 0.149438132473599 \\cos{\\left(\\phi \\right)} \\cos{\\left(\\theta \\right)}\\right)}{\\left(- 0.151135218058295 \\sin{\\left(\\theta \\right)} + \\cos{\\left(\\theta \\right)} \\cos{\\left(\\psi + 0.1 \\right)}\\right)^{2}} & \\frac{21 \\left(- 0.988771077936042 \\sin{\\left(\\phi \\right)} \\sin{\\left(\\theta \\right)} \\cos{\\left(\\psi + 0.1 \\right)} - 0.149438132473599 \\sin{\\left(\\phi \\right)} \\cos{\\left(\\theta \\right)} + 0.988771077936042 \\sin{\\left(\\psi + 0.1 \\right)} \\cos{\\left(\\phi \\right)}\\right)}{8 \\left(- 0.149438132473599 \\sin{\\left(\\theta \\right)} + 0.988771077936042 \\cos{\\left(\\theta \\right)} \\cos{\\left(\\psi + 0.1 \\right)}\\right)} & 0 & 0 & 0\\\\\\frac{21 \\left(- 0.988771077936042 \\sin{\\left(\\phi \\right)} \\sin{\\left(\\psi \\right)} \\sin{\\left(\\theta \\right)} - 0.988771077936042 \\cos{\\left(\\phi \\right)} \\cos{\\left(\\psi \\right)}\\right)}{8 \\left(- 0.149438132473599 \\sin{\\left(\\theta \\right)} + 0.988771077936042 \\cos{\\left(\\psi \\right)} \\cos{\\left(\\theta \\right)}\\right)} + \\frac{2.65481066201837 \\cdot \\left(0.988771077936042 \\sin{\\left(\\phi \\right)} \\sin{\\left(\\theta \\right)} \\cos{\\left(\\psi \\right)} + 0.149438132473599 \\sin{\\left(\\phi \\right)} \\cos{\\left(\\theta \\right)} - 0.988771077936042 \\sin{\\left(\\psi \\right)} \\cos{\\left(\\phi \\right)}\\right) \\sin{\\left(\\psi \\right)} \\cos{\\left(\\theta \\right)}}{\\left(- 0.151135218058295 \\sin{\\left(\\theta \\right)} + \\cos{\\left(\\psi \\right)} \\cos{\\left(\\theta \\right)}\\right)^{2}} & \\frac{21 \\left(- 0.149438132473599 \\sin{\\left(\\phi \\right)} \\sin{\\left(\\theta \\right)} + 0.988771077936042 \\sin{\\left(\\phi \\right)} \\cos{\\left(\\psi \\right)} \\cos{\\left(\\theta \\right)}\\right)}{8 \\left(- 0.149438132473599 \\sin{\\left(\\theta \\right)} + 0.988771077936042 \\cos{\\left(\\psi \\right)} \\cos{\\left(\\theta \\right)}\\right)} + \\frac{2.68495986711101 \\cdot \\left(0.988771077936042 \\sin{\\left(\\theta \\right)} \\cos{\\left(\\psi \\right)} + 0.149438132473599 \\cos{\\left(\\theta \\right)}\\right) \\left(0.988771077936042 \\sin{\\left(\\phi \\right)} \\sin{\\left(\\theta \\right)} \\cos{\\left(\\psi \\right)} + 0.149438132473599 \\sin{\\left(\\phi \\right)} \\cos{\\left(\\theta \\right)} - 0.988771077936042 \\sin{\\left(\\psi \\right)} \\cos{\\left(\\phi \\right)}\\right)}{\\left(- 0.151135218058295 \\sin{\\left(\\theta \\right)} + \\cos{\\left(\\psi \\right)} \\cos{\\left(\\theta \\right)}\\right)^{2}} & \\frac{21 \\cdot \\left(0.988771077936042 \\sin{\\left(\\phi \\right)} \\sin{\\left(\\psi \\right)} + 0.988771077936042 \\sin{\\left(\\theta \\right)} \\cos{\\left(\\phi \\right)} \\cos{\\left(\\psi \\right)} + 0.149438132473599 \\cos{\\left(\\phi \\right)} \\cos{\\left(\\theta \\right)}\\right)}{8 \\left(- 0.149438132473599 \\sin{\\left(\\theta \\right)} + 0.988771077936042 \\cos{\\left(\\psi \\right)} \\cos{\\left(\\theta \\right)}\\right)} & 0 & 0 & 0\\\\\\frac{21 \\cdot \\left(0.988771077936042 \\sin{\\left(\\phi \\right)} \\cos{\\left(\\psi \\right)} - 0.988771077936042 \\sin{\\left(\\psi \\right)} \\sin{\\left(\\theta \\right)} \\cos{\\left(\\phi \\right)}\\right)}{8 \\left(- 0.149438132473599 \\sin{\\left(\\theta \\right)} + 0.988771077936042 \\cos{\\left(\\psi \\right)} \\cos{\\left(\\theta \\right)}\\right)} + \\frac{2.65481066201837 \\cdot \\left(0.988771077936042 \\sin{\\left(\\phi \\right)} \\sin{\\left(\\psi \\right)} + 0.988771077936042 \\sin{\\left(\\theta \\right)} \\cos{\\left(\\phi \\right)} \\cos{\\left(\\psi \\right)} + 0.149438132473599 \\cos{\\left(\\phi \\right)} \\cos{\\left(\\theta \\right)}\\right) \\sin{\\left(\\psi \\right)} \\cos{\\left(\\theta \\right)}}{\\left(- 0.151135218058295 \\sin{\\left(\\theta \\right)} + \\cos{\\left(\\psi \\right)} \\cos{\\left(\\theta \\right)}\\right)^{2}} & \\frac{21 \\left(- 0.149438132473599 \\sin{\\left(\\theta \\right)} \\cos{\\left(\\phi \\right)} + 0.988771077936042 \\cos{\\left(\\phi \\right)} \\cos{\\left(\\psi \\right)} \\cos{\\left(\\theta \\right)}\\right)}{8 \\left(- 0.149438132473599 \\sin{\\left(\\theta \\right)} + 0.988771077936042 \\cos{\\left(\\psi \\right)} \\cos{\\left(\\theta \\right)}\\right)} + \\frac{2.68495986711101 \\cdot \\left(0.988771077936042 \\sin{\\left(\\theta \\right)} \\cos{\\left(\\psi \\right)} + 0.149438132473599 \\cos{\\left(\\theta \\right)}\\right) \\left(0.988771077936042 \\sin{\\left(\\phi \\right)} \\sin{\\left(\\psi \\right)} + 0.988771077936042 \\sin{\\left(\\theta \\right)} \\cos{\\left(\\phi \\right)} \\cos{\\left(\\psi \\right)} + 0.149438132473599 \\cos{\\left(\\phi \\right)} \\cos{\\left(\\theta \\right)}\\right)}{\\left(- 0.151135218058295 \\sin{\\left(\\theta \\right)} + \\cos{\\left(\\psi \\right)} \\cos{\\left(\\theta \\right)}\\right)^{2}} & \\frac{21 \\left(- 0.988771077936042 \\sin{\\left(\\phi \\right)} \\sin{\\left(\\theta \\right)} \\cos{\\left(\\psi \\right)} - 0.149438132473599 \\sin{\\left(\\phi \\right)} \\cos{\\left(\\theta \\right)} + 0.988771077936042 \\sin{\\left(\\psi \\right)} \\cos{\\left(\\phi \\right)}\\right)}{8 \\left(- 0.149438132473599 \\sin{\\left(\\theta \\right)} + 0.988771077936042 \\cos{\\left(\\psi \\right)} \\cos{\\left(\\theta \\right)}\\right)} & 0 & 0 & 0\\\\\\frac{21 \\left(- 0.988771077936042 \\sin{\\left(\\phi \\right)} \\sin{\\left(\\theta \\right)} \\sin{\\left(\\psi - 0.1 \\right)} - 0.988771077936042 \\cos{\\left(\\phi \\right)} \\cos{\\left(\\psi - 0.1 \\right)}\\right)}{8 \\left(- 0.149438132473599 \\sin{\\left(\\theta \\right)} + 0.988771077936042 \\cos{\\left(\\theta \\right)} \\cos{\\left(\\psi - 0.1 \\right)}\\right)} + \\frac{2.65481066201837 \\cdot \\left(0.988771077936042 \\sin{\\left(\\phi \\right)} \\sin{\\left(\\theta \\right)} \\cos{\\left(\\psi - 0.1 \\right)} + 0.149438132473599 \\sin{\\left(\\phi \\right)} \\cos{\\left(\\theta \\right)} - 0.988771077936042 \\sin{\\left(\\psi - 0.1 \\right)} \\cos{\\left(\\phi \\right)}\\right) \\sin{\\left(\\psi - 0.1 \\right)} \\cos{\\left(\\theta \\right)}}{\\left(- 0.151135218058295 \\sin{\\left(\\theta \\right)} + \\cos{\\left(\\theta \\right)} \\cos{\\left(\\psi - 0.1 \\right)}\\right)^{2}} & \\frac{21 \\left(- 0.149438132473599 \\sin{\\left(\\phi \\right)} \\sin{\\left(\\theta \\right)} + 0.988771077936042 \\sin{\\left(\\phi \\right)} \\cos{\\left(\\theta \\right)} \\cos{\\left(\\psi - 0.1 \\right)}\\right)}{8 \\left(- 0.149438132473599 \\sin{\\left(\\theta \\right)} + 0.988771077936042 \\cos{\\left(\\theta \\right)} \\cos{\\left(\\psi - 0.1 \\right)}\\right)} + \\frac{2.68495986711101 \\cdot \\left(0.988771077936042 \\sin{\\left(\\theta \\right)} \\cos{\\left(\\psi - 0.1 \\right)} + 0.149438132473599 \\cos{\\left(\\theta \\right)}\\right) \\left(0.988771077936042 \\sin{\\left(\\phi \\right)} \\sin{\\left(\\theta \\right)} \\cos{\\left(\\psi - 0.1 \\right)} + 0.149438132473599 \\sin{\\left(\\phi \\right)} \\cos{\\left(\\theta \\right)} - 0.988771077936042 \\sin{\\left(\\psi - 0.1 \\right)} \\cos{\\left(\\phi \\right)}\\right)}{\\left(- 0.151135218058295 \\sin{\\left(\\theta \\right)} + \\cos{\\left(\\theta \\right)} \\cos{\\left(\\psi - 0.1 \\right)}\\right)^{2}} & \\frac{21 \\cdot \\left(0.988771077936042 \\sin{\\left(\\phi \\right)} \\sin{\\left(\\psi - 0.1 \\right)} + 0.988771077936042 \\sin{\\left(\\theta \\right)} \\cos{\\left(\\phi \\right)} \\cos{\\left(\\psi - 0.1 \\right)} + 0.149438132473599 \\cos{\\left(\\phi \\right)} \\cos{\\left(\\theta \\right)}\\right)}{8 \\left(- 0.149438132473599 \\sin{\\left(\\theta \\right)} + 0.988771077936042 \\cos{\\left(\\theta \\right)} \\cos{\\left(\\psi - 0.1 \\right)}\\right)} & 0 & 0 & 0\\\\\\frac{21 \\cdot \\left(0.988771077936042 \\sin{\\left(\\phi \\right)} \\cos{\\left(\\psi - 0.1 \\right)} - 0.988771077936042 \\sin{\\left(\\theta \\right)} \\sin{\\left(\\psi - 0.1 \\right)} \\cos{\\left(\\phi \\right)}\\right)}{8 \\left(- 0.149438132473599 \\sin{\\left(\\theta \\right)} + 0.988771077936042 \\cos{\\left(\\theta \\right)} \\cos{\\left(\\psi - 0.1 \\right)}\\right)} + \\frac{2.65481066201837 \\cdot \\left(0.988771077936042 \\sin{\\left(\\phi \\right)} \\sin{\\left(\\psi - 0.1 \\right)} + 0.988771077936042 \\sin{\\left(\\theta \\right)} \\cos{\\left(\\phi \\right)} \\cos{\\left(\\psi - 0.1 \\right)} + 0.149438132473599 \\cos{\\left(\\phi \\right)} \\cos{\\left(\\theta \\right)}\\right) \\sin{\\left(\\psi - 0.1 \\right)} \\cos{\\left(\\theta \\right)}}{\\left(- 0.151135218058295 \\sin{\\left(\\theta \\right)} + \\cos{\\left(\\theta \\right)} \\cos{\\left(\\psi - 0.1 \\right)}\\right)^{2}} & \\frac{21 \\left(- 0.149438132473599 \\sin{\\left(\\theta \\right)} \\cos{\\left(\\phi \\right)} + 0.988771077936042 \\cos{\\left(\\phi \\right)} \\cos{\\left(\\theta \\right)} \\cos{\\left(\\psi - 0.1 \\right)}\\right)}{8 \\left(- 0.149438132473599 \\sin{\\left(\\theta \\right)} + 0.988771077936042 \\cos{\\left(\\theta \\right)} \\cos{\\left(\\psi - 0.1 \\right)}\\right)} + \\frac{2.68495986711101 \\cdot \\left(0.988771077936042 \\sin{\\left(\\theta \\right)} \\cos{\\left(\\psi - 0.1 \\right)} + 0.149438132473599 \\cos{\\left(\\theta \\right)}\\right) \\left(0.988771077936042 \\sin{\\left(\\phi \\right)} \\sin{\\left(\\psi - 0.1 \\right)} + 0.988771077936042 \\sin{\\left(\\theta \\right)} \\cos{\\left(\\phi \\right)} \\cos{\\left(\\psi - 0.1 \\right)} + 0.149438132473599 \\cos{\\left(\\phi \\right)} \\cos{\\left(\\theta \\right)}\\right)}{\\left(- 0.151135218058295 \\sin{\\left(\\theta \\right)} + \\cos{\\left(\\theta \\right)} \\cos{\\left(\\psi - 0.1 \\right)}\\right)^{2}} & \\frac{21 \\left(- 0.988771077936042 \\sin{\\left(\\phi \\right)} \\sin{\\left(\\theta \\right)} \\cos{\\left(\\psi - 0.1 \\right)} - 0.149438132473599 \\sin{\\left(\\phi \\right)} \\cos{\\left(\\theta \\right)} + 0.988771077936042 \\sin{\\left(\\psi - 0.1 \\right)} \\cos{\\left(\\phi \\right)}\\right)}{8 \\left(- 0.149438132473599 \\sin{\\left(\\theta \\right)} + 0.988771077936042 \\cos{\\left(\\theta \\right)} \\cos{\\left(\\psi - 0.1 \\right)}\\right)} & 0 & 0 & 0\\end{matrix}\\right]$"
      ],
      "text/plain": [
       "Matrix([\n",
       "[  21*(-0.988771077936042*sin(phi)*sin(theta)*sin(psi + 0.1) - 0.988771077936042*cos(phi)*cos(psi + 0.1))/(8*(0.149438132473599*sin(theta) + 0.988771077936042*cos(theta)*cos(psi + 0.1))) + 2.65481066201837*(0.988771077936042*sin(phi)*sin(theta)*cos(psi + 0.1) - 0.149438132473599*sin(phi)*cos(theta) - 0.988771077936042*sin(psi + 0.1)*cos(phi))*sin(psi + 0.1)*cos(theta)/(0.151135218058295*sin(theta) + cos(theta)*cos(psi + 0.1))**2,    21*(0.149438132473599*sin(phi)*sin(theta) + 0.988771077936042*sin(phi)*cos(theta)*cos(psi + 0.1))/(8*(0.149438132473599*sin(theta) + 0.988771077936042*cos(theta)*cos(psi + 0.1))) + 2.68495986711101*(0.988771077936042*sin(theta)*cos(psi + 0.1) - 0.149438132473599*cos(theta))*(0.988771077936042*sin(phi)*sin(theta)*cos(psi + 0.1) - 0.149438132473599*sin(phi)*cos(theta) - 0.988771077936042*sin(psi + 0.1)*cos(phi))/(0.151135218058295*sin(theta) + cos(theta)*cos(psi + 0.1))**2,   21*(0.988771077936042*sin(phi)*sin(psi + 0.1) + 0.988771077936042*sin(theta)*cos(phi)*cos(psi + 0.1) - 0.149438132473599*cos(phi)*cos(theta))/(8*(0.149438132473599*sin(theta) + 0.988771077936042*cos(theta)*cos(psi + 0.1))), 0, 0, 0],\n",
       "[   21*(0.988771077936042*sin(phi)*cos(psi + 0.1) - 0.988771077936042*sin(theta)*sin(psi + 0.1)*cos(phi))/(8*(0.149438132473599*sin(theta) + 0.988771077936042*cos(theta)*cos(psi + 0.1))) + 2.65481066201837*(0.988771077936042*sin(phi)*sin(psi + 0.1) + 0.988771077936042*sin(theta)*cos(phi)*cos(psi + 0.1) - 0.149438132473599*cos(phi)*cos(theta))*sin(psi + 0.1)*cos(theta)/(0.151135218058295*sin(theta) + cos(theta)*cos(psi + 0.1))**2,    21*(0.149438132473599*sin(theta)*cos(phi) + 0.988771077936042*cos(phi)*cos(theta)*cos(psi + 0.1))/(8*(0.149438132473599*sin(theta) + 0.988771077936042*cos(theta)*cos(psi + 0.1))) + 2.68495986711101*(0.988771077936042*sin(theta)*cos(psi + 0.1) - 0.149438132473599*cos(theta))*(0.988771077936042*sin(phi)*sin(psi + 0.1) + 0.988771077936042*sin(theta)*cos(phi)*cos(psi + 0.1) - 0.149438132473599*cos(phi)*cos(theta))/(0.151135218058295*sin(theta) + cos(theta)*cos(psi + 0.1))**2,  21*(-0.988771077936042*sin(phi)*sin(theta)*cos(psi + 0.1) + 0.149438132473599*sin(phi)*cos(theta) + 0.988771077936042*sin(psi + 0.1)*cos(phi))/(8*(0.149438132473599*sin(theta) + 0.988771077936042*cos(theta)*cos(psi + 0.1))), 0, 0, 0],\n",
       "[                                            21*(-0.988771077936042*sin(phi)*sin(psi)*sin(theta) - 0.988771077936042*cos(phi)*cos(psi))/(8*(0.149438132473599*sin(theta) + 0.988771077936042*cos(psi)*cos(theta))) + 2.65481066201837*(0.988771077936042*sin(phi)*sin(theta)*cos(psi) - 0.149438132473599*sin(phi)*cos(theta) - 0.988771077936042*sin(psi)*cos(phi))*sin(psi)*cos(theta)/(0.151135218058295*sin(theta) + cos(psi)*cos(theta))**2,                                        21*(0.149438132473599*sin(phi)*sin(theta) + 0.988771077936042*sin(phi)*cos(psi)*cos(theta))/(8*(0.149438132473599*sin(theta) + 0.988771077936042*cos(psi)*cos(theta))) + 2.68495986711101*(0.988771077936042*sin(theta)*cos(psi) - 0.149438132473599*cos(theta))*(0.988771077936042*sin(phi)*sin(theta)*cos(psi) - 0.149438132473599*sin(phi)*cos(theta) - 0.988771077936042*sin(psi)*cos(phi))/(0.151135218058295*sin(theta) + cos(psi)*cos(theta))**2,                     21*(0.988771077936042*sin(phi)*sin(psi) + 0.988771077936042*sin(theta)*cos(phi)*cos(psi) - 0.149438132473599*cos(phi)*cos(theta))/(8*(0.149438132473599*sin(theta) + 0.988771077936042*cos(psi)*cos(theta))), 0, 0, 0],\n",
       "[                                             21*(0.988771077936042*sin(phi)*cos(psi) - 0.988771077936042*sin(psi)*sin(theta)*cos(phi))/(8*(0.149438132473599*sin(theta) + 0.988771077936042*cos(psi)*cos(theta))) + 2.65481066201837*(0.988771077936042*sin(phi)*sin(psi) + 0.988771077936042*sin(theta)*cos(phi)*cos(psi) - 0.149438132473599*cos(phi)*cos(theta))*sin(psi)*cos(theta)/(0.151135218058295*sin(theta) + cos(psi)*cos(theta))**2,                                        21*(0.149438132473599*sin(theta)*cos(phi) + 0.988771077936042*cos(phi)*cos(psi)*cos(theta))/(8*(0.149438132473599*sin(theta) + 0.988771077936042*cos(psi)*cos(theta))) + 2.68495986711101*(0.988771077936042*sin(theta)*cos(psi) - 0.149438132473599*cos(theta))*(0.988771077936042*sin(phi)*sin(psi) + 0.988771077936042*sin(theta)*cos(phi)*cos(psi) - 0.149438132473599*cos(phi)*cos(theta))/(0.151135218058295*sin(theta) + cos(psi)*cos(theta))**2,                    21*(-0.988771077936042*sin(phi)*sin(theta)*cos(psi) + 0.149438132473599*sin(phi)*cos(theta) + 0.988771077936042*sin(psi)*cos(phi))/(8*(0.149438132473599*sin(theta) + 0.988771077936042*cos(psi)*cos(theta))), 0, 0, 0],\n",
       "[  21*(-0.988771077936042*sin(phi)*sin(theta)*sin(psi - 0.1) - 0.988771077936042*cos(phi)*cos(psi - 0.1))/(8*(0.149438132473599*sin(theta) + 0.988771077936042*cos(theta)*cos(psi - 0.1))) + 2.65481066201837*(0.988771077936042*sin(phi)*sin(theta)*cos(psi - 0.1) - 0.149438132473599*sin(phi)*cos(theta) - 0.988771077936042*sin(psi - 0.1)*cos(phi))*sin(psi - 0.1)*cos(theta)/(0.151135218058295*sin(theta) + cos(theta)*cos(psi - 0.1))**2,    21*(0.149438132473599*sin(phi)*sin(theta) + 0.988771077936042*sin(phi)*cos(theta)*cos(psi - 0.1))/(8*(0.149438132473599*sin(theta) + 0.988771077936042*cos(theta)*cos(psi - 0.1))) + 2.68495986711101*(0.988771077936042*sin(theta)*cos(psi - 0.1) - 0.149438132473599*cos(theta))*(0.988771077936042*sin(phi)*sin(theta)*cos(psi - 0.1) - 0.149438132473599*sin(phi)*cos(theta) - 0.988771077936042*sin(psi - 0.1)*cos(phi))/(0.151135218058295*sin(theta) + cos(theta)*cos(psi - 0.1))**2,   21*(0.988771077936042*sin(phi)*sin(psi - 0.1) + 0.988771077936042*sin(theta)*cos(phi)*cos(psi - 0.1) - 0.149438132473599*cos(phi)*cos(theta))/(8*(0.149438132473599*sin(theta) + 0.988771077936042*cos(theta)*cos(psi - 0.1))), 0, 0, 0],\n",
       "[   21*(0.988771077936042*sin(phi)*cos(psi - 0.1) - 0.988771077936042*sin(theta)*sin(psi - 0.1)*cos(phi))/(8*(0.149438132473599*sin(theta) + 0.988771077936042*cos(theta)*cos(psi - 0.1))) + 2.65481066201837*(0.988771077936042*sin(phi)*sin(psi - 0.1) + 0.988771077936042*sin(theta)*cos(phi)*cos(psi - 0.1) - 0.149438132473599*cos(phi)*cos(theta))*sin(psi - 0.1)*cos(theta)/(0.151135218058295*sin(theta) + cos(theta)*cos(psi - 0.1))**2,    21*(0.149438132473599*sin(theta)*cos(phi) + 0.988771077936042*cos(phi)*cos(theta)*cos(psi - 0.1))/(8*(0.149438132473599*sin(theta) + 0.988771077936042*cos(theta)*cos(psi - 0.1))) + 2.68495986711101*(0.988771077936042*sin(theta)*cos(psi - 0.1) - 0.149438132473599*cos(theta))*(0.988771077936042*sin(phi)*sin(psi - 0.1) + 0.988771077936042*sin(theta)*cos(phi)*cos(psi - 0.1) - 0.149438132473599*cos(phi)*cos(theta))/(0.151135218058295*sin(theta) + cos(theta)*cos(psi - 0.1))**2,  21*(-0.988771077936042*sin(phi)*sin(theta)*cos(psi - 0.1) + 0.149438132473599*sin(phi)*cos(theta) + 0.988771077936042*sin(psi - 0.1)*cos(phi))/(8*(0.149438132473599*sin(theta) + 0.988771077936042*cos(theta)*cos(psi - 0.1))), 0, 0, 0],\n",
       "[                                                                                                                                                                                                                                                                     21*(-sin(phi)*sin(psi)*sin(theta) - cos(phi)*cos(psi))/(8*cos(psi)*cos(theta)) + 21*(sin(phi)*sin(theta)*cos(psi) - sin(psi)*cos(phi))*sin(psi)/(8*cos(psi)**2*cos(theta)),                                                                                                                                                                                                                                                                                                                                                                                    21*(sin(phi)*sin(theta)*cos(psi) - sin(psi)*cos(phi))*sin(theta)/(8*cos(psi)*cos(theta)**2) + 21*sin(phi)/8,                                                                                                                                                    21*(sin(phi)*sin(psi) + sin(theta)*cos(phi)*cos(psi))/(8*cos(psi)*cos(theta)), 0, 0, 0],\n",
       "[                                                                                                                                                                                                                                                                      21*(sin(phi)*sin(psi) + sin(theta)*cos(phi)*cos(psi))*sin(psi)/(8*cos(psi)**2*cos(theta)) + 21*(sin(phi)*cos(psi) - sin(psi)*sin(theta)*cos(phi))/(8*cos(psi)*cos(theta)),                                                                                                                                                                                                                                                                                                                                                                                    21*(sin(phi)*sin(psi) + sin(theta)*cos(phi)*cos(psi))*sin(theta)/(8*cos(psi)*cos(theta)**2) + 21*cos(phi)/8,                                                                                                                                                   21*(-sin(phi)*sin(theta)*cos(psi) + sin(psi)*cos(phi))/(8*cos(psi)*cos(theta)), 0, 0, 0],\n",
       "[21*(-0.988771077936042*sin(phi)*sin(theta)*sin(psi + 0.1) - 0.988771077936042*cos(phi)*cos(psi + 0.1))/(8*(-0.149438132473599*sin(theta) + 0.988771077936042*cos(theta)*cos(psi + 0.1))) + 2.65481066201837*(0.988771077936042*sin(phi)*sin(theta)*cos(psi + 0.1) + 0.149438132473599*sin(phi)*cos(theta) - 0.988771077936042*sin(psi + 0.1)*cos(phi))*sin(psi + 0.1)*cos(theta)/(-0.151135218058295*sin(theta) + cos(theta)*cos(psi + 0.1))**2, 21*(-0.149438132473599*sin(phi)*sin(theta) + 0.988771077936042*sin(phi)*cos(theta)*cos(psi + 0.1))/(8*(-0.149438132473599*sin(theta) + 0.988771077936042*cos(theta)*cos(psi + 0.1))) + 2.68495986711101*(0.988771077936042*sin(theta)*cos(psi + 0.1) + 0.149438132473599*cos(theta))*(0.988771077936042*sin(phi)*sin(theta)*cos(psi + 0.1) + 0.149438132473599*sin(phi)*cos(theta) - 0.988771077936042*sin(psi + 0.1)*cos(phi))/(-0.151135218058295*sin(theta) + cos(theta)*cos(psi + 0.1))**2,  21*(0.988771077936042*sin(phi)*sin(psi + 0.1) + 0.988771077936042*sin(theta)*cos(phi)*cos(psi + 0.1) + 0.149438132473599*cos(phi)*cos(theta))/(8*(-0.149438132473599*sin(theta) + 0.988771077936042*cos(theta)*cos(psi + 0.1))), 0, 0, 0],\n",
       "[ 21*(0.988771077936042*sin(phi)*cos(psi + 0.1) - 0.988771077936042*sin(theta)*sin(psi + 0.1)*cos(phi))/(8*(-0.149438132473599*sin(theta) + 0.988771077936042*cos(theta)*cos(psi + 0.1))) + 2.65481066201837*(0.988771077936042*sin(phi)*sin(psi + 0.1) + 0.988771077936042*sin(theta)*cos(phi)*cos(psi + 0.1) + 0.149438132473599*cos(phi)*cos(theta))*sin(psi + 0.1)*cos(theta)/(-0.151135218058295*sin(theta) + cos(theta)*cos(psi + 0.1))**2, 21*(-0.149438132473599*sin(theta)*cos(phi) + 0.988771077936042*cos(phi)*cos(theta)*cos(psi + 0.1))/(8*(-0.149438132473599*sin(theta) + 0.988771077936042*cos(theta)*cos(psi + 0.1))) + 2.68495986711101*(0.988771077936042*sin(theta)*cos(psi + 0.1) + 0.149438132473599*cos(theta))*(0.988771077936042*sin(phi)*sin(psi + 0.1) + 0.988771077936042*sin(theta)*cos(phi)*cos(psi + 0.1) + 0.149438132473599*cos(phi)*cos(theta))/(-0.151135218058295*sin(theta) + cos(theta)*cos(psi + 0.1))**2, 21*(-0.988771077936042*sin(phi)*sin(theta)*cos(psi + 0.1) - 0.149438132473599*sin(phi)*cos(theta) + 0.988771077936042*sin(psi + 0.1)*cos(phi))/(8*(-0.149438132473599*sin(theta) + 0.988771077936042*cos(theta)*cos(psi + 0.1))), 0, 0, 0],\n",
       "[                                          21*(-0.988771077936042*sin(phi)*sin(psi)*sin(theta) - 0.988771077936042*cos(phi)*cos(psi))/(8*(-0.149438132473599*sin(theta) + 0.988771077936042*cos(psi)*cos(theta))) + 2.65481066201837*(0.988771077936042*sin(phi)*sin(theta)*cos(psi) + 0.149438132473599*sin(phi)*cos(theta) - 0.988771077936042*sin(psi)*cos(phi))*sin(psi)*cos(theta)/(-0.151135218058295*sin(theta) + cos(psi)*cos(theta))**2,                                     21*(-0.149438132473599*sin(phi)*sin(theta) + 0.988771077936042*sin(phi)*cos(psi)*cos(theta))/(8*(-0.149438132473599*sin(theta) + 0.988771077936042*cos(psi)*cos(theta))) + 2.68495986711101*(0.988771077936042*sin(theta)*cos(psi) + 0.149438132473599*cos(theta))*(0.988771077936042*sin(phi)*sin(theta)*cos(psi) + 0.149438132473599*sin(phi)*cos(theta) - 0.988771077936042*sin(psi)*cos(phi))/(-0.151135218058295*sin(theta) + cos(psi)*cos(theta))**2,                    21*(0.988771077936042*sin(phi)*sin(psi) + 0.988771077936042*sin(theta)*cos(phi)*cos(psi) + 0.149438132473599*cos(phi)*cos(theta))/(8*(-0.149438132473599*sin(theta) + 0.988771077936042*cos(psi)*cos(theta))), 0, 0, 0],\n",
       "[                                           21*(0.988771077936042*sin(phi)*cos(psi) - 0.988771077936042*sin(psi)*sin(theta)*cos(phi))/(8*(-0.149438132473599*sin(theta) + 0.988771077936042*cos(psi)*cos(theta))) + 2.65481066201837*(0.988771077936042*sin(phi)*sin(psi) + 0.988771077936042*sin(theta)*cos(phi)*cos(psi) + 0.149438132473599*cos(phi)*cos(theta))*sin(psi)*cos(theta)/(-0.151135218058295*sin(theta) + cos(psi)*cos(theta))**2,                                     21*(-0.149438132473599*sin(theta)*cos(phi) + 0.988771077936042*cos(phi)*cos(psi)*cos(theta))/(8*(-0.149438132473599*sin(theta) + 0.988771077936042*cos(psi)*cos(theta))) + 2.68495986711101*(0.988771077936042*sin(theta)*cos(psi) + 0.149438132473599*cos(theta))*(0.988771077936042*sin(phi)*sin(psi) + 0.988771077936042*sin(theta)*cos(phi)*cos(psi) + 0.149438132473599*cos(phi)*cos(theta))/(-0.151135218058295*sin(theta) + cos(psi)*cos(theta))**2,                   21*(-0.988771077936042*sin(phi)*sin(theta)*cos(psi) - 0.149438132473599*sin(phi)*cos(theta) + 0.988771077936042*sin(psi)*cos(phi))/(8*(-0.149438132473599*sin(theta) + 0.988771077936042*cos(psi)*cos(theta))), 0, 0, 0],\n",
       "[21*(-0.988771077936042*sin(phi)*sin(theta)*sin(psi - 0.1) - 0.988771077936042*cos(phi)*cos(psi - 0.1))/(8*(-0.149438132473599*sin(theta) + 0.988771077936042*cos(theta)*cos(psi - 0.1))) + 2.65481066201837*(0.988771077936042*sin(phi)*sin(theta)*cos(psi - 0.1) + 0.149438132473599*sin(phi)*cos(theta) - 0.988771077936042*sin(psi - 0.1)*cos(phi))*sin(psi - 0.1)*cos(theta)/(-0.151135218058295*sin(theta) + cos(theta)*cos(psi - 0.1))**2, 21*(-0.149438132473599*sin(phi)*sin(theta) + 0.988771077936042*sin(phi)*cos(theta)*cos(psi - 0.1))/(8*(-0.149438132473599*sin(theta) + 0.988771077936042*cos(theta)*cos(psi - 0.1))) + 2.68495986711101*(0.988771077936042*sin(theta)*cos(psi - 0.1) + 0.149438132473599*cos(theta))*(0.988771077936042*sin(phi)*sin(theta)*cos(psi - 0.1) + 0.149438132473599*sin(phi)*cos(theta) - 0.988771077936042*sin(psi - 0.1)*cos(phi))/(-0.151135218058295*sin(theta) + cos(theta)*cos(psi - 0.1))**2,  21*(0.988771077936042*sin(phi)*sin(psi - 0.1) + 0.988771077936042*sin(theta)*cos(phi)*cos(psi - 0.1) + 0.149438132473599*cos(phi)*cos(theta))/(8*(-0.149438132473599*sin(theta) + 0.988771077936042*cos(theta)*cos(psi - 0.1))), 0, 0, 0],\n",
       "[ 21*(0.988771077936042*sin(phi)*cos(psi - 0.1) - 0.988771077936042*sin(theta)*sin(psi - 0.1)*cos(phi))/(8*(-0.149438132473599*sin(theta) + 0.988771077936042*cos(theta)*cos(psi - 0.1))) + 2.65481066201837*(0.988771077936042*sin(phi)*sin(psi - 0.1) + 0.988771077936042*sin(theta)*cos(phi)*cos(psi - 0.1) + 0.149438132473599*cos(phi)*cos(theta))*sin(psi - 0.1)*cos(theta)/(-0.151135218058295*sin(theta) + cos(theta)*cos(psi - 0.1))**2, 21*(-0.149438132473599*sin(theta)*cos(phi) + 0.988771077936042*cos(phi)*cos(theta)*cos(psi - 0.1))/(8*(-0.149438132473599*sin(theta) + 0.988771077936042*cos(theta)*cos(psi - 0.1))) + 2.68495986711101*(0.988771077936042*sin(theta)*cos(psi - 0.1) + 0.149438132473599*cos(theta))*(0.988771077936042*sin(phi)*sin(psi - 0.1) + 0.988771077936042*sin(theta)*cos(phi)*cos(psi - 0.1) + 0.149438132473599*cos(phi)*cos(theta))/(-0.151135218058295*sin(theta) + cos(theta)*cos(psi - 0.1))**2, 21*(-0.988771077936042*sin(phi)*sin(theta)*cos(psi - 0.1) - 0.149438132473599*sin(phi)*cos(theta) + 0.988771077936042*sin(psi - 0.1)*cos(phi))/(8*(-0.149438132473599*sin(theta) + 0.988771077936042*cos(theta)*cos(psi - 0.1))), 0, 0, 0]])"
      ]
     },
     "execution_count": 136,
     "metadata": {},
     "output_type": "execute_result"
    }
   ],
   "source": [
    "C"
   ]
  },
  {
   "cell_type": "code",
   "execution_count": 137,
   "id": "3cce9aca",
   "metadata": {},
   "outputs": [
    {
     "data": {
      "text/plain": [
       "(14, 6)"
      ]
     },
     "execution_count": 137,
     "metadata": {},
     "output_type": "execute_result"
    }
   ],
   "source": [
    "C.shape"
   ]
  },
  {
   "cell_type": "code",
   "execution_count": 138,
   "id": "5c743e75",
   "metadata": {},
   "outputs": [],
   "source": [
    "D = gs.jacobian([tau_1, tau_2, tau_3, tau_4])"
   ]
  },
  {
   "cell_type": "code",
   "execution_count": 139,
   "id": "acecf211",
   "metadata": {},
   "outputs": [
    {
     "data": {
      "text/latex": [
       "$\\displaystyle \\left[\\begin{matrix}0 & 0 & 0 & 0\\\\0 & 0 & 0 & 0\\\\0 & 0 & 0 & 0\\\\0 & 0 & 0 & 0\\\\0 & 0 & 0 & 0\\\\0 & 0 & 0 & 0\\\\0 & 0 & 0 & 0\\\\0 & 0 & 0 & 0\\\\0 & 0 & 0 & 0\\\\0 & 0 & 0 & 0\\\\0 & 0 & 0 & 0\\\\0 & 0 & 0 & 0\\\\0 & 0 & 0 & 0\\\\0 & 0 & 0 & 0\\end{matrix}\\right]$"
      ],
      "text/plain": [
       "Matrix([\n",
       "[0, 0, 0, 0],\n",
       "[0, 0, 0, 0],\n",
       "[0, 0, 0, 0],\n",
       "[0, 0, 0, 0],\n",
       "[0, 0, 0, 0],\n",
       "[0, 0, 0, 0],\n",
       "[0, 0, 0, 0],\n",
       "[0, 0, 0, 0],\n",
       "[0, 0, 0, 0],\n",
       "[0, 0, 0, 0],\n",
       "[0, 0, 0, 0],\n",
       "[0, 0, 0, 0],\n",
       "[0, 0, 0, 0],\n",
       "[0, 0, 0, 0]])"
      ]
     },
     "execution_count": 139,
     "metadata": {},
     "output_type": "execute_result"
    }
   ],
   "source": [
    "D"
   ]
  },
  {
   "cell_type": "code",
   "execution_count": 140,
   "id": "9d3cdf2e",
   "metadata": {},
   "outputs": [
    {
     "data": {
      "text/plain": [
       "(14, 4)"
      ]
     },
     "execution_count": 140,
     "metadata": {},
     "output_type": "execute_result"
    }
   ],
   "source": [
    "D.shape"
   ]
  },
  {
   "cell_type": "markdown",
   "id": "ab31ae0d",
   "metadata": {},
   "source": [
    "#### C matrix is 14x6, x is 6x1 -> 14x6 x 6x1 = 14x1 = y. D = zeroes"
   ]
  },
  {
   "cell_type": "markdown",
   "id": "190d99c4",
   "metadata": {},
   "source": [
    "we can now use LQR to find L matrix, similar to K matrix"
   ]
  },
  {
   "cell_type": "markdown",
   "id": "81b951f2",
   "metadata": {},
   "source": [
    "convert C from sympy to numpy, object to float"
   ]
  },
  {
   "cell_type": "code",
   "execution_count": 141,
   "id": "b737d6bf",
   "metadata": {},
   "outputs": [],
   "source": [
    "C_eq = np.array(C.subs(phi, phie).subs(psi, psie).subs(theta, thetae), dtype=float)"
   ]
  },
  {
   "cell_type": "code",
   "execution_count": 142,
   "id": "2dfa8509",
   "metadata": {},
   "outputs": [
    {
     "data": {
      "text/plain": [
       "array([[-2.651426  ,  0.04000563, -0.3987219 ,  0.        ,  0.        ,\n",
       "         0.        ],\n",
       "       [-0.04000563,  2.68556349,  0.26337851,  0.        ,  0.        ,\n",
       "         0.        ],\n",
       "       [-2.625     ,  0.        , -0.39672995,  0.        ,  0.        ,\n",
       "         0.        ],\n",
       "       [ 0.        ,  2.68495987,  0.        ,  0.        ,  0.        ,\n",
       "         0.        ],\n",
       "       [-2.651426  , -0.04000563, -0.3987219 ,  0.        ,  0.        ,\n",
       "         0.        ],\n",
       "       [ 0.04000563,  2.68556349, -0.26337851,  0.        ,  0.        ,\n",
       "         0.        ],\n",
       "       [-2.625     ,  0.        ,  0.        ,  0.        ,  0.        ,\n",
       "         0.        ],\n",
       "       [ 0.        ,  2.625     ,  0.        ,  0.        ,  0.        ,\n",
       "         0.        ],\n",
       "       [-2.651426  , -0.04000563,  0.3987219 ,  0.        ,  0.        ,\n",
       "         0.        ],\n",
       "       [ 0.04000563,  2.68556349,  0.26337851,  0.        ,  0.        ,\n",
       "         0.        ],\n",
       "       [-2.625     ,  0.        ,  0.39672995,  0.        ,  0.        ,\n",
       "         0.        ],\n",
       "       [ 0.        ,  2.68495987,  0.        ,  0.        ,  0.        ,\n",
       "         0.        ],\n",
       "       [-2.651426  ,  0.04000563,  0.3987219 ,  0.        ,  0.        ,\n",
       "         0.        ],\n",
       "       [-0.04000563,  2.68556349, -0.26337851,  0.        ,  0.        ,\n",
       "         0.        ]])"
      ]
     },
     "execution_count": 142,
     "metadata": {},
     "output_type": "execute_result"
    }
   ],
   "source": [
    "C_eq"
   ]
  },
  {
   "cell_type": "code",
   "execution_count": 143,
   "id": "d5878d5c",
   "metadata": {},
   "outputs": [
    {
     "data": {
      "text/plain": [
       "dtype('float64')"
      ]
     },
     "execution_count": 143,
     "metadata": {},
     "output_type": "execute_result"
    }
   ],
   "source": [
    "C_eq.dtype"
   ]
  },
  {
   "cell_type": "code",
   "execution_count": 144,
   "id": "42ba5f97",
   "metadata": {},
   "outputs": [],
   "source": [
    "Q2 = np.eye(6)\n",
    "R2 = np.eye(14)\n",
    "\n",
    "L = lqr(A.T, C_eq.T, Q2, R2).T"
   ]
  },
  {
   "cell_type": "code",
   "execution_count": 145,
   "id": "746c7ccb",
   "metadata": {},
   "outputs": [
    {
     "data": {
      "text/plain": [
       "array([[-4.30474997e-01, -6.49515535e-03, -4.26184577e-01,\n",
       "         1.11728553e-17, -4.30474997e-01,  6.49515535e-03,\n",
       "        -4.26184577e-01,  1.09233458e-17, -4.30474997e-01,\n",
       "         6.49515535e-03, -4.26184577e-01,  1.11728553e-17,\n",
       "        -4.30474997e-01, -6.49515535e-03],\n",
       "       [ 6.39636391e-03,  4.29385591e-01,  3.82730943e-18,\n",
       "         4.29289080e-01, -6.39636391e-03,  4.29385591e-01,\n",
       "        -1.09233458e-17,  4.19702301e-01, -6.39636391e-03,\n",
       "         4.29385591e-01, -2.56740011e-17,  4.29289080e-01,\n",
       "         6.39636391e-03,  4.29385591e-01],\n",
       "       [-6.02532678e-01,  3.98007140e-01, -5.99522524e-01,\n",
       "        -9.98284038e-17, -6.02532678e-01, -3.98007140e-01,\n",
       "        -4.84872561e-16, -9.75990603e-17,  6.02532678e-01,\n",
       "         3.98007140e-01,  5.99522524e-01, -9.98284038e-17,\n",
       "         6.02532678e-01, -3.98007140e-01],\n",
       "       [-3.59781870e-01,  2.37656410e-01, -3.57984459e-01,\n",
       "        -1.91867698e-16, -3.59781870e-01, -2.37656410e-01,\n",
       "        -4.50681758e-16, -1.87582955e-16,  3.59781870e-01,\n",
       "         2.37656410e-01,  3.57984459e-01, -1.91867698e-16,\n",
       "         3.59781870e-01, -2.37656410e-01],\n",
       "       [ 5.64839191e-03,  3.79174501e-01,  6.30051196e-17,\n",
       "         3.79089276e-01, -5.64839191e-03,  3.79174501e-01,\n",
       "         4.19355833e-17,  3.70623547e-01, -5.64839191e-03,\n",
       "         3.79174501e-01,  2.08660471e-17,  3.79089276e-01,\n",
       "         5.64839191e-03,  3.79174501e-01],\n",
       "       [-3.79556298e-01, -5.72687645e-03, -3.75773370e-01,\n",
       "        -9.09985601e-17, -3.79556298e-01,  5.72687645e-03,\n",
       "        -3.75773370e-01, -8.89664025e-17, -3.79556298e-01,\n",
       "         5.72687645e-03, -3.75773370e-01, -9.09985601e-17,\n",
       "        -3.79556298e-01, -5.72687645e-03]])"
      ]
     },
     "execution_count": 145,
     "metadata": {},
     "output_type": "execute_result"
    }
   ],
   "source": [
    "L"
   ]
  },
  {
   "cell_type": "code",
   "execution_count": 146,
   "id": "d5991924",
   "metadata": {},
   "outputs": [],
   "source": [
    "Lm = sym.Matrix(L)"
   ]
  },
  {
   "cell_type": "code",
   "execution_count": 147,
   "id": "83b083ad",
   "metadata": {
    "scrolled": true
   },
   "outputs": [
    {
     "data": {
      "text/latex": [
       "$\\displaystyle \\left[\\begin{array}{cccccccccccccc}-0.430474996774142 & -0.00649515534889632 & -0.426184576854397 & 1.11728552993621 \\cdot 10^{-17} & -0.430474996774142 & 0.00649515534889634 & -0.426184576854397 & 1.09233458272816 \\cdot 10^{-17} & -0.430474996774142 & 0.00649515534889644 & -0.426184576854397 & 1.11728552993621 \\cdot 10^{-17} & -0.430474996774142 & -0.00649515534889642\\\\0.00639636391175674 & 0.429385590579361 & 3.82730942806707 \\cdot 10^{-18} & 0.429289080032672 & -0.00639636391175673 & 0.429385590579361 & -1.09233458272816 \\cdot 10^{-17} & 0.419702301285523 & -0.00639636391175676 & 0.429385590579361 & -2.56740010826302 \\cdot 10^{-17} & 0.429289080032672 & 0.00639636391175671 & 0.429385590579361\\\\-0.602532677852903 & 0.39800713985946 & -0.599522524179761 & -9.98284037629455 \\cdot 10^{-17} & -0.602532677852903 & -0.398007139859461 & -4.84872560641696 \\cdot 10^{-16} & -9.75990602644257 \\cdot 10^{-17} & 0.602532677852902 & 0.39800713985946 & 0.59952252417976 & -9.98284037629455 \\cdot 10^{-17} & 0.602532677852902 & -0.398007139859461\\\\-0.359781870240725 & 0.237656410035834 & -0.35798445948104 & -1.91867697566844 \\cdot 10^{-16} & -0.359781870240725 & -0.237656410035834 & -4.50681757980486 \\cdot 10^{-16} & -1.87582955068483 \\cdot 10^{-16} & 0.359781870240724 & 0.237656410035834 & 0.357984459481039 & -1.91867697566844 \\cdot 10^{-16} & 0.359781870240724 & -0.237656410035834\\\\0.00564839191080431 & 0.379174501311052 & 6.30051195605186 \\cdot 10^{-17} & 0.379089276424108 & -0.00564839191080418 & 0.379174501311052 & 4.19355833089057 \\cdot 10^{-17} & 0.370623547414141 & -0.00564839191080422 & 0.379174501311052 & 2.08660470572928 \\cdot 10^{-17} & 0.379089276424108 & 0.00564839191080427 & 0.379174501311052\\\\-0.37955629823654 & -0.00572687644851029 & -0.375773370273658 & -9.09985601386814 \\cdot 10^{-17} & -0.37955629823654 & 0.00572687644851011 & -0.375773370273657 & -8.89664025485273 \\cdot 10^{-17} & -0.37955629823654 & 0.00572687644851027 & -0.375773370273657 & -9.09985601386814 \\cdot 10^{-17} & -0.37955629823654 & -0.00572687644851045\\end{array}\\right]$"
      ],
      "text/plain": [
       "Matrix([\n",
       "[ -0.430474996774142, -0.00649515534889632,   -0.426184576854397,  1.11728552993621e-17,   -0.430474996774142, 0.00649515534889634,    -0.426184576854397,  1.09233458272816e-17,   -0.430474996774142, 0.00649515534889644,    -0.426184576854397,  1.11728552993621e-17,  -0.430474996774142, -0.00649515534889642],\n",
       "[0.00639636391175674,    0.429385590579361, 3.82730942806707e-18,     0.429289080032672, -0.00639636391175673,   0.429385590579361, -1.09233458272816e-17,     0.419702301285523, -0.00639636391175676,   0.429385590579361, -2.56740010826302e-17,     0.429289080032672, 0.00639636391175671,    0.429385590579361],\n",
       "[ -0.602532677852903,     0.39800713985946,   -0.599522524179761, -9.98284037629455e-17,   -0.602532677852903,  -0.398007139859461, -4.84872560641696e-16, -9.75990602644257e-17,    0.602532677852902,    0.39800713985946,      0.59952252417976, -9.98284037629455e-17,   0.602532677852902,   -0.398007139859461],\n",
       "[ -0.359781870240725,    0.237656410035834,    -0.35798445948104, -1.91867697566844e-16,   -0.359781870240725,  -0.237656410035834, -4.50681757980486e-16, -1.87582955068483e-16,    0.359781870240724,   0.237656410035834,     0.357984459481039, -1.91867697566844e-16,   0.359781870240724,   -0.237656410035834],\n",
       "[0.00564839191080431,    0.379174501311052, 6.30051195605186e-17,     0.379089276424108, -0.00564839191080418,   0.379174501311052,  4.19355833089057e-17,     0.370623547414141, -0.00564839191080422,   0.379174501311052,  2.08660470572928e-17,     0.379089276424108, 0.00564839191080427,    0.379174501311052],\n",
       "[  -0.37955629823654, -0.00572687644851029,   -0.375773370273658, -9.09985601386814e-17,    -0.37955629823654, 0.00572687644851011,    -0.375773370273657, -8.89664025485273e-17,    -0.37955629823654, 0.00572687644851027,    -0.375773370273657, -9.09985601386814e-17,   -0.37955629823654, -0.00572687644851045]])"
      ]
     },
     "execution_count": 147,
     "metadata": {},
     "output_type": "execute_result"
    }
   ],
   "source": [
    "Lm"
   ]
  },
  {
   "cell_type": "code",
   "execution_count": 148,
   "id": "e070e30d",
   "metadata": {},
   "outputs": [
    {
     "data": {
      "text/plain": [
       "(6, 14)"
      ]
     },
     "execution_count": 148,
     "metadata": {},
     "output_type": "execute_result"
    }
   ],
   "source": [
    "L.shape"
   ]
  },
  {
   "cell_type": "code",
   "execution_count": 149,
   "id": "5dc5f0e3",
   "metadata": {},
   "outputs": [
    {
     "data": {
      "text/plain": [
       "array([-6.91210085+0.j        , -1.01063246+0.j        ,\n",
       "       -0.92798754+0.49706281j, -0.92798754-0.49706281j,\n",
       "       -7.01022677+0.j        , -1.01033229+0.j        ])"
      ]
     },
     "execution_count": 149,
     "metadata": {},
     "output_type": "execute_result"
    }
   ],
   "source": [
    "np.linalg.eigvals(A-L@C_eq)"
   ]
  },
  {
   "cell_type": "markdown",
   "id": "932b4911",
   "metadata": {},
   "source": [
    "## A, B, C, K, L"
   ]
  },
  {
   "cell_type": "code",
   "execution_count": 150,
   "id": "1aec8831",
   "metadata": {},
   "outputs": [
    {
     "data": {
      "text/plain": [
       "(array([[ 0.,  0.,  0.,  0.,  0.,  1.],\n",
       "        [ 0.,  0.,  0.,  0.,  1., -0.],\n",
       "        [ 0.,  0.,  0.,  1.,  0.,  0.],\n",
       "        [ 0.,  0.,  0.,  0., -0., -0.],\n",
       "        [ 0.,  0.,  0.,  0.,  0.,  0.],\n",
       "        [ 0.,  0.,  0.,  0.,  0.,  0.]]),\n",
       " array([[ 0.00000000e+00,  0.00000000e+00,  0.00000000e+00,\n",
       "          0.00000000e+00],\n",
       "        [ 0.00000000e+00,  0.00000000e+00,  0.00000000e+00,\n",
       "          0.00000000e+00],\n",
       "        [ 0.00000000e+00,  0.00000000e+00,  0.00000000e+00,\n",
       "          0.00000000e+00],\n",
       "        [-2.80949551e-34, -3.74659401e-02,  7.49318801e-02,\n",
       "         -3.74659401e-02],\n",
       "        [-4.58825436e-18, -6.48929117e-02,  0.00000000e+00,\n",
       "          6.48929117e-02],\n",
       "        [-6.22171946e-02,  0.00000000e+00, -7.61940882e-18,\n",
       "          0.00000000e+00]]),\n",
       " array([[-2.651426  ,  0.04000563, -0.3987219 ,  0.        ,  0.        ,\n",
       "          0.        ],\n",
       "        [-0.04000563,  2.68556349,  0.26337851,  0.        ,  0.        ,\n",
       "          0.        ],\n",
       "        [-2.625     ,  0.        , -0.39672995,  0.        ,  0.        ,\n",
       "          0.        ],\n",
       "        [ 0.        ,  2.68495987,  0.        ,  0.        ,  0.        ,\n",
       "          0.        ],\n",
       "        [-2.651426  , -0.04000563, -0.3987219 ,  0.        ,  0.        ,\n",
       "          0.        ],\n",
       "        [ 0.04000563,  2.68556349, -0.26337851,  0.        ,  0.        ,\n",
       "          0.        ],\n",
       "        [-2.625     ,  0.        ,  0.        ,  0.        ,  0.        ,\n",
       "          0.        ],\n",
       "        [ 0.        ,  2.625     ,  0.        ,  0.        ,  0.        ,\n",
       "          0.        ],\n",
       "        [-2.651426  , -0.04000563,  0.3987219 ,  0.        ,  0.        ,\n",
       "          0.        ],\n",
       "        [ 0.04000563,  2.68556349,  0.26337851,  0.        ,  0.        ,\n",
       "          0.        ],\n",
       "        [-2.625     ,  0.        ,  0.39672995,  0.        ,  0.        ,\n",
       "          0.        ],\n",
       "        [ 0.        ,  2.68495987,  0.        ,  0.        ,  0.        ,\n",
       "          0.        ],\n",
       "        [-2.651426  ,  0.04000563,  0.3987219 ,  0.        ,  0.        ,\n",
       "          0.        ],\n",
       "        [-0.04000563,  2.68556349, -0.26337851,  0.        ,  0.        ,\n",
       "          0.        ]]),\n",
       " array([[-3.16227766e+01,  9.43936584e-15, -1.12813549e-15,\n",
       "         -3.62320459e-15,  2.38750234e-15, -3.34144958e+01],\n",
       "        [ 1.50563102e-15, -2.23606798e+01, -1.29099445e+00,\n",
       "         -3.62665206e+00, -1.98639914e+01,  1.77324385e-15],\n",
       "        [ 4.28505300e-15, -3.26568343e-16,  2.58198890e+00,\n",
       "          7.25330412e+00,  5.59843515e-16,  2.71545960e-16],\n",
       "        [-9.66335724e-15,  2.23606798e+01, -1.29099445e+00,\n",
       "         -3.62665206e+00,  1.98639914e+01, -6.13688534e-15]]),\n",
       " array([[-4.30474997e-01, -6.49515535e-03, -4.26184577e-01,\n",
       "          1.11728553e-17, -4.30474997e-01,  6.49515535e-03,\n",
       "         -4.26184577e-01,  1.09233458e-17, -4.30474997e-01,\n",
       "          6.49515535e-03, -4.26184577e-01,  1.11728553e-17,\n",
       "         -4.30474997e-01, -6.49515535e-03],\n",
       "        [ 6.39636391e-03,  4.29385591e-01,  3.82730943e-18,\n",
       "          4.29289080e-01, -6.39636391e-03,  4.29385591e-01,\n",
       "         -1.09233458e-17,  4.19702301e-01, -6.39636391e-03,\n",
       "          4.29385591e-01, -2.56740011e-17,  4.29289080e-01,\n",
       "          6.39636391e-03,  4.29385591e-01],\n",
       "        [-6.02532678e-01,  3.98007140e-01, -5.99522524e-01,\n",
       "         -9.98284038e-17, -6.02532678e-01, -3.98007140e-01,\n",
       "         -4.84872561e-16, -9.75990603e-17,  6.02532678e-01,\n",
       "          3.98007140e-01,  5.99522524e-01, -9.98284038e-17,\n",
       "          6.02532678e-01, -3.98007140e-01],\n",
       "        [-3.59781870e-01,  2.37656410e-01, -3.57984459e-01,\n",
       "         -1.91867698e-16, -3.59781870e-01, -2.37656410e-01,\n",
       "         -4.50681758e-16, -1.87582955e-16,  3.59781870e-01,\n",
       "          2.37656410e-01,  3.57984459e-01, -1.91867698e-16,\n",
       "          3.59781870e-01, -2.37656410e-01],\n",
       "        [ 5.64839191e-03,  3.79174501e-01,  6.30051196e-17,\n",
       "          3.79089276e-01, -5.64839191e-03,  3.79174501e-01,\n",
       "          4.19355833e-17,  3.70623547e-01, -5.64839191e-03,\n",
       "          3.79174501e-01,  2.08660471e-17,  3.79089276e-01,\n",
       "          5.64839191e-03,  3.79174501e-01],\n",
       "        [-3.79556298e-01, -5.72687645e-03, -3.75773370e-01,\n",
       "         -9.09985601e-17, -3.79556298e-01,  5.72687645e-03,\n",
       "         -3.75773370e-01, -8.89664025e-17, -3.79556298e-01,\n",
       "          5.72687645e-03, -3.75773370e-01, -9.09985601e-17,\n",
       "         -3.79556298e-01, -5.72687645e-03]]))"
      ]
     },
     "execution_count": 150,
     "metadata": {},
     "output_type": "execute_result"
    }
   ],
   "source": [
    "A, B, C_eq, K, L"
   ]
  },
  {
   "cell_type": "markdown",
   "id": "df440dea",
   "metadata": {},
   "source": [
    "## -BK"
   ]
  },
  {
   "cell_type": "code",
   "execution_count": 151,
   "id": "db82bb87",
   "metadata": {},
   "outputs": [
    {
     "data": {
      "text/plain": [
       "array([[ 0.00000000e+00,  0.00000000e+00,  0.00000000e+00,\n",
       "         0.00000000e+00,  0.00000000e+00,  0.00000000e+00],\n",
       "       [ 0.00000000e+00,  0.00000000e+00,  0.00000000e+00,\n",
       "         0.00000000e+00,  0.00000000e+00,  0.00000000e+00],\n",
       "       [ 0.00000000e+00,  0.00000000e+00,  0.00000000e+00,\n",
       "         0.00000000e+00,  0.00000000e+00,  0.00000000e+00],\n",
       "       [-6.26723959e-16,  0.00000000e+00, -2.90209924e-01,\n",
       "        -8.15255572e-01,  0.00000000e+00, -1.83835380e-16],\n",
       "       [ 5.79694826e-16, -2.90209924e+00,  0.00000000e+00,\n",
       "        -5.55111512e-17, -2.57806448e+00,  3.59997110e-16],\n",
       "       [-1.96748044e+00,  5.87290861e-16, -5.05161962e-17,\n",
       "        -1.70159735e-16,  1.48543697e-16, -2.07895619e+00]])"
      ]
     },
     "execution_count": 151,
     "metadata": {},
     "output_type": "execute_result"
    }
   ],
   "source": [
    "-B@K"
   ]
  },
  {
   "cell_type": "markdown",
   "id": "78e385b7",
   "metadata": {},
   "source": [
    "## LC"
   ]
  },
  {
   "cell_type": "code",
   "execution_count": 152,
   "id": "a44e2788",
   "metadata": {},
   "outputs": [
    {
     "data": {
      "text/plain": [
       "array([[ 7.92273330e+00,  2.01227923e-16,  1.30537942e-16,\n",
       "         0.00000000e+00,  0.00000000e+00,  0.00000000e+00],\n",
       "       [ 2.08166817e-16,  8.02055906e+00, -4.16333634e-17,\n",
       "         0.00000000e+00,  0.00000000e+00,  0.00000000e+00],\n",
       "       [ 8.23299762e-15, -1.55431223e-15,  1.85597508e+00,\n",
       "         0.00000000e+00,  0.00000000e+00,  0.00000000e+00],\n",
       "       [ 8.58861593e-15, -3.77475828e-15,  1.10823232e+00,\n",
       "         0.00000000e+00,  0.00000000e+00,  0.00000000e+00],\n",
       "       [-7.80625564e-16,  7.08265845e+00, -4.16333634e-17,\n",
       "         0.00000000e+00,  0.00000000e+00,  0.00000000e+00],\n",
       "       [ 6.98559347e+00, -1.69829428e-15,  3.85975973e-16,\n",
       "         0.00000000e+00,  0.00000000e+00,  0.00000000e+00]])"
      ]
     },
     "execution_count": 152,
     "metadata": {},
     "output_type": "execute_result"
    }
   ],
   "source": [
    "L@C_eq"
   ]
  },
  {
   "cell_type": "code",
   "execution_count": 153,
   "id": "11aff880",
   "metadata": {},
   "outputs": [
    {
     "data": {
      "text/plain": [
       "array([[-7.92273330e+00, -2.01227923e-16, -1.30537942e-16,\n",
       "         0.00000000e+00,  0.00000000e+00,  1.00000000e+00],\n",
       "       [-2.08166817e-16, -8.02055906e+00,  4.16333634e-17,\n",
       "         0.00000000e+00,  1.00000000e+00, -0.00000000e+00],\n",
       "       [-8.23299762e-15,  1.55431223e-15, -1.85597508e+00,\n",
       "         1.00000000e+00,  0.00000000e+00,  0.00000000e+00],\n",
       "       [-9.21533989e-15,  3.77475828e-15, -1.39844224e+00,\n",
       "        -8.15255572e-01, -0.00000000e+00, -1.83835380e-16],\n",
       "       [ 1.36032039e-15, -9.98475769e+00,  4.16333634e-17,\n",
       "        -5.55111512e-17, -2.57806448e+00,  3.59997110e-16],\n",
       "       [-8.95307391e+00,  2.28558514e-15, -4.36492170e-16,\n",
       "        -1.70159735e-16,  1.48543697e-16, -2.07895619e+00]])"
      ]
     },
     "execution_count": 153,
     "metadata": {},
     "output_type": "execute_result"
    }
   ],
   "source": [
    "A-B@K-L@C_eq"
   ]
  },
  {
   "cell_type": "markdown",
   "id": "fc3c1521",
   "metadata": {},
   "source": [
    "## F = A, -BK, LC, A-BK-LC"
   ]
  },
  {
   "cell_type": "code",
   "execution_count": 154,
   "id": "0661719c",
   "metadata": {},
   "outputs": [],
   "source": [
    "F = np.block([[A, -B@K],[L@C_eq, A-B@K-L@C_eq]])"
   ]
  },
  {
   "cell_type": "code",
   "execution_count": 155,
   "id": "09a619f5",
   "metadata": {},
   "outputs": [],
   "source": [
    "f_eigvals = np.linalg.eigvals(F)"
   ]
  },
  {
   "cell_type": "code",
   "execution_count": 156,
   "id": "6f5e83b3",
   "metadata": {},
   "outputs": [
    {
     "data": {
      "text/plain": [
       "array([-6.91210085+0.j        , -7.01022677+0.j        ,\n",
       "       -1.03947809+0.94178859j, -1.03947809-0.94178859j,\n",
       "       -1.28903224+1.11377517j, -1.28903224-1.11377517j,\n",
       "       -0.92798754+0.49706281j, -0.92798754-0.49706281j,\n",
       "       -1.01063246+0.j        , -1.01033229+0.j        ,\n",
       "       -0.40762779+0.35220663j, -0.40762779-0.35220663j])"
      ]
     },
     "execution_count": 156,
     "metadata": {},
     "output_type": "execute_result"
    }
   ],
   "source": [
    "f_eigvals"
   ]
  },
  {
   "cell_type": "code",
   "execution_count": 157,
   "id": "7b7fe337",
   "metadata": {},
   "outputs": [
    {
     "data": {
      "text/plain": [
       "True"
      ]
     },
     "execution_count": 157,
     "metadata": {},
     "output_type": "execute_result"
    }
   ],
   "source": [
    "all(i < 0 for i in f_eigvals)"
   ]
  },
  {
   "cell_type": "code",
   "execution_count": 158,
   "id": "c6184bf7",
   "metadata": {},
   "outputs": [
    {
     "data": {
      "text/plain": [
       "array([[0],\n",
       "       [0],\n",
       "       [0],\n",
       "       [0],\n",
       "       [0],\n",
       "       [0]])"
      ]
     },
     "execution_count": 158,
     "metadata": {},
     "output_type": "execute_result"
    }
   ],
   "source": [
    "np.array([[0],[0],[0],[0],[0],[0]])"
   ]
  },
  {
   "cell_type": "code",
   "execution_count": 159,
   "id": "5ea620a8",
   "metadata": {},
   "outputs": [
    {
     "data": {
      "text/plain": [
       "(6, 6)"
      ]
     },
     "execution_count": 159,
     "metadata": {},
     "output_type": "execute_result"
    }
   ],
   "source": [
    "A.shape"
   ]
  },
  {
   "cell_type": "code",
   "execution_count": 160,
   "id": "e61032c8",
   "metadata": {},
   "outputs": [
    {
     "data": {
      "text/plain": [
       "(6, 4)"
      ]
     },
     "execution_count": 160,
     "metadata": {},
     "output_type": "execute_result"
    }
   ],
   "source": [
    "B.shape"
   ]
  },
  {
   "cell_type": "code",
   "execution_count": 161,
   "id": "d090e237",
   "metadata": {},
   "outputs": [
    {
     "data": {
      "text/plain": [
       "(14, 6)"
      ]
     },
     "execution_count": 161,
     "metadata": {},
     "output_type": "execute_result"
    }
   ],
   "source": [
    "C_eq.shape"
   ]
  },
  {
   "cell_type": "code",
   "execution_count": 162,
   "id": "ba188712",
   "metadata": {},
   "outputs": [
    {
     "data": {
      "text/plain": [
       "(6, 14)"
      ]
     },
     "execution_count": 162,
     "metadata": {},
     "output_type": "execute_result"
    }
   ],
   "source": [
    "L.shape"
   ]
  },
  {
   "cell_type": "code",
   "execution_count": 163,
   "id": "fcdb8978",
   "metadata": {},
   "outputs": [
    {
     "data": {
      "text/plain": [
       "(4, 6)"
      ]
     },
     "execution_count": 163,
     "metadata": {},
     "output_type": "execute_result"
    }
   ],
   "source": [
    "K.shape"
   ]
  },
  {
   "cell_type": "code",
   "execution_count": 164,
   "id": "09b944fa",
   "metadata": {},
   "outputs": [],
   "source": [
    "xhat = np.array([[0.],[0.],[0.],[0.],[0.],[0.]])"
   ]
  },
  {
   "cell_type": "code",
   "execution_count": 165,
   "id": "05290143",
   "metadata": {},
   "outputs": [
    {
     "data": {
      "text/plain": [
       "((6, 1), (6, 1), (14, 1), (6, 1))"
      ]
     },
     "execution_count": 165,
     "metadata": {},
     "output_type": "execute_result"
    }
   ],
   "source": [
    "apart = A@xhat\n",
    "bpart = -B @ K @ xhat\n",
    "cpart = C @ xhat\n",
    "lpart = L @ cpart\n",
    "\n",
    "apart.shape, bpart.shape, cpart.shape, lpart.shape"
   ]
  },
  {
   "cell_type": "code",
   "execution_count": 166,
   "id": "f19864c9",
   "metadata": {},
   "outputs": [
    {
     "data": {
      "text/plain": [
       "array([[ 0.,  0.,  0.,  0.,  0.,  1.],\n",
       "       [ 0.,  0.,  0.,  0.,  1., -0.],\n",
       "       [ 0.,  0.,  0.,  1.,  0.,  0.],\n",
       "       [ 0.,  0.,  0.,  0., -0., -0.],\n",
       "       [ 0.,  0.,  0.,  0.,  0.,  0.],\n",
       "       [ 0.,  0.,  0.,  0.,  0.,  0.]])"
      ]
     },
     "execution_count": 166,
     "metadata": {},
     "output_type": "execute_result"
    }
   ],
   "source": [
    "A"
   ]
  },
  {
   "cell_type": "code",
   "execution_count": 167,
   "id": "c199af28",
   "metadata": {},
   "outputs": [
    {
     "data": {
      "text/plain": [
       "array([[ 0.00000000e+00,  0.00000000e+00,  0.00000000e+00,\n",
       "         0.00000000e+00],\n",
       "       [ 0.00000000e+00,  0.00000000e+00,  0.00000000e+00,\n",
       "         0.00000000e+00],\n",
       "       [ 0.00000000e+00,  0.00000000e+00,  0.00000000e+00,\n",
       "         0.00000000e+00],\n",
       "       [-2.80949551e-34, -3.74659401e-02,  7.49318801e-02,\n",
       "        -3.74659401e-02],\n",
       "       [-4.58825436e-18, -6.48929117e-02,  0.00000000e+00,\n",
       "         6.48929117e-02],\n",
       "       [-6.22171946e-02,  0.00000000e+00, -7.61940882e-18,\n",
       "         0.00000000e+00]])"
      ]
     },
     "execution_count": 167,
     "metadata": {},
     "output_type": "execute_result"
    }
   ],
   "source": [
    "B"
   ]
  },
  {
   "cell_type": "code",
   "execution_count": 168,
   "id": "68995cec",
   "metadata": {},
   "outputs": [
    {
     "data": {
      "text/plain": [
       "array([[-2.651426  ,  0.04000563, -0.3987219 ,  0.        ,  0.        ,\n",
       "         0.        ],\n",
       "       [-0.04000563,  2.68556349,  0.26337851,  0.        ,  0.        ,\n",
       "         0.        ],\n",
       "       [-2.625     ,  0.        , -0.39672995,  0.        ,  0.        ,\n",
       "         0.        ],\n",
       "       [ 0.        ,  2.68495987,  0.        ,  0.        ,  0.        ,\n",
       "         0.        ],\n",
       "       [-2.651426  , -0.04000563, -0.3987219 ,  0.        ,  0.        ,\n",
       "         0.        ],\n",
       "       [ 0.04000563,  2.68556349, -0.26337851,  0.        ,  0.        ,\n",
       "         0.        ],\n",
       "       [-2.625     ,  0.        ,  0.        ,  0.        ,  0.        ,\n",
       "         0.        ],\n",
       "       [ 0.        ,  2.625     ,  0.        ,  0.        ,  0.        ,\n",
       "         0.        ],\n",
       "       [-2.651426  , -0.04000563,  0.3987219 ,  0.        ,  0.        ,\n",
       "         0.        ],\n",
       "       [ 0.04000563,  2.68556349,  0.26337851,  0.        ,  0.        ,\n",
       "         0.        ],\n",
       "       [-2.625     ,  0.        ,  0.39672995,  0.        ,  0.        ,\n",
       "         0.        ],\n",
       "       [ 0.        ,  2.68495987,  0.        ,  0.        ,  0.        ,\n",
       "         0.        ],\n",
       "       [-2.651426  ,  0.04000563,  0.3987219 ,  0.        ,  0.        ,\n",
       "         0.        ],\n",
       "       [-0.04000563,  2.68556349, -0.26337851,  0.        ,  0.        ,\n",
       "         0.        ]])"
      ]
     },
     "execution_count": 168,
     "metadata": {},
     "output_type": "execute_result"
    }
   ],
   "source": [
    "C_eq"
   ]
  },
  {
   "cell_type": "code",
   "execution_count": 169,
   "id": "8fcafeb8",
   "metadata": {},
   "outputs": [
    {
     "data": {
      "text/plain": [
       "array([[-3.16227766e+01,  9.43936584e-15, -1.12813549e-15,\n",
       "        -3.62320459e-15,  2.38750234e-15, -3.34144958e+01],\n",
       "       [ 1.50563102e-15, -2.23606798e+01, -1.29099445e+00,\n",
       "        -3.62665206e+00, -1.98639914e+01,  1.77324385e-15],\n",
       "       [ 4.28505300e-15, -3.26568343e-16,  2.58198890e+00,\n",
       "         7.25330412e+00,  5.59843515e-16,  2.71545960e-16],\n",
       "       [-9.66335724e-15,  2.23606798e+01, -1.29099445e+00,\n",
       "        -3.62665206e+00,  1.98639914e+01, -6.13688534e-15]])"
      ]
     },
     "execution_count": 169,
     "metadata": {},
     "output_type": "execute_result"
    }
   ],
   "source": [
    "K"
   ]
  },
  {
   "cell_type": "code",
   "execution_count": 170,
   "id": "b801bed1",
   "metadata": {},
   "outputs": [
    {
     "data": {
      "text/plain": [
       "array([[-4.30474997e-01, -6.49515535e-03, -4.26184577e-01,\n",
       "         1.11728553e-17, -4.30474997e-01,  6.49515535e-03,\n",
       "        -4.26184577e-01,  1.09233458e-17, -4.30474997e-01,\n",
       "         6.49515535e-03, -4.26184577e-01,  1.11728553e-17,\n",
       "        -4.30474997e-01, -6.49515535e-03],\n",
       "       [ 6.39636391e-03,  4.29385591e-01,  3.82730943e-18,\n",
       "         4.29289080e-01, -6.39636391e-03,  4.29385591e-01,\n",
       "        -1.09233458e-17,  4.19702301e-01, -6.39636391e-03,\n",
       "         4.29385591e-01, -2.56740011e-17,  4.29289080e-01,\n",
       "         6.39636391e-03,  4.29385591e-01],\n",
       "       [-6.02532678e-01,  3.98007140e-01, -5.99522524e-01,\n",
       "        -9.98284038e-17, -6.02532678e-01, -3.98007140e-01,\n",
       "        -4.84872561e-16, -9.75990603e-17,  6.02532678e-01,\n",
       "         3.98007140e-01,  5.99522524e-01, -9.98284038e-17,\n",
       "         6.02532678e-01, -3.98007140e-01],\n",
       "       [-3.59781870e-01,  2.37656410e-01, -3.57984459e-01,\n",
       "        -1.91867698e-16, -3.59781870e-01, -2.37656410e-01,\n",
       "        -4.50681758e-16, -1.87582955e-16,  3.59781870e-01,\n",
       "         2.37656410e-01,  3.57984459e-01, -1.91867698e-16,\n",
       "         3.59781870e-01, -2.37656410e-01],\n",
       "       [ 5.64839191e-03,  3.79174501e-01,  6.30051196e-17,\n",
       "         3.79089276e-01, -5.64839191e-03,  3.79174501e-01,\n",
       "         4.19355833e-17,  3.70623547e-01, -5.64839191e-03,\n",
       "         3.79174501e-01,  2.08660471e-17,  3.79089276e-01,\n",
       "         5.64839191e-03,  3.79174501e-01],\n",
       "       [-3.79556298e-01, -5.72687645e-03, -3.75773370e-01,\n",
       "        -9.09985601e-17, -3.79556298e-01,  5.72687645e-03,\n",
       "        -3.75773370e-01, -8.89664025e-17, -3.79556298e-01,\n",
       "         5.72687645e-03, -3.75773370e-01, -9.09985601e-17,\n",
       "        -3.79556298e-01, -5.72687645e-03]])"
      ]
     },
     "execution_count": 170,
     "metadata": {},
     "output_type": "execute_result"
    }
   ],
   "source": [
    "L"
   ]
  },
  {
   "cell_type": "code",
   "execution_count": null,
   "id": "038b40fa",
   "metadata": {},
   "outputs": [],
   "source": []
  },
  {
   "cell_type": "code",
   "execution_count": null,
   "id": "b85978d3",
   "metadata": {},
   "outputs": [],
   "source": []
  },
  {
   "cell_type": "code",
   "execution_count": null,
   "id": "848321ee",
   "metadata": {},
   "outputs": [],
   "source": []
  }
 ],
 "metadata": {
  "kernelspec": {
   "display_name": "Python 3 (ipykernel)",
   "language": "python",
   "name": "python3"
  },
  "language_info": {
   "codemirror_mode": {
    "name": "ipython",
    "version": 3
   },
   "file_extension": ".py",
   "mimetype": "text/x-python",
   "name": "python",
   "nbconvert_exporter": "python",
   "pygments_lexer": "ipython3",
   "version": "3.11.1"
  }
 },
 "nbformat": 4,
 "nbformat_minor": 5
}
